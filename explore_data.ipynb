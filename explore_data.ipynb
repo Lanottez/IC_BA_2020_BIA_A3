{
 "cells": [
  {
   "cell_type": "code",
   "execution_count": null,
   "metadata": {},
   "outputs": [],
   "source": [
    "import pandas as pd\n",
    "import numpy as np\n",
    "import math \n",
    "from datetime import datetime\n",
    "\n",
    "import matplotlib.pyplot as plt\n",
    "import seaborn as sns"
   ]
  },
  {
   "cell_type": "code",
   "execution_count": null,
   "metadata": {},
   "outputs": [],
   "source": [
    "subscriptions = pd.read_csv('subscriptionsdataFINAL.csv') "
   ]
  },
  {
   "cell_type": "code",
   "execution_count": null,
   "metadata": {},
   "outputs": [],
   "source": [
    "visitation_part1 = pd.read_csv('visitationdataPART1.csv') \n",
    "\n",
    "visitation_part2 = pd.read_csv('visitationdataPART2.csv') "
   ]
  },
  {
   "cell_type": "code",
   "execution_count": null,
   "metadata": {},
   "outputs": [],
   "source": [
    "subscriptions.head()"
   ]
  },
  {
   "cell_type": "code",
   "execution_count": null,
   "metadata": {},
   "outputs": [],
   "source": [
    "visitation_part1.head()"
   ]
  },
  {
   "cell_type": "code",
   "execution_count": null,
   "metadata": {},
   "outputs": [],
   "source": [
    "visitation_part2.head()"
   ]
  },
  {
   "cell_type": "code",
   "execution_count": null,
   "metadata": {},
   "outputs": [],
   "source": [
    "#not needed\n",
    "#from dateutil import parser, tz\n",
    "#LDN=tz.gettz(\"Europe/London\")\n",
    "#subscriptions['Join Date'] = subscriptions['Join Date'].apply(lambda x: parser.parse(x).replace(tzinfo=LDN))"
   ]
  },
  {
   "cell_type": "code",
   "execution_count": null,
   "metadata": {},
   "outputs": [],
   "source": [
    "#convert the join and end date to_date\n",
    "subscriptions['Join Date'] =  pd.to_datetime(subscriptions['Join Date'].str.upper(), format='%b-%y', yearfirst=False)\n",
    "subscriptions['End Date'] =  pd.to_datetime(subscriptions['End Date'].str.upper(), format='%b-%y', yearfirst=False)\n",
    "subscriptions.head()"
   ]
  },
  {
   "cell_type": "code",
   "execution_count": null,
   "metadata": {},
   "outputs": [],
   "source": [
    "subscriptions.dtypes"
   ]
  },
  {
   "cell_type": "code",
   "execution_count": null,
   "metadata": {},
   "outputs": [],
   "source": [
    "subscriptions.describe()"
   ]
  },
  {
   "cell_type": "code",
   "execution_count": null,
   "metadata": {},
   "outputs": [],
   "source": [
    "date_min = min (subscriptions['Join Date'].min(),subscriptions['End Date'].min() )\n",
    "date_max = max (subscriptions['Join Date'].max(),subscriptions['End Date'].max() )\n",
    "date_min, date_max"
   ]
  },
  {
   "cell_type": "code",
   "execution_count": null,
   "metadata": {},
   "outputs": [],
   "source": [
    "dates = pd.date_range(date_min, date_max, freq = 'MS')\n",
    "dates"
   ]
  },
  {
   "cell_type": "code",
   "execution_count": null,
   "metadata": {
    "scrolled": false
   },
   "outputs": [],
   "source": [
    "##we need to know each month kow many activemembers we have to calculate the churn \n",
    "##create the dataframe to help us calculate it\n",
    "customers_total = pd.DataFrame({'Date':dates})\n",
    "customers_total.head(), customers_total.shape"
   ]
  },
  {
   "cell_type": "code",
   "execution_count": null,
   "metadata": {
    "scrolled": false
   },
   "outputs": [],
   "source": [
    "##add total month membership in dataframe subscriptions\n",
    "subscriptions['Duration'] = np.where(subscriptions['End Date'].isna(), \n",
    "                                     (date_max - subscriptions['Join Date']), \n",
    "                                     (subscriptions['End Date'] - subscriptions['Join Date']) )\n",
    "##convert the difference in months\n",
    "subscriptions['Duration'] = (subscriptions['Duration'] /  np.timedelta64(1, 'M') ).apply(math.floor)\n",
    "subscriptions.head()"
   ]
  },
  {
   "cell_type": "code",
   "execution_count": null,
   "metadata": {},
   "outputs": [],
   "source": [
    "index_date = (dates == subscriptions.iloc[3,1] ).argmax()\n",
    "dates[index_date]"
   ]
  },
  {
   "cell_type": "code",
   "execution_count": null,
   "metadata": {},
   "outputs": [],
   "source": [
    "##create list with count of members in each month\n",
    "members_count =  [0] * len(dates)"
   ]
  },
  {
   "cell_type": "code",
   "execution_count": null,
   "metadata": {},
   "outputs": [],
   "source": [
    "def add_count(join_date,duration, dates, members_count):\n",
    "    index = (dates == join_date).argmax()\n",
    "    \n",
    "    for i in range(index,index + duration+1):\n",
    "        members_count[i] = members_count[i] +1 \n",
    "    \n",
    "    return members_count"
   ]
  },
  {
   "cell_type": "code",
   "execution_count": null,
   "metadata": {},
   "outputs": [],
   "source": [
    "subscriptions.apply(lambda row: add_count(row['Join Date'], row['Duration'],\n",
    "                                          dates, members_count), axis=1)"
   ]
  },
  {
   "cell_type": "code",
   "execution_count": null,
   "metadata": {},
   "outputs": [],
   "source": [
    "#members_count"
   ]
  },
  {
   "cell_type": "code",
   "execution_count": null,
   "metadata": {},
   "outputs": [],
   "source": [
    "##test of lamda for short dataframe\n",
    "#subs_short = subscriptions.sort_values(by=['Join Date'])\n",
    "#limit = 50\n",
    "#subs_short = subs_short[:limit]\n",
    "#subs_short = subs_short.sort_values(by=['End Date'])\n",
    "#subs_short"
   ]
  },
  {
   "cell_type": "code",
   "execution_count": null,
   "metadata": {},
   "outputs": [],
   "source": [
    "##test cont\n",
    "#members_count_short =  [0] * len(dates)\n",
    "#subs_short.apply(lambda row: add_count(row['Join Date'], row['Duration'],\n",
    "#                                         dates, members_count_short), axis=1)\n",
    "#members_count_short"
   ]
  },
  {
   "cell_type": "code",
   "execution_count": null,
   "metadata": {},
   "outputs": [],
   "source": [
    "customers_total = customers_total.assign(Members= members_count)\n",
    "customers_total"
   ]
  },
  {
   "cell_type": "code",
   "execution_count": null,
   "metadata": {
    "scrolled": true
   },
   "outputs": [],
   "source": [
    "## members join \n",
    "join_frame = subscriptions.groupby(['Join Date']).count()['CustomerID'].reset_index()\n",
    "join_frame = join_frame.rename(columns={'Join Date':'Date','CustomerID':'New Members' })\n",
    "customers_total = pd.merge(customers_total, join_frame, on = 'Date', how='outer')\n",
    "customers_total"
   ]
  },
  {
   "cell_type": "code",
   "execution_count": null,
   "metadata": {},
   "outputs": [],
   "source": [
    "## members leave \n",
    "end_frame = subscriptions.groupby(['End Date']).count()['CustomerID'].reset_index()\n",
    "end_frame = end_frame.rename(columns={'End Date':'Date','CustomerID':'Cancellations' })\n",
    "customers_total = pd.merge(customers_total, end_frame, on = 'Date', how='outer')\n",
    "customers_total"
   ]
  },
  {
   "cell_type": "code",
   "execution_count": null,
   "metadata": {},
   "outputs": [],
   "source": [
    "##calulate churn =  number of ending subscription / total members\n",
    "customers_total['Churn']= customers_total['Cancellations'] / customers_total['Members']\n",
    "customers_total"
   ]
  },
  {
   "cell_type": "code",
   "execution_count": null,
   "metadata": {},
   "outputs": [],
   "source": [
    "##calulate membership growth =  number of new members subscription / total members\n",
    "customers_total['Membership Growth']= customers_total['New Members'] / (customers_total['Members'] - customers_total['New Members'])\n",
    "customers_total['Membership Growth'] =  customers_total['Membership Growth'].replace([np.inf, -np.inf], np.nan) \n",
    "customers_total"
   ]
  },
  {
   "cell_type": "code",
   "execution_count": null,
   "metadata": {},
   "outputs": [],
   "source": [
    "#Churn rate vs Time Graph\n",
    "plt.figure(figsize=(10,10))\n",
    "plt.plot(customers_total['Date'], customers_total['Churn'])\n",
    "plt.title('Churn rate Over Time')\n",
    "plt.ylabel('Churn rate')\n",
    "plt.xlabel('Date')\n",
    "plt.axvline(x=datetime.strptime('2016-01-01', '%Y-%m-%d'), linestyle='--', color = 'r')\n",
    "plt.show()"
   ]
  },
  {
   "cell_type": "code",
   "execution_count": null,
   "metadata": {
    "scrolled": true
   },
   "outputs": [],
   "source": [
    "#Membership Growth vs Time Graph\n",
    "plt.figure(figsize=(10,10))\n",
    "plt.plot(customers_total['Date'], customers_total['Membership Growth'])\n",
    "plt.title('Membership Growth Over Time')\n",
    "plt.ylabel('Membership Growth')\n",
    "plt.xlabel('Date')\n",
    "plt.axvline(x=datetime.strptime('2016-01-01', '%Y-%m-%d'), linestyle='--', color = 'r')\n",
    "plt.show()"
   ]
  },
  {
   "cell_type": "code",
   "execution_count": null,
   "metadata": {},
   "outputs": [],
   "source": [
    "#Membership vs Time Graph\n",
    "plt.figure(figsize=(10,10))\n",
    "plt.plot(customers_total['Date'], customers_total['Members'])\n",
    "plt.title('Members Number Over Time')\n",
    "plt.ylabel('Member')\n",
    "plt.xlabel('Date')\n",
    "#plt.axvline(x=datetime.strptime('2016-01-01', '%Y-%m-%d'), linestyle='--', color = 'r')\n",
    "plt.show()"
   ]
  },
  {
   "cell_type": "code",
   "execution_count": null,
   "metadata": {},
   "outputs": [],
   "source": [
    "#Changes in number of gyms\n",
    "clubs = subscriptions.Club.unique()\n",
    "members_count_club = {club:([0]*len(dates))  for club in clubs}\n",
    "subscriptions_perclub = subscriptions.groupby(subscriptions.Club)\n",
    "for club in clubs:\n",
    "    subscriptions_perclub.get_group(club).apply(lambda row : add_count(row['Join Date'], row['Duration'],\n",
    "                                                    dates, members_count_club[club]), axis=1 )\n",
    "\n",
    "members_count_club"
   ]
  },
  {
   "cell_type": "code",
   "execution_count": null,
   "metadata": {},
   "outputs": [],
   "source": [
    "members_per_club = pd.DataFrame({'Date':dates,'Club':clubs[0], 'Members':members_count_club[clubs[0]]})\n",
    "\n",
    "for club in clubs[1:]:\n",
    "    club_list = [club]*len(dates);\n",
    "    club_df = pd.DataFrame({'Date':dates,'Club':club_list, 'Members':members_count_club[club]})\n",
    "    members_per_club = pd.merge(members_per_club, club_df, on = ['Date','Club','Members'], how='outer')\n",
    "\n",
    "members_per_club['Members'] = members_per_club['Members'].replace(0,np.nan)\n",
    "members_per_club.to_csv(r'members_per_club.csv')"
   ]
  },
  {
   "cell_type": "code",
   "execution_count": null,
   "metadata": {},
   "outputs": [],
   "source": [
    "members_per_club"
   ]
  },
  {
   "cell_type": "code",
   "execution_count": null,
   "metadata": {},
   "outputs": [],
   "source": [
    "## members join per club\n",
    "join_frame_club = subscriptions.groupby(['Join Date', 'Club']).count()['CustomerID'].reset_index()\n",
    "join_frame_club = join_frame_club.rename(columns={'Join Date':'Date','CustomerID':'New Members' })\n",
    "members_per_club = pd.merge(members_per_club, join_frame_club, on = ['Date', 'Club'], how='outer')\n",
    "\n",
    "members_per_club\n"
   ]
  },
  {
   "cell_type": "code",
   "execution_count": null,
   "metadata": {},
   "outputs": [],
   "source": [
    "## members leave per club\n",
    "cancel_frame_club = subscriptions.groupby(['End Date', 'Club']).count()['CustomerID'].reset_index()\n",
    "cancel_frame_club = cancel_frame_club.rename(columns={'End Date':'Date','CustomerID':'Cancellations' })\n",
    "members_per_club = pd.merge(members_per_club, cancel_frame_club, on = ['Date', 'Club'], how='outer')\n",
    "\n",
    "members_per_club\n"
   ]
  },
  {
   "cell_type": "code",
   "execution_count": null,
   "metadata": {},
   "outputs": [],
   "source": [
    "##calulate membership growth =  number of new members subscription / total members\n",
    "members_per_club['Membership Growth']= members_per_club['New Members'] / (members_per_club['Members'] - members_per_club['New Members'])\n",
    "members_per_club['Membership Growth'] = members_per_club['Membership Growth'].replace([np.inf, -np.inf], np.nan) \n",
    "customers_total"
   ]
  },
  {
   "cell_type": "code",
   "execution_count": null,
   "metadata": {},
   "outputs": [],
   "source": [
    "##calulate churn =  number of ending subscription / total members\n",
    "members_per_club['Churn']= members_per_club['Cancellations'] / members_per_club['Members']\n",
    "members_per_club"
   ]
  },
  {
   "cell_type": "code",
   "execution_count": null,
   "metadata": {},
   "outputs": [],
   "source": [
    "for interv in range(4, len(clubs)+1, 4):\n",
    "    plt.figure(figsize=(15,15))\n",
    "    for club in clubs[interv-4:interv]:\n",
    "        churn_club = members_per_club[members_per_club.Club == club]\n",
    "        plt.plot(churn_club[\"Date\"], churn_club[\"Churn\"], label = club)\n",
    "        print(club)\n",
    "    plt.legend()\n",
    "\n"
   ]
  },
  {
   "cell_type": "code",
   "execution_count": null,
   "metadata": {},
   "outputs": [],
   "source": [
    "data_increase_dates = members_per_club[ ( members_per_club.Date > \n",
    "                                       pd.to_datetime(('Sep-15').upper(), format='%b-%y', yearfirst=False) ) & \n",
    "                                     ( members_per_club.Date <\n",
    "                                       pd.to_datetime(('Feb-17').upper(), format='%b-%y', yearfirst=False) ) ]\n",
    "\n",
    "mean_churn_per_club = data_increase_dates.groupby('Club').Churn.agg(['mean'])\n",
    "\n",
    "mean_churn_per_club.sort_values(by='mean',ascending=False).plot.bar(figsize=(15,15))\n",
    "\n"
   ]
  },
  {
   "cell_type": "code",
   "execution_count": null,
   "metadata": {},
   "outputs": [],
   "source": []
  },
  {
   "cell_type": "code",
   "execution_count": null,
   "metadata": {},
   "outputs": [],
   "source": []
  }
 ],
 "metadata": {
  "kernelspec": {
   "display_name": "Python 3",
   "language": "python",
   "name": "python3"
  },
  "language_info": {
   "codemirror_mode": {
    "name": "ipython",
    "version": 3
   },
   "file_extension": ".py",
   "mimetype": "text/x-python",
   "name": "python",
   "nbconvert_exporter": "python",
   "pygments_lexer": "ipython3",
   "version": "3.8.3"
  }
 },
 "nbformat": 4,
 "nbformat_minor": 4
}
