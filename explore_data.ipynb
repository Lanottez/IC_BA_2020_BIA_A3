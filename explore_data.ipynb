{
 "cells": [
  {
   "cell_type": "code",
   "execution_count": 82,
   "metadata": {},
   "outputs": [],
   "source": [
    "import pandas as pd\n",
    "import numpy as np\n",
    "import math \n",
    "from datetime import datetime\n",
    "\n",
    "import matplotlib.pyplot as plt\n",
    "import seaborn as sns"
   ]
  },
  {
   "cell_type": "code",
   "execution_count": 29,
   "metadata": {},
   "outputs": [],
   "source": [
    "subscriptions = pd.read_csv('subscriptionsdataFINAL.csv') "
   ]
  },
  {
   "cell_type": "code",
   "execution_count": null,
   "metadata": {},
   "outputs": [],
   "source": [
    "visitation_part1 = pd.read_csv('visitationdataPART1.csv') \n",
    "\n",
    "visitation_part2 = pd.read_csv('visitationdataPART2.csv') "
   ]
  },
  {
   "cell_type": "code",
   "execution_count": 8,
   "metadata": {},
   "outputs": [
    {
     "data": {
      "text/html": [
       "<div>\n",
       "<style scoped>\n",
       "    .dataframe tbody tr th:only-of-type {\n",
       "        vertical-align: middle;\n",
       "    }\n",
       "\n",
       "    .dataframe tbody tr th {\n",
       "        vertical-align: top;\n",
       "    }\n",
       "\n",
       "    .dataframe thead th {\n",
       "        text-align: right;\n",
       "    }\n",
       "</style>\n",
       "<table border=\"1\" class=\"dataframe\">\n",
       "  <thead>\n",
       "    <tr style=\"text-align: right;\">\n",
       "      <th></th>\n",
       "      <th>Club</th>\n",
       "      <th>Join Date</th>\n",
       "      <th>Affluence</th>\n",
       "      <th>Gender</th>\n",
       "      <th>Subscription Type</th>\n",
       "      <th>End Date</th>\n",
       "      <th>CustomerID</th>\n",
       "      <th>BirthYear</th>\n",
       "    </tr>\n",
       "  </thead>\n",
       "  <tbody>\n",
       "    <tr>\n",
       "      <th>0</th>\n",
       "      <td>Enfield</td>\n",
       "      <td>Dec-11</td>\n",
       "      <td>C1</td>\n",
       "      <td>Male</td>\n",
       "      <td>Standard</td>\n",
       "      <td>Dec-11</td>\n",
       "      <td>1</td>\n",
       "      <td>1992</td>\n",
       "    </tr>\n",
       "    <tr>\n",
       "      <th>1</th>\n",
       "      <td>Greenwich</td>\n",
       "      <td>Jun-18</td>\n",
       "      <td>A</td>\n",
       "      <td>Female</td>\n",
       "      <td>Standard</td>\n",
       "      <td>NaN</td>\n",
       "      <td>2</td>\n",
       "      <td>1972</td>\n",
       "    </tr>\n",
       "    <tr>\n",
       "      <th>2</th>\n",
       "      <td>Islington</td>\n",
       "      <td>Mar-18</td>\n",
       "      <td>B</td>\n",
       "      <td>Female</td>\n",
       "      <td>Standard</td>\n",
       "      <td>Oct-18</td>\n",
       "      <td>3</td>\n",
       "      <td>1985</td>\n",
       "    </tr>\n",
       "    <tr>\n",
       "      <th>3</th>\n",
       "      <td>Hounslow</td>\n",
       "      <td>Oct-15</td>\n",
       "      <td>C1</td>\n",
       "      <td>Female</td>\n",
       "      <td>Standard</td>\n",
       "      <td>Dec-15</td>\n",
       "      <td>4</td>\n",
       "      <td>1972</td>\n",
       "    </tr>\n",
       "    <tr>\n",
       "      <th>4</th>\n",
       "      <td>Barnet</td>\n",
       "      <td>May-15</td>\n",
       "      <td>C2</td>\n",
       "      <td>Male</td>\n",
       "      <td>Standard</td>\n",
       "      <td>Dec-15</td>\n",
       "      <td>5</td>\n",
       "      <td>1982</td>\n",
       "    </tr>\n",
       "  </tbody>\n",
       "</table>\n",
       "</div>"
      ],
      "text/plain": [
       "        Club Join Date Affluence  Gender Subscription Type End Date  \\\n",
       "0    Enfield    Dec-11        C1    Male          Standard   Dec-11   \n",
       "1  Greenwich    Jun-18         A  Female          Standard      NaN   \n",
       "2  Islington    Mar-18         B  Female          Standard   Oct-18   \n",
       "3   Hounslow    Oct-15        C1  Female          Standard   Dec-15   \n",
       "4     Barnet    May-15        C2    Male          Standard   Dec-15   \n",
       "\n",
       "   CustomerID  BirthYear  \n",
       "0           1       1992  \n",
       "1           2       1972  \n",
       "2           3       1985  \n",
       "3           4       1972  \n",
       "4           5       1982  "
      ]
     },
     "execution_count": 8,
     "metadata": {},
     "output_type": "execute_result"
    }
   ],
   "source": [
    "subscriptions.head()"
   ]
  },
  {
   "cell_type": "code",
   "execution_count": 3,
   "metadata": {},
   "outputs": [
    {
     "data": {
      "text/html": [
       "<div>\n",
       "<style scoped>\n",
       "    .dataframe tbody tr th:only-of-type {\n",
       "        vertical-align: middle;\n",
       "    }\n",
       "\n",
       "    .dataframe tbody tr th {\n",
       "        vertical-align: top;\n",
       "    }\n",
       "\n",
       "    .dataframe thead th {\n",
       "        text-align: right;\n",
       "    }\n",
       "</style>\n",
       "<table border=\"1\" class=\"dataframe\">\n",
       "  <thead>\n",
       "    <tr style=\"text-align: right;\">\n",
       "      <th></th>\n",
       "      <th>CustomerID</th>\n",
       "      <th>visitdate</th>\n",
       "      <th>TimeofVisit</th>\n",
       "      <th>peakvisits</th>\n",
       "    </tr>\n",
       "  </thead>\n",
       "  <tbody>\n",
       "    <tr>\n",
       "      <th>0</th>\n",
       "      <td>126444</td>\n",
       "      <td>2009-05-01</td>\n",
       "      <td>05:45</td>\n",
       "      <td>False</td>\n",
       "    </tr>\n",
       "    <tr>\n",
       "      <th>1</th>\n",
       "      <td>456610</td>\n",
       "      <td>2009-05-01</td>\n",
       "      <td>05:45</td>\n",
       "      <td>False</td>\n",
       "    </tr>\n",
       "    <tr>\n",
       "      <th>2</th>\n",
       "      <td>293763</td>\n",
       "      <td>2009-05-01</td>\n",
       "      <td>06:00</td>\n",
       "      <td>False</td>\n",
       "    </tr>\n",
       "    <tr>\n",
       "      <th>3</th>\n",
       "      <td>151253</td>\n",
       "      <td>2009-05-01</td>\n",
       "      <td>06:15</td>\n",
       "      <td>False</td>\n",
       "    </tr>\n",
       "    <tr>\n",
       "      <th>4</th>\n",
       "      <td>476569</td>\n",
       "      <td>2009-05-01</td>\n",
       "      <td>06:15</td>\n",
       "      <td>False</td>\n",
       "    </tr>\n",
       "  </tbody>\n",
       "</table>\n",
       "</div>"
      ],
      "text/plain": [
       "   CustomerID   visitdate TimeofVisit  peakvisits\n",
       "0      126444  2009-05-01       05:45       False\n",
       "1      456610  2009-05-01       05:45       False\n",
       "2      293763  2009-05-01       06:00       False\n",
       "3      151253  2009-05-01       06:15       False\n",
       "4      476569  2009-05-01       06:15       False"
      ]
     },
     "execution_count": 3,
     "metadata": {},
     "output_type": "execute_result"
    }
   ],
   "source": [
    "visitation_part1.head()"
   ]
  },
  {
   "cell_type": "code",
   "execution_count": 4,
   "metadata": {},
   "outputs": [
    {
     "data": {
      "text/html": [
       "<div>\n",
       "<style scoped>\n",
       "    .dataframe tbody tr th:only-of-type {\n",
       "        vertical-align: middle;\n",
       "    }\n",
       "\n",
       "    .dataframe tbody tr th {\n",
       "        vertical-align: top;\n",
       "    }\n",
       "\n",
       "    .dataframe thead th {\n",
       "        text-align: right;\n",
       "    }\n",
       "</style>\n",
       "<table border=\"1\" class=\"dataframe\">\n",
       "  <thead>\n",
       "    <tr style=\"text-align: right;\">\n",
       "      <th></th>\n",
       "      <th>CustomerID</th>\n",
       "      <th>visitdate</th>\n",
       "      <th>TimeofVisit</th>\n",
       "      <th>peakvisits</th>\n",
       "    </tr>\n",
       "  </thead>\n",
       "  <tbody>\n",
       "    <tr>\n",
       "      <th>0</th>\n",
       "      <td>270665</td>\n",
       "      <td>2015-08-16</td>\n",
       "      <td>19:15</td>\n",
       "      <td>True</td>\n",
       "    </tr>\n",
       "    <tr>\n",
       "      <th>1</th>\n",
       "      <td>51641</td>\n",
       "      <td>2015-08-16</td>\n",
       "      <td>19:15</td>\n",
       "      <td>True</td>\n",
       "    </tr>\n",
       "    <tr>\n",
       "      <th>2</th>\n",
       "      <td>443825</td>\n",
       "      <td>2015-08-16</td>\n",
       "      <td>19:15</td>\n",
       "      <td>True</td>\n",
       "    </tr>\n",
       "    <tr>\n",
       "      <th>3</th>\n",
       "      <td>792203</td>\n",
       "      <td>2015-08-16</td>\n",
       "      <td>19:15</td>\n",
       "      <td>True</td>\n",
       "    </tr>\n",
       "    <tr>\n",
       "      <th>4</th>\n",
       "      <td>191880</td>\n",
       "      <td>2015-08-16</td>\n",
       "      <td>19:15</td>\n",
       "      <td>True</td>\n",
       "    </tr>\n",
       "  </tbody>\n",
       "</table>\n",
       "</div>"
      ],
      "text/plain": [
       "   CustomerID   visitdate TimeofVisit  peakvisits\n",
       "0      270665  2015-08-16       19:15        True\n",
       "1       51641  2015-08-16       19:15        True\n",
       "2      443825  2015-08-16       19:15        True\n",
       "3      792203  2015-08-16       19:15        True\n",
       "4      191880  2015-08-16       19:15        True"
      ]
     },
     "execution_count": 4,
     "metadata": {},
     "output_type": "execute_result"
    }
   ],
   "source": [
    "visitation_part2.head()"
   ]
  },
  {
   "cell_type": "code",
   "execution_count": 5,
   "metadata": {},
   "outputs": [],
   "source": [
    "#not needed\n",
    "#from dateutil import parser, tz\n",
    "#LDN=tz.gettz(\"Europe/London\")\n",
    "#subscriptions['Join Date'] = subscriptions['Join Date'].apply(lambda x: parser.parse(x).replace(tzinfo=LDN))"
   ]
  },
  {
   "cell_type": "code",
   "execution_count": 30,
   "metadata": {},
   "outputs": [
    {
     "data": {
      "text/html": [
       "<div>\n",
       "<style scoped>\n",
       "    .dataframe tbody tr th:only-of-type {\n",
       "        vertical-align: middle;\n",
       "    }\n",
       "\n",
       "    .dataframe tbody tr th {\n",
       "        vertical-align: top;\n",
       "    }\n",
       "\n",
       "    .dataframe thead th {\n",
       "        text-align: right;\n",
       "    }\n",
       "</style>\n",
       "<table border=\"1\" class=\"dataframe\">\n",
       "  <thead>\n",
       "    <tr style=\"text-align: right;\">\n",
       "      <th></th>\n",
       "      <th>Club</th>\n",
       "      <th>Join Date</th>\n",
       "      <th>Affluence</th>\n",
       "      <th>Gender</th>\n",
       "      <th>Subscription Type</th>\n",
       "      <th>End Date</th>\n",
       "      <th>CustomerID</th>\n",
       "      <th>BirthYear</th>\n",
       "    </tr>\n",
       "  </thead>\n",
       "  <tbody>\n",
       "    <tr>\n",
       "      <th>0</th>\n",
       "      <td>Enfield</td>\n",
       "      <td>2011-12-01</td>\n",
       "      <td>C1</td>\n",
       "      <td>Male</td>\n",
       "      <td>Standard</td>\n",
       "      <td>2011-12-01</td>\n",
       "      <td>1</td>\n",
       "      <td>1992</td>\n",
       "    </tr>\n",
       "    <tr>\n",
       "      <th>1</th>\n",
       "      <td>Greenwich</td>\n",
       "      <td>2018-06-01</td>\n",
       "      <td>A</td>\n",
       "      <td>Female</td>\n",
       "      <td>Standard</td>\n",
       "      <td>NaT</td>\n",
       "      <td>2</td>\n",
       "      <td>1972</td>\n",
       "    </tr>\n",
       "    <tr>\n",
       "      <th>2</th>\n",
       "      <td>Islington</td>\n",
       "      <td>2018-03-01</td>\n",
       "      <td>B</td>\n",
       "      <td>Female</td>\n",
       "      <td>Standard</td>\n",
       "      <td>2018-10-01</td>\n",
       "      <td>3</td>\n",
       "      <td>1985</td>\n",
       "    </tr>\n",
       "    <tr>\n",
       "      <th>3</th>\n",
       "      <td>Hounslow</td>\n",
       "      <td>2015-10-01</td>\n",
       "      <td>C1</td>\n",
       "      <td>Female</td>\n",
       "      <td>Standard</td>\n",
       "      <td>2015-12-01</td>\n",
       "      <td>4</td>\n",
       "      <td>1972</td>\n",
       "    </tr>\n",
       "    <tr>\n",
       "      <th>4</th>\n",
       "      <td>Barnet</td>\n",
       "      <td>2015-05-01</td>\n",
       "      <td>C2</td>\n",
       "      <td>Male</td>\n",
       "      <td>Standard</td>\n",
       "      <td>2015-12-01</td>\n",
       "      <td>5</td>\n",
       "      <td>1982</td>\n",
       "    </tr>\n",
       "  </tbody>\n",
       "</table>\n",
       "</div>"
      ],
      "text/plain": [
       "        Club  Join Date Affluence  Gender Subscription Type   End Date  \\\n",
       "0    Enfield 2011-12-01        C1    Male          Standard 2011-12-01   \n",
       "1  Greenwich 2018-06-01         A  Female          Standard        NaT   \n",
       "2  Islington 2018-03-01         B  Female          Standard 2018-10-01   \n",
       "3   Hounslow 2015-10-01        C1  Female          Standard 2015-12-01   \n",
       "4     Barnet 2015-05-01        C2    Male          Standard 2015-12-01   \n",
       "\n",
       "   CustomerID  BirthYear  \n",
       "0           1       1992  \n",
       "1           2       1972  \n",
       "2           3       1985  \n",
       "3           4       1972  \n",
       "4           5       1982  "
      ]
     },
     "execution_count": 30,
     "metadata": {},
     "output_type": "execute_result"
    }
   ],
   "source": [
    "#convert the join and end date to_date\n",
    "subscriptions['Join Date'] =  pd.to_datetime(subscriptions['Join Date'].str.upper(), format='%b-%y', yearfirst=False)\n",
    "subscriptions['End Date'] =  pd.to_datetime(subscriptions['End Date'].str.upper(), format='%b-%y', yearfirst=False)\n",
    "subscriptions.head()"
   ]
  },
  {
   "cell_type": "code",
   "execution_count": 31,
   "metadata": {},
   "outputs": [
    {
     "data": {
      "text/plain": [
       "Club                         object\n",
       "Join Date            datetime64[ns]\n",
       "Affluence                    object\n",
       "Gender                       object\n",
       "Subscription Type            object\n",
       "End Date             datetime64[ns]\n",
       "CustomerID                    int64\n",
       "BirthYear                     int64\n",
       "dtype: object"
      ]
     },
     "execution_count": 31,
     "metadata": {},
     "output_type": "execute_result"
    }
   ],
   "source": [
    "subscriptions.dtypes"
   ]
  },
  {
   "cell_type": "code",
   "execution_count": 19,
   "metadata": {},
   "outputs": [],
   "source": [
    "#set join_date as index\n",
    "#subscriptions = subscriptions.set_index('Date')"
   ]
  },
  {
   "cell_type": "code",
   "execution_count": 32,
   "metadata": {},
   "outputs": [
    {
     "data": {
      "text/html": [
       "<div>\n",
       "<style scoped>\n",
       "    .dataframe tbody tr th:only-of-type {\n",
       "        vertical-align: middle;\n",
       "    }\n",
       "\n",
       "    .dataframe tbody tr th {\n",
       "        vertical-align: top;\n",
       "    }\n",
       "\n",
       "    .dataframe thead th {\n",
       "        text-align: right;\n",
       "    }\n",
       "</style>\n",
       "<table border=\"1\" class=\"dataframe\">\n",
       "  <thead>\n",
       "    <tr style=\"text-align: right;\">\n",
       "      <th></th>\n",
       "      <th>CustomerID</th>\n",
       "      <th>BirthYear</th>\n",
       "    </tr>\n",
       "  </thead>\n",
       "  <tbody>\n",
       "    <tr>\n",
       "      <th>count</th>\n",
       "      <td>850033.000000</td>\n",
       "      <td>850033.000000</td>\n",
       "    </tr>\n",
       "    <tr>\n",
       "      <th>mean</th>\n",
       "      <td>425017.000000</td>\n",
       "      <td>1983.769095</td>\n",
       "    </tr>\n",
       "    <tr>\n",
       "      <th>std</th>\n",
       "      <td>245383.535021</td>\n",
       "      <td>7.966825</td>\n",
       "    </tr>\n",
       "    <tr>\n",
       "      <th>min</th>\n",
       "      <td>1.000000</td>\n",
       "      <td>1949.000000</td>\n",
       "    </tr>\n",
       "    <tr>\n",
       "      <th>25%</th>\n",
       "      <td>212509.000000</td>\n",
       "      <td>1978.000000</td>\n",
       "    </tr>\n",
       "    <tr>\n",
       "      <th>50%</th>\n",
       "      <td>425017.000000</td>\n",
       "      <td>1984.000000</td>\n",
       "    </tr>\n",
       "    <tr>\n",
       "      <th>75%</th>\n",
       "      <td>637525.000000</td>\n",
       "      <td>1990.000000</td>\n",
       "    </tr>\n",
       "    <tr>\n",
       "      <th>max</th>\n",
       "      <td>850033.000000</td>\n",
       "      <td>2000.000000</td>\n",
       "    </tr>\n",
       "  </tbody>\n",
       "</table>\n",
       "</div>"
      ],
      "text/plain": [
       "          CustomerID      BirthYear\n",
       "count  850033.000000  850033.000000\n",
       "mean   425017.000000    1983.769095\n",
       "std    245383.535021       7.966825\n",
       "min         1.000000    1949.000000\n",
       "25%    212509.000000    1978.000000\n",
       "50%    425017.000000    1984.000000\n",
       "75%    637525.000000    1990.000000\n",
       "max    850033.000000    2000.000000"
      ]
     },
     "execution_count": 32,
     "metadata": {},
     "output_type": "execute_result"
    }
   ],
   "source": [
    "subscriptions.describe()"
   ]
  },
  {
   "cell_type": "code",
   "execution_count": 33,
   "metadata": {},
   "outputs": [],
   "source": []
  },
  {
   "cell_type": "code",
   "execution_count": 67,
   "metadata": {},
   "outputs": [],
   "source": [
    "#subscriptions.groupby('Join Date')['CustomerID'].count().plot(figsize=(15,15))"
   ]
  },
  {
   "cell_type": "code",
   "execution_count": 66,
   "metadata": {},
   "outputs": [],
   "source": [
    "#subscriptions.groupby('End Date')['CustomerID'].count().plot(figsize=(15,15))"
   ]
  },
  {
   "cell_type": "code",
   "execution_count": 38,
   "metadata": {},
   "outputs": [
    {
     "data": {
      "text/plain": [
       "(Timestamp('2009-05-01 00:00:00'), Timestamp('2018-12-01 00:00:00'))"
      ]
     },
     "execution_count": 38,
     "metadata": {},
     "output_type": "execute_result"
    }
   ],
   "source": [
    "date_min = min (subscriptions['Join Date'].min(),subscriptions['End Date'].min() )\n",
    "date_max = max (subscriptions['Join Date'].max(),subscriptions['End Date'].max() )\n",
    "date_min, date_max"
   ]
  },
  {
   "cell_type": "code",
   "execution_count": 105,
   "metadata": {},
   "outputs": [
    {
     "data": {
      "text/plain": [
       "DatetimeIndex(['2009-05-01', '2009-06-01', '2009-07-01', '2009-08-01',\n",
       "               '2009-09-01', '2009-10-01', '2009-11-01', '2009-12-01',\n",
       "               '2010-01-01', '2010-02-01',\n",
       "               ...\n",
       "               '2018-03-01', '2018-04-01', '2018-05-01', '2018-06-01',\n",
       "               '2018-07-01', '2018-08-01', '2018-09-01', '2018-10-01',\n",
       "               '2018-11-01', '2018-12-01'],\n",
       "              dtype='datetime64[ns]', length=116, freq='MS')"
      ]
     },
     "execution_count": 105,
     "metadata": {},
     "output_type": "execute_result"
    }
   ],
   "source": [
    "dates = pd.date_range(date_min, date_max, freq = 'MS')\n",
    "dates"
   ]
  },
  {
   "cell_type": "code",
   "execution_count": 60,
   "metadata": {
    "scrolled": false
   },
   "outputs": [
    {
     "data": {
      "text/plain": [
       "(        Date\n",
       " 0 2009-05-01\n",
       " 1 2009-06-01\n",
       " 2 2009-07-01\n",
       " 3 2009-08-01\n",
       " 4 2009-09-01,\n",
       " (116, 1))"
      ]
     },
     "execution_count": 60,
     "metadata": {},
     "output_type": "execute_result"
    }
   ],
   "source": [
    "##we need to know each month kow many activemembers we have to calculate the churn \n",
    "##create the dataframe to help us calculate it\n",
    "customers_total = pd.DataFrame({'Date':dates})\n",
    "customers_total.head(), customers_total.shape"
   ]
  },
  {
   "cell_type": "code",
   "execution_count": 90,
   "metadata": {
    "scrolled": false
   },
   "outputs": [
    {
     "data": {
      "text/html": [
       "<div>\n",
       "<style scoped>\n",
       "    .dataframe tbody tr th:only-of-type {\n",
       "        vertical-align: middle;\n",
       "    }\n",
       "\n",
       "    .dataframe tbody tr th {\n",
       "        vertical-align: top;\n",
       "    }\n",
       "\n",
       "    .dataframe thead th {\n",
       "        text-align: right;\n",
       "    }\n",
       "</style>\n",
       "<table border=\"1\" class=\"dataframe\">\n",
       "  <thead>\n",
       "    <tr style=\"text-align: right;\">\n",
       "      <th></th>\n",
       "      <th>Club</th>\n",
       "      <th>Join Date</th>\n",
       "      <th>Affluence</th>\n",
       "      <th>Gender</th>\n",
       "      <th>Subscription Type</th>\n",
       "      <th>End Date</th>\n",
       "      <th>CustomerID</th>\n",
       "      <th>BirthYear</th>\n",
       "      <th>Duration</th>\n",
       "    </tr>\n",
       "  </thead>\n",
       "  <tbody>\n",
       "    <tr>\n",
       "      <th>0</th>\n",
       "      <td>Enfield</td>\n",
       "      <td>2011-12-01</td>\n",
       "      <td>C1</td>\n",
       "      <td>Male</td>\n",
       "      <td>Standard</td>\n",
       "      <td>2011-12-01</td>\n",
       "      <td>1</td>\n",
       "      <td>1992</td>\n",
       "      <td>0</td>\n",
       "    </tr>\n",
       "    <tr>\n",
       "      <th>1</th>\n",
       "      <td>Greenwich</td>\n",
       "      <td>2018-06-01</td>\n",
       "      <td>A</td>\n",
       "      <td>Female</td>\n",
       "      <td>Standard</td>\n",
       "      <td>NaT</td>\n",
       "      <td>2</td>\n",
       "      <td>1972</td>\n",
       "      <td>6</td>\n",
       "    </tr>\n",
       "    <tr>\n",
       "      <th>2</th>\n",
       "      <td>Islington</td>\n",
       "      <td>2018-03-01</td>\n",
       "      <td>B</td>\n",
       "      <td>Female</td>\n",
       "      <td>Standard</td>\n",
       "      <td>2018-10-01</td>\n",
       "      <td>3</td>\n",
       "      <td>1985</td>\n",
       "      <td>7</td>\n",
       "    </tr>\n",
       "    <tr>\n",
       "      <th>3</th>\n",
       "      <td>Hounslow</td>\n",
       "      <td>2015-10-01</td>\n",
       "      <td>C1</td>\n",
       "      <td>Female</td>\n",
       "      <td>Standard</td>\n",
       "      <td>2015-12-01</td>\n",
       "      <td>4</td>\n",
       "      <td>1972</td>\n",
       "      <td>2</td>\n",
       "    </tr>\n",
       "    <tr>\n",
       "      <th>4</th>\n",
       "      <td>Barnet</td>\n",
       "      <td>2015-05-01</td>\n",
       "      <td>C2</td>\n",
       "      <td>Male</td>\n",
       "      <td>Standard</td>\n",
       "      <td>2015-12-01</td>\n",
       "      <td>5</td>\n",
       "      <td>1982</td>\n",
       "      <td>7</td>\n",
       "    </tr>\n",
       "  </tbody>\n",
       "</table>\n",
       "</div>"
      ],
      "text/plain": [
       "        Club  Join Date Affluence  Gender Subscription Type   End Date  \\\n",
       "0    Enfield 2011-12-01        C1    Male          Standard 2011-12-01   \n",
       "1  Greenwich 2018-06-01         A  Female          Standard        NaT   \n",
       "2  Islington 2018-03-01         B  Female          Standard 2018-10-01   \n",
       "3   Hounslow 2015-10-01        C1  Female          Standard 2015-12-01   \n",
       "4     Barnet 2015-05-01        C2    Male          Standard 2015-12-01   \n",
       "\n",
       "   CustomerID  BirthYear  Duration  \n",
       "0           1       1992         0  \n",
       "1           2       1972         6  \n",
       "2           3       1985         7  \n",
       "3           4       1972         2  \n",
       "4           5       1982         7  "
      ]
     },
     "execution_count": 90,
     "metadata": {},
     "output_type": "execute_result"
    }
   ],
   "source": [
    "##add total month membership in dataframe subscriptions\n",
    "subscriptions['Duration'] = np.where(subscriptions['End Date'].isna(), \n",
    "                                     (date_max - subscriptions['Join Date']), \n",
    "                                     (subscriptions['End Date'] - subscriptions['Join Date']) )\n",
    "##convert the difference in months\n",
    "subscriptions['Duration'] = (subscriptions['Duration'] /  np.timedelta64(1, 'M') ).apply(math.floor)\n",
    "subscriptions.head()"
   ]
  },
  {
   "cell_type": "code",
   "execution_count": 101,
   "metadata": {},
   "outputs": [
    {
     "data": {
      "text/plain": [
       "Timestamp('2015-10-01 00:00:00', freq='MS')"
      ]
     },
     "execution_count": 101,
     "metadata": {},
     "output_type": "execute_result"
    }
   ],
   "source": [
    "index_date = (dates == subscriptions.iloc[3,1] ).argmax()\n",
    "dates[index_date]"
   ]
  },
  {
   "cell_type": "code",
   "execution_count": 100,
   "metadata": {},
   "outputs": [
    {
     "data": {
      "text/plain": [
       "Timestamp('2015-10-01 00:00:00', freq='MS')"
      ]
     },
     "execution_count": 100,
     "metadata": {},
     "output_type": "execute_result"
    }
   ],
   "source": [
    "for row in "
   ]
  },
  {
   "cell_type": "code",
   "execution_count": 126,
   "metadata": {},
   "outputs": [
    {
     "data": {
      "text/plain": [
       "116"
      ]
     },
     "execution_count": 126,
     "metadata": {},
     "output_type": "execute_result"
    }
   ],
   "source": [
    "##create list with count of members in each month\n",
    "members_count =  [0] * len(dates)\n",
    "len(members_count)"
   ]
  },
  {
   "cell_type": "code",
   "execution_count": 127,
   "metadata": {},
   "outputs": [],
   "source": [
    "def add_count(join_date,duration, dates, members_count):\n",
    "    index = (dates == join_date).argmax()\n",
    "    \n",
    "    for i in range(index,index + duration+1):\n",
    "        members_count[i] = members_count[i] +1 \n",
    "    \n",
    "    return members_count"
   ]
  },
  {
   "cell_type": "code",
   "execution_count": 128,
   "metadata": {},
   "outputs": [
    {
     "data": {
      "text/plain": [
       "0         [699, 1203, 2309, 3082, 3714, 4584, 5420, 5837...\n",
       "1         [699, 1203, 2309, 3082, 3714, 4584, 5420, 5837...\n",
       "2         [699, 1203, 2309, 3082, 3714, 4584, 5420, 5837...\n",
       "3         [699, 1203, 2309, 3082, 3714, 4584, 5420, 5837...\n",
       "4         [699, 1203, 2309, 3082, 3714, 4584, 5420, 5837...\n",
       "                                ...                        \n",
       "850028    [699, 1203, 2309, 3082, 3714, 4584, 5420, 5837...\n",
       "850029    [699, 1203, 2309, 3082, 3714, 4584, 5420, 5837...\n",
       "850030    [699, 1203, 2309, 3082, 3714, 4584, 5420, 5837...\n",
       "850031    [699, 1203, 2309, 3082, 3714, 4584, 5420, 5837...\n",
       "850032    [699, 1203, 2309, 3082, 3714, 4584, 5420, 5837...\n",
       "Length: 850033, dtype: object"
      ]
     },
     "execution_count": 128,
     "metadata": {},
     "output_type": "execute_result"
    }
   ],
   "source": [
    "subscriptions.apply(lambda row: add_count(row['Join Date'], row['Duration'],\n",
    "                                          dates, members_count), axis=1)"
   ]
  },
  {
   "cell_type": "code",
   "execution_count": 129,
   "metadata": {},
   "outputs": [
    {
     "data": {
      "text/plain": [
       "[699,\n",
       " 1203,\n",
       " 2309,\n",
       " 3082,\n",
       " 3714,\n",
       " 4584,\n",
       " 5420,\n",
       " 5837,\n",
       " 6550,\n",
       " 6707,\n",
       " 6289,\n",
       " 6767,\n",
       " 7357,\n",
       " 7720,\n",
       " 7450,\n",
       " 8674,\n",
       " 9531,\n",
       " 10105,\n",
       " 10587,\n",
       " 10223,\n",
       " 11772,\n",
       " 13066,\n",
       " 11587,\n",
       " 12786,\n",
       " 14018,\n",
       " 16078,\n",
       " 16191,\n",
       " 18345,\n",
       " 19549,\n",
       " 20268,\n",
       " 21373,\n",
       " 21396,\n",
       " 23620,\n",
       " 24378,\n",
       " 20509,\n",
       " 21655,\n",
       " 21506,\n",
       " 23455,\n",
       " 22781,\n",
       " 24898,\n",
       " 25344,\n",
       " 25541,\n",
       " 26899,\n",
       " 26211,\n",
       " 29503,\n",
       " 30105,\n",
       " 25265,\n",
       " 26227,\n",
       " 27515,\n",
       " 29752,\n",
       " 29630,\n",
       " 31692,\n",
       " 32749,\n",
       " 33574,\n",
       " 35048,\n",
       " 34153,\n",
       " 36943,\n",
       " 37285,\n",
       " 31291,\n",
       " 32080,\n",
       " 33263,\n",
       " 34734,\n",
       " 33413,\n",
       " 35347,\n",
       " 36808,\n",
       " 37955,\n",
       " 40129,\n",
       " 39758,\n",
       " 44580,\n",
       " 45837,\n",
       " 38210,\n",
       " 38892,\n",
       " 40133,\n",
       " 41866,\n",
       " 40794,\n",
       " 43551,\n",
       " 44955,\n",
       " 45000,\n",
       " 46490,\n",
       " 40500,\n",
       " 40469,\n",
       " 44709,\n",
       " 40384,\n",
       " 43321,\n",
       " 45289,\n",
       " 49113,\n",
       " 48278,\n",
       " 52396,\n",
       " 53718,\n",
       " 55312,\n",
       " 57663,\n",
       " 56671,\n",
       " 61961,\n",
       " 63015,\n",
       " 51725,\n",
       " 52322,\n",
       " 53654,\n",
       " 56671,\n",
       " 55103,\n",
       " 58738,\n",
       " 60282,\n",
       " 60220,\n",
       " 61937,\n",
       " 60026,\n",
       " 65446,\n",
       " 66184,\n",
       " 54409,\n",
       " 55493,\n",
       " 57486,\n",
       " 60146,\n",
       " 58026,\n",
       " 61301,\n",
       " 62702,\n",
       " 62570,\n",
       " 64422,\n",
       " 41323]"
      ]
     },
     "execution_count": 129,
     "metadata": {},
     "output_type": "execute_result"
    }
   ],
   "source": [
    "members_count"
   ]
  },
  {
   "cell_type": "code",
   "execution_count": 140,
   "metadata": {},
   "outputs": [],
   "source": [
    "##test of lamda for short dataframe\n",
    "#subs_short = subscriptions.sort_values(by=['Join Date'])\n",
    "#limit = 50\n",
    "#subs_short = subs_short[:limit]\n",
    "#subs_short = subs_short.sort_values(by=['End Date'])\n",
    "#subs_short"
   ]
  },
  {
   "cell_type": "code",
   "execution_count": 142,
   "metadata": {},
   "outputs": [],
   "source": [
    "##test cont\n",
    "#members_count_short =  [0] * len(dates)\n",
    "#subs_short.apply(lambda row: add_count(row['Join Date'], row['Duration'],\n",
    "#                                         dates, members_count_short), axis=1)\n",
    "#members_count_short"
   ]
  },
  {
   "cell_type": "code",
   "execution_count": null,
   "metadata": {},
   "outputs": [],
   "source": []
  }
 ],
 "metadata": {
  "kernelspec": {
   "display_name": "Python 3",
   "language": "python",
   "name": "python3"
  },
  "language_info": {
   "codemirror_mode": {
    "name": "ipython",
    "version": 3
   },
   "file_extension": ".py",
   "mimetype": "text/x-python",
   "name": "python",
   "nbconvert_exporter": "python",
   "pygments_lexer": "ipython3",
   "version": "3.8.3"
  }
 },
 "nbformat": 4,
 "nbformat_minor": 4
}
