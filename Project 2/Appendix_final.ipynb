{
 "cells": [
  {
   "cell_type": "code",
   "execution_count": 1,
   "metadata": {},
   "outputs": [],
   "source": [
    "import numpy as np\n",
    "import pandas as pd\n",
    "import matplotlib.pyplot as plt\n",
    "import numbers\n",
    "import datetime\n",
    "pd.options.mode.chained_assignment = None "
   ]
  },
  {
   "cell_type": "markdown",
   "metadata": {},
   "source": [
    "## Q1: Fill in the empty data in 2017 April by data in 2017"
   ]
  },
  {
   "cell_type": "code",
   "execution_count": 2,
   "metadata": {},
   "outputs": [],
   "source": [
    "def get_filed_2017_from_2016(tt):\n",
    "    \n",
    "    turbine_telemetry = tt.copy()\n",
    "    turbine_telemetry = turbine_telemetry.reset_index()\n",
    "    turbine_telemetry.Timestamp = pd.to_datetime(turbine_telemetry.Timestamp)\n",
    "    turbine_telemetry['Year'] = turbine_telemetry.Timestamp.dt.year\n",
    "    turbine_telemetry['Month'] = turbine_telemetry.Timestamp.dt.month\n",
    "    turbine_telemetry['Day']   = turbine_telemetry.Timestamp.dt.day\n",
    "    turbine_telemetry['Hour']  = turbine_telemetry.Timestamp.dt.hour\n",
    "    turbine_telemetry['Minute'] = turbine_telemetry.Timestamp.dt.minute\n",
    "    turbine_telemetry['Second'] = turbine_telemetry.Timestamp.dt.second\n",
    "    \n",
    "    \n",
    "    grouped_df = turbine_telemetry.groupby(['Year','Month'])\n",
    "    grouped_df = grouped_df.agg({'Day': 'nunique'})\n",
    "    grouped_df = grouped_df.reset_index()\n",
    "    location   = grouped_df.Year == 2017\n",
    "    grouped_df.loc[location]\n",
    "    # The data in April is missing\n",
    "    \n",
    "    grouped_df = turbine_telemetry.groupby(['Year','Month','Day'])\n",
    "    grouped_df = grouped_df.agg({'Hour': 'nunique'})\n",
    "    grouped_df = grouped_df.reset_index()\n",
    "    location = (grouped_df.Year == 2017) & (grouped_df.Month == 4)\n",
    "    grouped_df.loc[location]\n",
    "    # The data for April 3rd and April 24th are partially missing, and the data for April 4th to April 23 are entirely missing\n",
    "    \n",
    "    # Fill in the missing data for April 3rd to April 24th.\n",
    "    # Replace the missing data in 2017 by the corresponding data in 2016\n",
    "    masks = (turbine_telemetry.Year == 2016) &  (turbine_telemetry.Month == 4) & (turbine_telemetry.Day.between(3, 24, inclusive=True))\n",
    "    data_2016_for_replacement = turbine_telemetry.loc[masks]\n",
    "    data_2016_for_replacement.Year = 2017\n",
    "    data_2016_for_replacement.Timestamp = data_2016_for_replacement.Timestamp + pd.offsets.DateOffset(years=1)\n",
    "    data_2016_for_replacement\n",
    "    \n",
    "    turbine_telemetry_filing_in_3_24 = turbine_telemetry.append(data_2016_for_replacement)\n",
    "    turbine_telemetry_filing_in_3_24\n",
    "\n",
    "    # reprint all the data from 2017\n",
    "    tt_17  = turbine_telemetry_filing_in_3_24[turbine_telemetry_filing_in_3_24.Year == 2017]\n",
    "    \n",
    "    tt_17 = tt_17.reset_index()\n",
    "    #plot_filled_data = tt_17.plot.scatter(\"Timestamp\", \"Power_kw\")\n",
    "\n",
    "\n",
    "    tt_17 = tt_17.drop(columns = [\"Year\",\"Month\", \"Day\", \"Hour\", \"Minute\", \"Second\" ])\n",
    "    tt_17 = tt_17.set_index(\"Timestamp\")\n",
    "    \n",
    "    return tt_17"
   ]
  },
  {
   "cell_type": "markdown",
   "metadata": {},
   "source": [
    "## Q1: Bring all to xx:00 second and take the mean value for all the data from 2017"
   ]
  },
  {
   "cell_type": "code",
   "execution_count": 3,
   "metadata": {},
   "outputs": [],
   "source": [
    "def isnumber(x):\n",
    "    return isinstance(x, numbers.Number)\n",
    "\n",
    "def not_number_to_nan(row):\n",
    "    power = row.Power_kw\n",
    "    if isnumber(power):\n",
    "        return power\n",
    "    else:\n",
    "        return np.nan\n",
    "\n",
    "def get_all_zero_seconds_avg(tt17):\n",
    "    tt_17 = tt17.copy()\n",
    "    tt_17 = tt_17.reset_index()\n",
    "    #tt_17.plot.scatter('Timestamp', 'Power_kw')\n",
    "\n",
    "    tt_17.Timestamp = tt_17.Timestamp.map(lambda x: x.replace(second=0))\n",
    "    tt_17[\"Power_kw\"] = tt_17.apply( not_number_to_nan, axis =1)\n",
    "    \n",
    "    #tt17_na_num = tt17_mean_data.isna().sum()\n",
    "\n",
    "    \n",
    "    tt17_mean_data = tt_17.groupby(\"Timestamp\").mean()  \n",
    "    tt17_mean_data = tt17_mean_data.drop(columns = [\"index\"])\n",
    "    \n",
    "    return tt17_mean_data"
   ]
  },
  {
   "cell_type": "markdown",
   "metadata": {},
   "source": [
    "## Q1: Assumptions and Constants"
   ]
  },
  {
   "cell_type": "code",
   "execution_count": 4,
   "metadata": {},
   "outputs": [],
   "source": [
    "turbines = 500\n",
    "turbines_operating = 0.8 ##Assumption\n",
    "orkney_households = 10385"
   ]
  },
  {
   "cell_type": "markdown",
   "metadata": {},
   "source": [
    "## Q1: First way to calculate the curtailed energy"
   ]
  },
  {
   "cell_type": "code",
   "execution_count": 5,
   "metadata": {},
   "outputs": [],
   "source": [
    "def calcucate_curtailed_energy_setpoint_based(tt):\n",
    "\n",
    "    turbine_telemetry_filter_wind_power = tt.copy()\n",
    "    \n",
    "    turbine_telemetry_filter_wind_power.loc[turbine_telemetry_filter_wind_power.Wind_ms >= 30, \"Power_kw\"] = 0\n",
    "    \n",
    "    max_setpoints_per_wind = turbine_telemetry_filter_wind_power.groupby('Wind_ms')['Setpoint_kw'].max()\n",
    "\n",
    "    turbine_telemetry_filter_wind_power = turbine_telemetry_filter_wind_power.reset_index()\n",
    "\n",
    "    turbine_telemetry_filter_wind_power = turbine_telemetry_filter_wind_power.merge( max_setpoints_per_wind, on = \"Wind_ms\")\n",
    "\n",
    "    turbine_telemetry_filter_wind_power = turbine_telemetry_filter_wind_power.rename(columns = {\"Setpoint_kw_x\": \"Setpoint_kw\", \"Setpoint_kw_y\": \"Max_possible_setpoint\" }) \n",
    "\n",
    "    turbine_telemetry_filter_wind_power[\"Setpoint_delta\"] = turbine_telemetry_filter_wind_power[\"Max_possible_setpoint\"] - turbine_telemetry_filter_wind_power[\"Setpoint_kw\"]\n",
    "\n",
    "\n",
    "    turbine_telemetry_filter_wind_power[\"Power_curtailed\"] = turbine_telemetry_filter_wind_power[\"Setpoint_delta\"]\n",
    "    turbine_telemetry_filter_wind_power.loc[ turbine_telemetry_filter_wind_power.Setpoint_kw > turbine_telemetry_filter_wind_power.Power_kw , \"Power_curtailed\"] = 0\n",
    "\n",
    "\n",
    "    turbine_telemetry_filter_wind_power.loc[ turbine_telemetry_filter_wind_power.Setpoint_kw == 0 , \"Power_curtailed\"] = 0\n",
    "\n",
    "    #turbine_telemetry_filter_wind_power = turbine_telemetry_filter_wind_power.set_index(\"Timestamp\")    \n",
    "\n",
    "    turbine_telemetry_filter_wind_power[\"Total_power_curtailed\"] = turbines * turbines_operating * turbine_telemetry_filter_wind_power[\"Power_curtailed\"]\n",
    "    \n",
    "    total_curtailed_energy = turbine_telemetry_filter_wind_power[\"Total_power_curtailed\"].sum()/60\n",
    "\n",
    "\n",
    "    return total_curtailed_energy, turbine_telemetry_filter_wind_power"
   ]
  },
  {
   "cell_type": "markdown",
   "metadata": {},
   "source": [
    "## Q1: Second way to the curtailed energy\n",
    "#### curtailed = (poterntial power - island demand - export)*t"
   ]
  },
  {
   "cell_type": "code",
   "execution_count": 6,
   "metadata": {},
   "outputs": [],
   "source": [
    "\n",
    "def get_lookup_wind_power(tt):\n",
    "    \n",
    "    # how to figure out what's the the smallest speed necessary to produce power\n",
    "    v_min = tt[(tt.loc[:, 'Power_kw'] >= 5.)].loc[:, 'Wind_ms'].quantile(0.1) # 10% quantile\n",
    "    \n",
    "    df = tt.query('Setpoint_kw==900').copy()\n",
    "    \n",
    "    # remove data points when the wind speed is sufficient but there is no power\n",
    "    df.loc[((df.Wind_ms >= v_min) & (df.Power_kw.abs() <= 1e-5))] = np.nan\n",
    "    \n",
    "    # remove all missing values from the dataframe\n",
    "    df = df.dropna(0, inplace=False)\n",
    "    \n",
    "    #####################################\n",
    "    ## select bin locations\n",
    "    #####################################\n",
    "    wmax_appr = df[df.Power_kw == df.Power_kw.quantile(0.90)].Wind_ms.quantile(0.5)\n",
    "    wmax  = df.Wind_ms.max()\n",
    "    \n",
    "    bins = np.arange(0, wmax, .2)\n",
    "    \n",
    "    # group data by bins\n",
    "    df['bins'] = pd.cut(df.Wind_ms, bins) \n",
    "    \n",
    "    df_binning = df[['Power_kw', 'bins']].groupby('bins')\n",
    "    power_med = df_binning.quantile(0.5)\n",
    "    power_med['q10'] = df_binning.quantile(0.1)\n",
    "    power_med['q90'] = df_binning.quantile(0.9)\n",
    "    \n",
    "    \n",
    "    # replication of the power vs wind profile approximately\n",
    "    #plot_power = power_med.plot(rot=45)\n",
    "    \n",
    "    df['bins'].isna().sum()\n",
    "    bin_nan = df[df[\"bins\"].isna()]\n",
    "    \n",
    "    #####################################\n",
    "    # look-up table mean and standard deviation\n",
    "    #####################################\n",
    "    \n",
    "    # group data by bins\n",
    "    df_restricted_wind = df.copy()\n",
    "    df_restricted_wind.loc[df_restricted_wind['Wind_ms'] > 25, 'Power_kw'] = 0\n",
    "    \n",
    "    cuts = pd.cut(df_restricted_wind.Wind_ms, bins)\n",
    "    \n",
    "    gp  = df_restricted_wind.Power_kw.groupby(cuts) # iterator\n",
    "    \n",
    "    lutm = gp.mean()\n",
    "    luts = gp.std()\n",
    "    \n",
    "    # convert to an interval index\n",
    "    lutm.index = pd.IntervalIndex(lutm.index)\n",
    "    luts.index = pd.IntervalIndex(luts.index)\n",
    "    # this is the basis of our look-up table\n",
    "    \n",
    "    # round power to nearest 5 watts == 0.05 kW\n",
    "    lutm = lutm.round(2)\n",
    "    \n",
    "    # set final power output to 900\n",
    "    lutm.loc[wmax_appr:25] = 900\n",
    "    \n",
    "    \n",
    "    # compare lookup table with data\n",
    "    plt.figure(figsize=(15,5))\n",
    "    s = plt.step(lutm.index.right, lutm, color='r')\n",
    "    plt.legend(s, ['look-up table'], loc='upper left')\n",
    "    \n",
    "    return  lutm, bins\n",
    "\n",
    "\n",
    "def get_wind_power_relationship(tt):\n",
    "    \n",
    "    lutm, bins = get_lookup_wind_power(tt)\n",
    "    \n",
    "    df = tt.copy()\n",
    "    df_17 = df[df.index.year == 2017]\n",
    "    df_17['bins'] = pd.cut(df_17.Wind_ms, bins) \n",
    "    \n",
    "    possible_power = [ 0 if pd.isnull(bini) else lutm[bini] for bini in df_17.bins  ]\n",
    "    df_17 = df_17.assign(Max_power_available = possible_power)\n",
    "    \n",
    "    return df_17, lutm\n",
    "\n"
   ]
  },
  {
   "cell_type": "markdown",
   "metadata": {},
   "source": [
    "## Q1: Calculating the demand"
   ]
  },
  {
   "cell_type": "code",
   "execution_count": 7,
   "metadata": {},
   "outputs": [],
   "source": [
    "def get_demand_data():\n",
    "    \n",
    "    demand = pd.read_csv('residential_demand.csv', parse_dates=[0], index_col=0)\n",
    "    mask   = (demand.index.year == 2017)\n",
    "    demand = demand[mask]\n",
    "    \n",
    "    #demand[\"Mean_demand\"] = demand[\"Demand_mean_kw\"]/demand[\"N_households\"]\n",
    "    demand[\"Mean_demand\"] = demand[\"Demand_mean_kw\"]\n",
    "    \n",
    "    return demand\n",
    "\n",
    "def calculate_curtailed_energy_mean_demand(df_17, demand):\n",
    "    \n",
    "    max_wind_capacity = 65000\n",
    "    power_exported    = 40000\n",
    "    \n",
    "    gp_17 = df_17.copy()\n",
    "        \n",
    "    gp_17 = gp_17.reset_index()\n",
    "    gp_17[\"Timestamp\"] = gp_17[\"Timestamp\"].apply(lambda x: pd.Timestamp.replace(x,second=0) )\n",
    "    \n",
    "    \n",
    "    curtailed = gp_17.join(demand, how = \"outer\", on = \"Timestamp\")\n",
    "\n",
    "    curtailed = curtailed.drop(columns = [\"N_households\",\"Demand_mean_kw\", \"Wind_ms\", \"bins\"])\n",
    "    curtailed.index.sort_values()\n",
    "    \n",
    "    \n",
    "    curtailed['Mean_demand']   = curtailed['Mean_demand'].interpolate(method='linear')\n",
    "    curtailed[\"island_demand\"] = curtailed[\"Mean_demand\"]*orkney_households\n",
    "    \n",
    "    curtailed_power = curtailed.copy()\n",
    "    #curtailed_power[\"power_curtailed\"]  = turbines_operating*turbines*curtailed[\"Max_power_available\"] - turbines_operating*turbines*curtailed[\"Power_kw\"] \n",
    "    \n",
    "    \n",
    "    curtailed_power[\"Total_max_power_available\"] = turbines_operating*turbines*curtailed[\"Max_power_available\"]\n",
    "    \n",
    "    curtailed_power.loc[curtailed_power[\"Total_max_power_available\"]  >   max_wind_capacity, 'Total_max_power_available'] = max_wind_capacity\n",
    "    \n",
    "    curtailed_power[\"power_excess\"]     =  curtailed_power[\"Total_max_power_available\"] - curtailed[\"island_demand\"] - power_exported\n",
    "    #curtailed_power = curtailed_power.drop(columns = [\"Power_kw\",\"Setpoint_kw\", \"Max_power_available\",\"Mean_demand\"])\n",
    "    \n",
    "            \n",
    "    curtailed_power.loc[curtailed_power['power_excess'] < 0, 'power_excess'] = 0\n",
    "    \n",
    "    curtailed_power.loc[curtailed_power['Power_kw'] >= curtailed_power['Max_power_available'], 'power_excess'] = 0\n",
    "    \n",
    "    total_curtailed_energy_kwh = curtailed_power[\"power_excess\"].sum()/60\n",
    "\n",
    "    return total_curtailed_energy_kwh, curtailed_power\n"
   ]
  },
  {
   "cell_type": "markdown",
   "metadata": {},
   "source": [
    "## Q1: Main "
   ]
  },
  {
   "cell_type": "code",
   "execution_count": 8,
   "metadata": {},
   "outputs": [],
   "source": [
    "tt = pd.read_csv('turbine_telemetry.csv', parse_dates=[0], index_col=0)\n",
    "tt17 = get_filed_2017_from_2016(tt)\n",
    "tt17_mean_data = get_all_zero_seconds_avg(tt17)"
   ]
  },
  {
   "cell_type": "code",
   "execution_count": 9,
   "metadata": {},
   "outputs": [],
   "source": [
    "## According to 1st way\n",
    "total_curtailed_energy_1way, turbine_telemetry_filter_wind_power = calcucate_curtailed_energy_setpoint_based(tt17_mean_data)"
   ]
  },
  {
   "cell_type": "code",
   "execution_count": 10,
   "metadata": {},
   "outputs": [
    {
     "data": {
      "image/png": "[encoded data removed]",
      "text/plain": [
       "<Figure size 1080x360 with 1 Axes>"
      ]
     },
     "metadata": {
      "needs_background": "light"
     },
     "output_type": "display_data"
    }
   ],
   "source": [
    "## According to 2nd way\n",
    "\n",
    "df_17,lutm = get_wind_power_relationship(tt17_mean_data)\n",
    "\n",
    "demand = get_demand_data()\n",
    "total_curtailed_energy_2nd, curtailed_power = calculate_curtailed_energy_mean_demand(df_17, demand)"
   ]
  },
  {
   "cell_type": "markdown",
   "metadata": {},
   "source": [
    "## Q2: function to return the curtailed energy based on the number of household\n",
    "#### Two assumptions: 1. heating during all years; 2. heating during only winter"
   ]
  },
  {
   "cell_type": "code",
   "execution_count": 11,
   "metadata": {},
   "outputs": [],
   "source": [
    "# The following step is to define percentage of household use DR system for heating\n",
    "DR_penetration_perc = 0.1\n",
    "\n",
    "# Annual energy saving at different curtailment level\n",
    "def saved_curtailmend_power_AF(DR_penetration_perc):\n",
    "\n",
    "    # Import resc_heating_usage\n",
    "    resc_heating_usage = pd.read_csv('Add_residential_heating_demand_perc.csv')\n",
    "\n",
    "    # Convert the orignal curtailed table(in minutes) to table(in half hours) \n",
    "    curtailed_power_dropna_minute = curtailed_power.dropna()\n",
    "    curtailed_power_dropna_minute['Timestamp'] = curtailed_power_dropna_minute['Timestamp'].apply(lambda dt: datetime.datetime(dt.year, dt.month, dt.day, dt.hour,30*(dt.minute // 30)))\n",
    "    curtailed_power_dropna_HH = pd.DataFrame(data = curtailed_power_dropna_minute.groupby(['Timestamp'])['power_excess'].mean()).reset_index()\n",
    "    curtailed_power_dropna_HH['Hour']  = curtailed_power_dropna_HH.Timestamp.dt.hour\n",
    "    curtailed_power_dropna_HH['Year']  = curtailed_power_dropna_HH.Timestamp.dt.year\n",
    "    curtailed_power_dropna_HH['Month']  = curtailed_power_dropna_HH.Timestamp.dt.month\n",
    "    curtailed_power_dropna_HH['Minute']  = curtailed_power_dropna_HH.Timestamp.dt.minute\n",
    "    curtailed_power_dropna_HH['Day']  = curtailed_power_dropna_HH.Timestamp.dt.day\n",
    "\n",
    "    # Import Udemand\n",
    "    Udemand= pd.read_csv('residential_demand.csv')\n",
    "    Udemand = Udemand.reset_index()\n",
    "    Udemand.Timestamp = pd.to_datetime(Udemand.Timestamp)\n",
    "    Udemand['Demand_mean_kw'] = Udemand['Demand_mean_kw'] * 8193/365/24/Udemand.Demand_mean_kw.mean() \n",
    "    Udemand['Year']  = Udemand.Timestamp.dt.year\n",
    "    Udemand=Udemand[Udemand['Year']==2017]\n",
    "    Udemand['N_households']=orkney_households\n",
    "\n",
    "    # Find our that in curatiled_power_drop_na_HH, at what timestamps the power_excess is missing, fill them in with 0\n",
    "    curtailed_power_missing = pd.DataFrame(set(Udemand.Timestamp)-set(curtailed_power_dropna_HH.Timestamp),columns=['Timestamp'])\n",
    "    curtailed_power_missing['power_excess'] = 0\n",
    "    curtailed_power_missing['Hour']  = curtailed_power_missing.Timestamp.dt.hour\n",
    "    curtailed_power_missing['Year']  = curtailed_power_missing.Timestamp.dt.year\n",
    "    curtailed_power_missing['Month']  = curtailed_power_missing.Timestamp.dt.month\n",
    "    curtailed_power_missing['Minute']  = curtailed_power_missing.Timestamp.dt.minute\n",
    "    curtailed_power_missing['Day']  = curtailed_power_missing.Timestamp.dt.day\n",
    "    curtailed_power_fill_na = pd.concat([curtailed_power_missing,curtailed_power_dropna_HH])\n",
    "\n",
    "    # Merge the three tables and choose the necessary columns\n",
    "    combined_table_2 = pd.merge(Udemand,curtailed_power_fill_na, how ='left',on=['Timestamp']).drop(columns=['Year_x']).rename(columns={'Year_y':'Year'})\n",
    "    combined_table_2 = pd.merge(combined_table_2,resc_heating_usage, how ='left',on=['Hour','Minute']) \n",
    "    combined_table_2=combined_table_2[['Timestamp','Demand_mean_kw','N_households','res_heating_perc','power_excess','Year','Month','Hour','Minute']]\n",
    "\n",
    "    # Calculate the number of households joined in this DR program given the DR_penetration_perc\n",
    "    DR_penetration_num= orkney_households*DR_penetration_perc\n",
    "    \n",
    "    # Calculate additional residential electicity usage by installing DR system\n",
    "    combined_table_2['N_households']=orkney_households\n",
    "    combined_table_2['household_with_DR']=DR_penetration_num\n",
    "    combined_table_2['addi_demand_by_DR_kwh']=0.5*combined_table_2['household_with_DR']*combined_table_2['Demand_mean_kw']*combined_table_2['res_heating_perc']\n",
    "    combined_table_2\n",
    "\n",
    "    # Replace negative/NaN saved curtailment energy by 0\n",
    "    combined_table_2['saved_curtailment_kwh']= combined_table_2[['addi_demand_by_DR_kwh','power_excess']].min(axis=1)\n",
    "    combined_table_2['saved_curtailment_kwh'] = combined_table_2['saved_curtailment_kwh'].fillna(0)\n",
    "    \n",
    "    # Calculate the yearly_saved_energy(mwh)\n",
    "    yearly_saved_energy_AF = pd.DataFrame(combined_table_2.groupby(['Year'])['saved_curtailment_kwh'].sum())\n",
    "    \n",
    "    return yearly_saved_energy_AF\n",
    "\n",
    "    \n",
    "    \n",
    "# Annual energy saving at different curtailment level\n",
    "def saved_curtailmend_power_seasonal_AF(DR_penetration_perc,DR_month_1,DR_month_2,DR_month_3):\n",
    "\n",
    "    # Import resc_heating_usage\n",
    "    resc_heating_usage = pd.read_csv('Add_residential_heating_demand_perc.csv')\n",
    "\n",
    "    # Convert the orignal curtailed table(in minutes) to table(in half hours) \n",
    "    curtailed_power_dropna_minute = curtailed_power.dropna()\n",
    "    curtailed_power_dropna_minute['Timestamp'] = curtailed_power_dropna_minute['Timestamp'].apply(lambda dt: datetime.datetime(dt.year, dt.month, dt.day, dt.hour,30*(dt.minute // 30)))\n",
    "    curtailed_power_dropna_HH = pd.DataFrame(data = curtailed_power_dropna_minute.groupby(['Timestamp'])['power_excess'].mean()).reset_index()\n",
    "    curtailed_power_dropna_HH['Hour']  = curtailed_power_dropna_HH.Timestamp.dt.hour\n",
    "    curtailed_power_dropna_HH['Year']  = curtailed_power_dropna_HH.Timestamp.dt.year\n",
    "    curtailed_power_dropna_HH['Month']  = curtailed_power_dropna_HH.Timestamp.dt.month\n",
    "    curtailed_power_dropna_HH['Minute']  = curtailed_power_dropna_HH.Timestamp.dt.minute\n",
    "    curtailed_power_dropna_HH['Day']  = curtailed_power_dropna_HH.Timestamp.dt.day\n",
    "\n",
    "    # Import Udemand\n",
    "    Udemand= pd.read_csv('residential_demand.csv')\n",
    "    Udemand = Udemand.reset_index()\n",
    "    Udemand.Timestamp = pd.to_datetime(Udemand.Timestamp)\n",
    "    Udemand['Demand_mean_kw'] = Udemand['Demand_mean_kw'] * 8193/365/24/Udemand.Demand_mean_kw.mean() \n",
    "    Udemand['Year']  = Udemand.Timestamp.dt.year\n",
    "    Udemand=Udemand[Udemand['Year']==2017]\n",
    "    Udemand['N_households']=orkney_households\n",
    "\n",
    "    # Find our that in curatiled_power_drop_na_HH, at what timestamps the power_excess is missing, fill them in with 0\n",
    "    curtailed_power_missing = pd.DataFrame(set(Udemand.Timestamp)-set(curtailed_power_dropna_HH.Timestamp),columns=['Timestamp'])\n",
    "    curtailed_power_missing['power_excess'] = 0\n",
    "    curtailed_power_missing['Hour']  = curtailed_power_missing.Timestamp.dt.hour\n",
    "    curtailed_power_missing['Year']  = curtailed_power_missing.Timestamp.dt.year\n",
    "    curtailed_power_missing['Month']  = curtailed_power_missing.Timestamp.dt.month\n",
    "    curtailed_power_missing['Minute']  = curtailed_power_missing.Timestamp.dt.minute\n",
    "    curtailed_power_missing['Day']  = curtailed_power_missing.Timestamp.dt.day\n",
    "    curtailed_power_fill_na = pd.concat([curtailed_power_missing,curtailed_power_dropna_HH])\n",
    "\n",
    "    # Merge the three tables and choose the necessary columns\n",
    "    combined_table_2 = pd.merge(Udemand,curtailed_power_fill_na, how ='left',on=['Timestamp']).drop(columns=['Year_x']).rename(columns={'Year_y':'Year'})\n",
    "    combined_table_2 = pd.merge(combined_table_2,resc_heating_usage, how ='left',on=['Hour','Minute']) \n",
    "    combined_table_2=combined_table_2[['Timestamp','Demand_mean_kw','N_households','res_heating_perc','power_excess','Year','Month','Hour','Minute']]\n",
    "    combined_table_2=combined_table_2[ (combined_table_2['Month']== DR_month_1) | (combined_table_2['Month']== DR_month_2)  | (combined_table_2['Month']== DR_month_3)  ] \n",
    "\n",
    "    # Calculate the number of households joined in this DR program given the DR_penetration_perc\n",
    "    DR_penetration_num= orkney_households*DR_penetration_perc\n",
    "    \n",
    "    # Calculate additional residential electicity usage by installing DR system\n",
    "    combined_table_2['N_households']=orkney_households\n",
    "    combined_table_2['household_with_DR']=DR_penetration_num\n",
    "    combined_table_2['addi_demand_by_DR_kwh']=0.5*combined_table_2['household_with_DR']*combined_table_2['Demand_mean_kw']*combined_table_2['res_heating_perc']\n",
    "    combined_table_2\n",
    "\n",
    "    # Replace negative/NaN saved curtailment energy by 0\n",
    "    combined_table_2['saved_curtailment_kwh']= combined_table_2[['addi_demand_by_DR_kwh','power_excess']].min(axis=1)\n",
    "    combined_table_2['saved_curtailment_kwh'] = combined_table_2['saved_curtailment_kwh'].fillna(0)\n",
    "    \n",
    "    # Calculate the yearly_saved_energy(mwh)\n",
    "    yearly_saved_energy_AF = pd.DataFrame(combined_table_2.groupby(['Year'])['saved_curtailment_kwh'].sum())\n",
    "    \n",
    "    return yearly_saved_energy_AF\n",
    "\n",
    "# Monthly energy saving at different curtailment level\n",
    "def saved_curtailmend_power_AF_monthly_Qian(DR_penetration_perc,total_number_household):\n",
    "\n",
    "    # Import resc_heating_usage\n",
    "    resc_heating_usage = pd.read_csv('Add_residential_heating_demand_perc.csv')\n",
    "\n",
    "    # Convert the orignal curtailed table(in minutes) to table(in half hours) \n",
    "    curtailed_power_dropna_minute = curtailed_power.dropna()\n",
    "    curtailed_power_dropna_minute['Timestamp'] = curtailed_power_dropna_minute['Timestamp'].apply(lambda dt: datetime.datetime(dt.year, dt.month, dt.day, dt.hour,30*(dt.minute // 30)))\n",
    "    curtailed_power_dropna_HH = pd.DataFrame(data = curtailed_power_dropna_minute.groupby(['Timestamp'])['power_excess'].mean()).reset_index()\n",
    "    curtailed_power_dropna_HH['Hour']  = curtailed_power_dropna_HH.Timestamp.dt.hour\n",
    "    curtailed_power_dropna_HH['Year']  = curtailed_power_dropna_HH.Timestamp.dt.year\n",
    "    curtailed_power_dropna_HH['Month']  = curtailed_power_dropna_HH.Timestamp.dt.month\n",
    "    curtailed_power_dropna_HH['Minute']  = curtailed_power_dropna_HH.Timestamp.dt.minute\n",
    "    curtailed_power_dropna_HH['Day']  = curtailed_power_dropna_HH.Timestamp.dt.day\n",
    "\n",
    "    # Import Udemand\n",
    "    Udemand= pd.read_csv('residential_demand.csv')\n",
    "    Udemand = Udemand.reset_index()\n",
    "    Udemand.Timestamp = pd.to_datetime(Udemand.Timestamp)\n",
    "    Udemand['Demand_mean_kw'] = Udemand['Demand_mean_kw'] * 8193/365/24/Udemand.Demand_mean_kw.mean() \n",
    "    Udemand['Year']  = Udemand.Timestamp.dt.year\n",
    "    Udemand=Udemand[Udemand['Year']==2017]\n",
    "    Udemand['N_households']=total_number_household\n",
    "\n",
    "    # Find our that in curatiled_power_drop_na_HH, at what timestamps the power_excess is missing, fill them in with 0\n",
    "    curtailed_power_missing = pd.DataFrame(set(Udemand.Timestamp)-set(curtailed_power_dropna_HH.Timestamp),columns=['Timestamp'])\n",
    "    curtailed_power_missing['power_excess'] = 0\n",
    "    curtailed_power_missing['Hour']  = curtailed_power_missing.Timestamp.dt.hour\n",
    "    curtailed_power_missing['Year']  = curtailed_power_missing.Timestamp.dt.year\n",
    "    curtailed_power_missing['Month']  = curtailed_power_missing.Timestamp.dt.month\n",
    "    curtailed_power_missing['Minute']  = curtailed_power_missing.Timestamp.dt.minute\n",
    "    curtailed_power_missing['Day']  = curtailed_power_missing.Timestamp.dt.day\n",
    "    curtailed_power_fill_na = pd.concat([curtailed_power_missing,curtailed_power_dropna_HH])\n",
    "\n",
    "    # Merge the three tables and choose the necessary columns\n",
    "    combined_table_2 = pd.merge(Udemand,curtailed_power_fill_na, how ='left',on=['Timestamp']).drop(columns=['Year_x']).rename(columns={'Year_y':'Year'})\n",
    "    combined_table_2 = pd.merge(combined_table_2,resc_heating_usage, how ='left',on=['Hour','Minute']) \n",
    "    combined_table_2=combined_table_2[['Timestamp','Demand_mean_kw','N_households','res_heating_perc','power_excess','Year','Month','Hour','Minute']]\n",
    "\n",
    "    # Calculate the number of households joined in this DR program given the DR_penetration_perc\n",
    "    DR_penetration_num= total_number_household*DR_penetration_perc\n",
    "    \n",
    "    # Calculate additional residential electicity usage by installing DR system\n",
    "    combined_table_2['N_households']=total_number_household\n",
    "    combined_table_2['household_with_DR']=DR_penetration_num\n",
    "    combined_table_2['addi_demand_by_DR_kwh']=0.5*combined_table_2['household_with_DR']*combined_table_2['Demand_mean_kw']*combined_table_2['res_heating_perc']\n",
    "    combined_table_2\n",
    "\n",
    "    # Replace negative/NaN saved curtailment energy by 0\n",
    "    combined_table_2['saved_curtailment_kwh']= combined_table_2[['addi_demand_by_DR_kwh','power_excess']].min(axis=1)\n",
    "    combined_table_2['saved_curtailment_kwh'] = combined_table_2['saved_curtailment_kwh'].fillna(0)\n",
    "    \n",
    "    # Calculate the yearly_saved_energy(mwh)\n",
    "    monthly_saved_energy_AF = pd.DataFrame(combined_table_2.groupby(['Month'])['saved_curtailment_kwh'].sum())\n",
    "    \n",
    "    return monthly_saved_energy_AF"
   ]
  },
  {
   "cell_type": "markdown",
   "metadata": {},
   "source": [
    "## Q2: function to draw graph of saved curtailment"
   ]
  },
  {
   "cell_type": "code",
   "execution_count": 12,
   "metadata": {},
   "outputs": [
    {
     "name": "stderr",
     "output_type": "stream",
     "text": [
      "No handles with labels found to put in legend.\n"
     ]
    },
    {
     "data": {
      "text/plain": [
       "Text(0.5, 0, 'DR penetration level (index)')"
      ]
     },
     "execution_count": 12,
     "metadata": {},
     "output_type": "execute_result"
    },
    {
     "data": {
      "image/png": "[encoded data removed]",
      "text/plain": [
       "<Figure size 432x288 with 1 Axes>"
      ]
     },
     "metadata": {
      "needs_background": "light"
     },
     "output_type": "display_data"
    }
   ],
   "source": [
    "# Draw the graph of different energy saving of different penetration level\n",
    "#def draw_saved_energy_penetration(start,end):\n",
    "\n",
    "n=0\n",
    "saved_energy_of_different_penetration=list()\n",
    "for i in range(0,11):\n",
    "    DR_penetration_perc = i/10\n",
    "    DR_penetration_num= 10000*DR_penetration_perc\n",
    "\n",
    "    #Print yearly_saved_energy(mwh)\n",
    "    combined_table_draw_1 = saved_curtailmend_power_AF(DR_penetration_perc)\n",
    "    yearly_saved_energy = pd.DataFrame(combined_table_draw_1.groupby(['Year'])['saved_curtailment_kwh'].sum())\n",
    "    val=yearly_saved_energy.iloc[0]['saved_curtailment_kwh']\n",
    "    saved_energy_of_different_penetration.append(val)\n",
    "\n",
    "\n",
    "    \n",
    "# print(saved_energy_of_different_penetration)\n",
    "\n",
    "x=[round(x*0.1,1) for x in range(0,11)]\n",
    "y=saved_energy_of_different_penetration\n",
    "Penetration_graph=plt.plot(x,y)\n",
    "plt.legend()\n",
    "plt.title(\"2017 energy saving at different DR penetration\")\n",
    "plt.ylabel(\"Saved wind curtailment (KWh)\")\n",
    "plt.xlabel(\"DR penetration level (index)\")\n",
    "\n"
   ]
  },
  {
   "cell_type": "code",
   "execution_count": 13,
   "metadata": {},
   "outputs": [
    {
     "data": {
      "image/png": "[encoded data removed]",
      "text/plain": [
       "<Figure size 432x288 with 1 Axes>"
      ]
     },
     "metadata": {
      "needs_background": "light"
     },
     "output_type": "display_data"
    }
   ],
   "source": [
    "# Draw monthly saved curtailed energy at different penetration\n",
    "def Monthly_energy_saving(DR_penetration_perc):\n",
    "\n",
    "    # Import resc_heating_usage\n",
    "    resc_heating_usage = pd.read_csv('Add_residential_heating_demand_perc.csv')\n",
    "\n",
    "    # Convert the orignal curtailed table(in minutes) to table(in half hours) \n",
    "    curtailed_power_dropna_minute = curtailed_power.dropna()\n",
    "    curtailed_power_dropna_minute['Timestamp'] = curtailed_power_dropna_minute['Timestamp'].apply(lambda dt: datetime.datetime(dt.year, dt.month, dt.day, dt.hour,30*(dt.minute // 30)))\n",
    "    curtailed_power_dropna_HH = pd.DataFrame(data = curtailed_power_dropna_minute.groupby(['Timestamp'])['power_excess'].mean()).reset_index()\n",
    "    curtailed_power_dropna_HH['Hour']  = curtailed_power_dropna_HH.Timestamp.dt.hour\n",
    "    curtailed_power_dropna_HH['Year']  = curtailed_power_dropna_HH.Timestamp.dt.year\n",
    "    curtailed_power_dropna_HH['Month']  = curtailed_power_dropna_HH.Timestamp.dt.month\n",
    "    curtailed_power_dropna_HH['Minute']  = curtailed_power_dropna_HH.Timestamp.dt.minute\n",
    "    curtailed_power_dropna_HH['Day']  = curtailed_power_dropna_HH.Timestamp.dt.day\n",
    "\n",
    "    # Import Udemand\n",
    "    Udemand= pd.read_csv('residential_demand.csv')\n",
    "    Udemand = Udemand.reset_index()\n",
    "    Udemand.Timestamp = pd.to_datetime(Udemand.Timestamp)\n",
    "    Udemand['Demand_mean_kw'] = Udemand['Demand_mean_kw'] * 8193/365/24/Udemand.Demand_mean_kw.mean() \n",
    "    Udemand['Year']  = Udemand.Timestamp.dt.year\n",
    "    Udemand=Udemand[Udemand['Year']==2017]\n",
    "    Udemand['N_households']=orkney_households\n",
    "\n",
    "    # Find our that in curatiled_power_drop_na_HH, at what timestamps the power_excess is missing, fill them in with 0\n",
    "    curtailed_power_missing = pd.DataFrame(set(Udemand.Timestamp)-set(curtailed_power_dropna_HH.Timestamp),columns=['Timestamp'])\n",
    "    curtailed_power_missing['power_excess'] = 0\n",
    "    curtailed_power_missing['Hour']  = curtailed_power_missing.Timestamp.dt.hour\n",
    "    curtailed_power_missing['Year']  = curtailed_power_missing.Timestamp.dt.year\n",
    "    curtailed_power_missing['Month']  = curtailed_power_missing.Timestamp.dt.month\n",
    "    curtailed_power_missing['Minute']  = curtailed_power_missing.Timestamp.dt.minute\n",
    "    curtailed_power_missing['Day']  = curtailed_power_missing.Timestamp.dt.day\n",
    "    curtailed_power_fill_na = pd.concat([curtailed_power_missing,curtailed_power_dropna_HH])\n",
    "\n",
    "    # Merge the three tables and choose the necessary columns\n",
    "    combined_table_2 = pd.merge(Udemand,curtailed_power_fill_na, how ='left',on=['Timestamp']).drop(columns=['Year_x']).rename(columns={'Year_y':'Year'})\n",
    "    combined_table_2 = pd.merge(combined_table_2,resc_heating_usage, how ='left',on=['Hour','Minute']) \n",
    "    combined_table_2=combined_table_2[['Timestamp','Demand_mean_kw','N_households','res_heating_perc','power_excess','Year','Month','Hour','Minute']]\n",
    "\n",
    "    # Calculate the number of households joined in this DR program given the DR_penetration_perc\n",
    "    DR_penetration_num= orkney_households*DR_penetration_perc\n",
    "    \n",
    "    # Calculate additional residential electicity usage by installing DR system\n",
    "    combined_table_2['N_households']=orkney_households\n",
    "    combined_table_2['household_with_DR']=DR_penetration_num\n",
    "    combined_table_2['addi_demand_by_DR_kwh']=0.5*combined_table_2['household_with_DR']*combined_table_2['Demand_mean_kw']*combined_table_2['res_heating_perc']\n",
    "    combined_table_2\n",
    "\n",
    "    # Replace negative/NaN saved curtailment energy by 0\n",
    "    combined_table_2['saved_curtailment_kwh']= combined_table_2[['addi_demand_by_DR_kwh','power_excess']].min(axis=1)\n",
    "    combined_table_2['saved_curtailment_kwh'] = combined_table_2['saved_curtailment_kwh'].fillna(0)\n",
    "    \n",
    "\n",
    "    #Print yearly_saved_energy(mwh)\n",
    "    Monthly_energy_saving = pd.DataFrame(combined_table_2.groupby(['Month'])['saved_curtailment_kwh'].sum())\n",
    "    x = Monthly_energy_saving.index.values\n",
    "    y1 = Monthly_energy_saving['saved_curtailment_kwh']/Monthly_energy_saving['saved_curtailment_kwh'].sum()\n",
    "    \n",
    "\n",
    "\n",
    "    plt.plot(x,y1,label='2017 saved curtailed energy at each month')\n",
    "    plt.title(\"Monthly distribution of energy saving (100% penetration)\")\n",
    "    plt.ylabel(\"Proportion of energy saving per month (Index)\")\n",
    "    plt.xlabel(\"Month\")\n",
    "    \n",
    "Monthly_energy_saving(1)"
   ]
  },
  {
   "cell_type": "code",
   "execution_count": 14,
   "metadata": {},
   "outputs": [
    {
     "data": {
      "image/png": "[encoded data removed]",
      "text/plain": [
       "<Figure size 432x288 with 1 Axes>"
      ]
     },
     "metadata": {
      "needs_background": "light"
     },
     "output_type": "display_data"
    }
   ],
   "source": [
    "\n",
    "\n",
    "#convert above graph to waterfall breakdown\n",
    "\n",
    "from IPython.display import display\n",
    "\n",
    "def Monthly_waterfall_graph(DR_penetration_perc):\n",
    "    # import new dataset\n",
    "\n",
    "    # Import resc_heating_usage\n",
    "    resc_heating_usage = pd.read_csv('Add_residential_heating_demand_perc.csv')\n",
    "\n",
    "    # Convert the orignal curtailed table(in minutes) to table(in half hours) \n",
    "    curtailed_power_dropna_minute = curtailed_power.dropna()\n",
    "    curtailed_power_dropna_minute['Timestamp'] = curtailed_power_dropna_minute['Timestamp'].apply(lambda dt: datetime.datetime(dt.year, dt.month, dt.day, dt.hour,30*(dt.minute // 30)))\n",
    "    curtailed_power_dropna_HH = pd.DataFrame(data = curtailed_power_dropna_minute.groupby(['Timestamp'])['power_excess'].mean()).reset_index()\n",
    "    curtailed_power_dropna_HH['Hour']  = curtailed_power_dropna_HH.Timestamp.dt.hour\n",
    "    curtailed_power_dropna_HH['Year']  = curtailed_power_dropna_HH.Timestamp.dt.year\n",
    "    curtailed_power_dropna_HH['Month']  = curtailed_power_dropna_HH.Timestamp.dt.month\n",
    "    curtailed_power_dropna_HH['Minute']  = curtailed_power_dropna_HH.Timestamp.dt.minute\n",
    "    curtailed_power_dropna_HH['Day']  = curtailed_power_dropna_HH.Timestamp.dt.day\n",
    "\n",
    "    # Import Udemand\n",
    "    Udemand= pd.read_csv('residential_demand.csv')\n",
    "    Udemand = Udemand.reset_index()\n",
    "    Udemand.Timestamp = pd.to_datetime(Udemand.Timestamp)\n",
    "    Udemand['Demand_mean_kw'] = Udemand['Demand_mean_kw'] * 8193/365/24/Udemand.Demand_mean_kw.mean() \n",
    "    Udemand['Year']  = Udemand.Timestamp.dt.year\n",
    "    Udemand=Udemand[Udemand['Year']==2017]\n",
    "    Udemand['N_households']=orkney_households\n",
    "\n",
    "    # Find our that in curatiled_power_drop_na_HH, at what timestamps the power_excess is missing, fill them in with 0\n",
    "    curtailed_power_missing = pd.DataFrame(set(Udemand.Timestamp)-set(curtailed_power_dropna_HH.Timestamp),columns=['Timestamp'])\n",
    "    curtailed_power_missing['power_excess'] = 0\n",
    "    curtailed_power_missing['Hour']  = curtailed_power_missing.Timestamp.dt.hour\n",
    "    curtailed_power_missing['Year']  = curtailed_power_missing.Timestamp.dt.year\n",
    "    curtailed_power_missing['Month']  = curtailed_power_missing.Timestamp.dt.month\n",
    "    curtailed_power_missing['Minute']  = curtailed_power_missing.Timestamp.dt.minute\n",
    "    curtailed_power_missing['Day']  = curtailed_power_missing.Timestamp.dt.day\n",
    "    curtailed_power_fill_na = pd.concat([curtailed_power_missing,curtailed_power_dropna_HH])\n",
    "\n",
    "    # Merge the three tables and choose the necessary columns\n",
    "    combined_table_2 = pd.merge(Udemand,curtailed_power_fill_na, how ='left',on=['Timestamp']).drop(columns=['Year_x']).rename(columns={'Year_y':'Year'})\n",
    "    combined_table_2 = pd.merge(combined_table_2,resc_heating_usage, how ='left',on=['Hour','Minute']) \n",
    "    combined_table_2=combined_table_2[['Timestamp','Demand_mean_kw','N_households','res_heating_perc','power_excess','Year','Month','Hour','Minute']]\n",
    "\n",
    "    # Calculate the number of households joined in this DR program given the DR_penetration_perc\n",
    "    DR_penetration_num= orkney_households*DR_penetration_perc\n",
    "    \n",
    "    # Calculate additional residential electicity usage by installing DR system\n",
    "    combined_table_2['N_households']=orkney_households\n",
    "    combined_table_2['household_with_DR']=DR_penetration_num\n",
    "    combined_table_2['addi_demand_by_DR_kwh']=0.5*combined_table_2['household_with_DR']*combined_table_2['Demand_mean_kw']*combined_table_2['res_heating_perc']\n",
    "    combined_table_2\n",
    "\n",
    "    # Replace negative/NaN saved curtailment energy by 0\n",
    "    combined_table_2['saved_curtailment_kwh']= combined_table_2[['addi_demand_by_DR_kwh','power_excess']].min(axis=1)\n",
    "    combined_table_2['saved_curtailment_kwh'] = combined_table_2['saved_curtailment_kwh'].fillna(0)\n",
    " \n",
    "    #Print yearly_saved_energy(mwh)\n",
    "    combined_table_draw_month = pd.DataFrame(combined_table_2.groupby(['Month'])['saved_curtailment_kwh'].sum())\n",
    "    Index = combined_table_draw_month.index.values\n",
    "    data = combined_table_draw_month['saved_curtailment_kwh']\n",
    "\n",
    "    blank=combined_table_draw_month.saved_curtailment_kwh.cumsum().shift(1).fillna(0)\n",
    "\n",
    "    total = combined_table_draw_month.sum().saved_curtailment_kwh\n",
    "    combined_table_draw_month.loc[\"net\"] = total\n",
    "    blank.loc[\"net\"] = total\n",
    "\n",
    "\n",
    "    step = blank.reset_index(drop=True).repeat(3).shift(-1)\n",
    "    step[1::3] = np.nan\n",
    "\n",
    "    blank.loc[\"net\"] = 0\n",
    "\n",
    "    my_plot = combined_table_draw_month.plot(kind='bar', stacked=True, bottom=blank,legend=None, title=\"Waterfall chart of 2017 saved energy by month\")\n",
    "    my_plot.plot(step.index, step.values,'k')\n",
    "    plt.ylabel(\"Total saved energy per month (KWh)\")\n",
    "\n",
    "\n",
    "\n",
    "Monthly_waterfall_graph(1)\n",
    "\n"
   ]
  },
  {
   "cell_type": "code",
   "execution_count": 15,
   "metadata": {},
   "outputs": [
    {
     "data": {
      "image/png": "[encoded data removed]",
      "text/plain": [
       "<Figure size 432x288 with 1 Axes>"
      ]
     },
     "metadata": {
      "needs_background": "light"
     },
     "output_type": "display_data"
    }
   ],
   "source": [
    "def Hourly_waterfall_demand(DR_penetration_perc):\n",
    "\n",
    "\n",
    "    # Import resc_heating_usage\n",
    "    resc_heating_usage = pd.read_csv('Add_residential_heating_demand_perc.csv')\n",
    "\n",
    "    # Convert the orignal curtailed table(in minutes) to table(in half hours) \n",
    "    curtailed_power_dropna_minute = curtailed_power.dropna()\n",
    "    curtailed_power_dropna_minute['Timestamp'] = curtailed_power_dropna_minute['Timestamp'].apply(lambda dt: datetime.datetime(dt.year, dt.month, dt.day, dt.hour,30*(dt.minute // 30)))\n",
    "    curtailed_power_dropna_HH = pd.DataFrame(data = curtailed_power_dropna_minute.groupby(['Timestamp'])['power_excess'].mean()).reset_index()\n",
    "    curtailed_power_dropna_HH['Hour']  = curtailed_power_dropna_HH.Timestamp.dt.hour\n",
    "    curtailed_power_dropna_HH['Year']  = curtailed_power_dropna_HH.Timestamp.dt.year\n",
    "    curtailed_power_dropna_HH['Month']  = curtailed_power_dropna_HH.Timestamp.dt.month\n",
    "    curtailed_power_dropna_HH['Minute']  = curtailed_power_dropna_HH.Timestamp.dt.minute\n",
    "    curtailed_power_dropna_HH['Day']  = curtailed_power_dropna_HH.Timestamp.dt.day\n",
    "\n",
    "    # Import Udemand\n",
    "    Udemand= pd.read_csv('residential_demand.csv')\n",
    "    Udemand = Udemand.reset_index()\n",
    "    Udemand.Timestamp = pd.to_datetime(Udemand.Timestamp)\n",
    "    Udemand['Demand_mean_kw'] = Udemand['Demand_mean_kw'] * 8193/365/24/Udemand.Demand_mean_kw.mean() \n",
    "    Udemand['Year']  = Udemand.Timestamp.dt.year\n",
    "    Udemand=Udemand[Udemand['Year']==2017]\n",
    "    Udemand['N_households']=orkney_households\n",
    "\n",
    "    # Find our that in curatiled_power_drop_na_HH, at what timestamps the power_excess is missing, fill them in with 0\n",
    "    curtailed_power_missing = pd.DataFrame(set(Udemand.Timestamp)-set(curtailed_power_dropna_HH.Timestamp),columns=['Timestamp'])\n",
    "    curtailed_power_missing['power_excess'] = 0\n",
    "    curtailed_power_missing['Hour']  = curtailed_power_missing.Timestamp.dt.hour\n",
    "    curtailed_power_missing['Year']  = curtailed_power_missing.Timestamp.dt.year\n",
    "    curtailed_power_missing['Month']  = curtailed_power_missing.Timestamp.dt.month\n",
    "    curtailed_power_missing['Minute']  = curtailed_power_missing.Timestamp.dt.minute\n",
    "    curtailed_power_missing['Day']  = curtailed_power_missing.Timestamp.dt.day\n",
    "    curtailed_power_fill_na = pd.concat([curtailed_power_missing,curtailed_power_dropna_HH])\n",
    "\n",
    "    # Merge the three tables and choose the necessary columns\n",
    "    combined_table_2 = pd.merge(Udemand,curtailed_power_fill_na, how ='left',on=['Timestamp']).drop(columns=['Year_x']).rename(columns={'Year_y':'Year'})\n",
    "    combined_table_2 = pd.merge(combined_table_2,resc_heating_usage, how ='left',on=['Hour','Minute']) \n",
    "    combined_table_2=combined_table_2[['Timestamp','Demand_mean_kw','N_households','res_heating_perc','power_excess','Year','Month','Hour','Minute']]\n",
    "\n",
    "    # Calculate the number of households joined in this DR program given the DR_penetration_perc\n",
    "    DR_penetration_num= orkney_households*DR_penetration_perc\n",
    "    \n",
    "    # Calculate additional residential electicity usage by installing DR system\n",
    "    combined_table_2['N_households']=orkney_households\n",
    "    combined_table_2['household_with_DR']=DR_penetration_num\n",
    "    combined_table_2['addi_demand_by_DR_kwh']=0.5*combined_table_2['household_with_DR']*combined_table_2['Demand_mean_kw']*combined_table_2['res_heating_perc']\n",
    "    combined_table_2\n",
    "\n",
    "    # Replace negative/NaN saved curtailment energy by 0\n",
    "    combined_table_2['saved_curtailment_kwh']= combined_table_2[['addi_demand_by_DR_kwh','power_excess']].min(axis=1)\n",
    "    combined_table_2['saved_curtailment_kwh'] = combined_table_2['saved_curtailment_kwh'].fillna(0)    \n",
    "    \n",
    "    \n",
    "    #Print yearly_saved_energy(mwh)\n",
    "    Hourly_DR_demand = pd.DataFrame(combined_table_2.groupby(['Hour'])['addi_demand_by_DR_kwh'].sum())\n",
    "    x = Hourly_DR_demand.index.values\n",
    "    y1 = 100*Hourly_DR_demand['addi_demand_by_DR_kwh']/Hourly_DR_demand['addi_demand_by_DR_kwh'].sum()\n",
    "\n",
    "    plt.plot(x,y1,label='Residential heating demand')\n",
    "    plt.title(\"Distribution of DR heating demand by hour (penetration=1)\")\n",
    "    plt.ylabel(\"Distribution of energy saving by hour (%)\")\n",
    "    plt.xlabel(\"Hour\")\n",
    "    plt.legend()\n",
    "\n",
    "Hourly_waterfall_demand(1)\n",
    "    \n"
   ]
  },
  {
   "cell_type": "code",
   "execution_count": 16,
   "metadata": {},
   "outputs": [
    {
     "data": {
      "image/png": "[encoded data removed]",
      "text/plain": [
       "<Figure size 432x288 with 1 Axes>"
      ]
     },
     "metadata": {
      "needs_background": "light"
     },
     "output_type": "display_data"
    }
   ],
   "source": [
    "def Hourly_waterfall_graph_combined(DR_penetration_perc):\n",
    "    # import new dataset\n",
    "\n",
    "    # Import resc_heating_usage\n",
    "    resc_heating_usage = pd.read_csv('Add_residential_heating_demand_perc.csv')\n",
    "\n",
    "    # Convert the orignal curtailed table(in minutes) to table(in half hours) \n",
    "    curtailed_power_dropna_minute = curtailed_power.dropna()\n",
    "    curtailed_power_dropna_minute['Timestamp'] = curtailed_power_dropna_minute['Timestamp'].apply(lambda dt: datetime.datetime(dt.year, dt.month, dt.day, dt.hour,30*(dt.minute // 30)))\n",
    "    curtailed_power_dropna_HH = pd.DataFrame(data = curtailed_power_dropna_minute.groupby(['Timestamp'])['power_excess'].mean()).reset_index()\n",
    "    curtailed_power_dropna_HH['Hour']  = curtailed_power_dropna_HH.Timestamp.dt.hour\n",
    "    curtailed_power_dropna_HH['Year']  = curtailed_power_dropna_HH.Timestamp.dt.year\n",
    "    curtailed_power_dropna_HH['Month']  = curtailed_power_dropna_HH.Timestamp.dt.month\n",
    "    curtailed_power_dropna_HH['Minute']  = curtailed_power_dropna_HH.Timestamp.dt.minute\n",
    "    curtailed_power_dropna_HH['Day']  = curtailed_power_dropna_HH.Timestamp.dt.day\n",
    "\n",
    "    # Import Udemand\n",
    "    Udemand= pd.read_csv('residential_demand.csv')\n",
    "    Udemand = Udemand.reset_index()\n",
    "    Udemand.Timestamp = pd.to_datetime(Udemand.Timestamp)\n",
    "    Udemand['Demand_mean_kw'] = Udemand['Demand_mean_kw'] * 8193/365/24/Udemand.Demand_mean_kw.mean() \n",
    "    Udemand['Year']  = Udemand.Timestamp.dt.year\n",
    "    Udemand=Udemand[Udemand['Year']==2017]\n",
    "    Udemand['N_households']=orkney_households\n",
    "\n",
    "    # Find our that in curatiled_power_drop_na_HH, at what timestamps the power_excess is missing, fill them in with 0\n",
    "    curtailed_power_missing = pd.DataFrame(set(Udemand.Timestamp)-set(curtailed_power_dropna_HH.Timestamp),columns=['Timestamp'])\n",
    "    curtailed_power_missing['power_excess'] = 0\n",
    "    curtailed_power_missing['Hour']  = curtailed_power_missing.Timestamp.dt.hour\n",
    "    curtailed_power_missing['Year']  = curtailed_power_missing.Timestamp.dt.year\n",
    "    curtailed_power_missing['Month']  = curtailed_power_missing.Timestamp.dt.month\n",
    "    curtailed_power_missing['Minute']  = curtailed_power_missing.Timestamp.dt.minute\n",
    "    curtailed_power_missing['Day']  = curtailed_power_missing.Timestamp.dt.day\n",
    "    curtailed_power_fill_na = pd.concat([curtailed_power_missing,curtailed_power_dropna_HH])\n",
    "\n",
    "    # Merge the three tables and choose the necessary columns\n",
    "    combined_table_2 = pd.merge(Udemand,curtailed_power_fill_na, how ='left',on=['Timestamp']).drop(columns=['Year_x']).rename(columns={'Year_y':'Year'})\n",
    "    combined_table_2 = pd.merge(combined_table_2,resc_heating_usage, how ='left',on=['Hour','Minute']) \n",
    "    combined_table_2=combined_table_2[['Timestamp','Demand_mean_kw','N_households','res_heating_perc','power_excess','Year','Month','Hour','Minute']]\n",
    "\n",
    "    # Calculate the number of households joined in this DR program given the DR_penetration_perc\n",
    "    DR_penetration_num= orkney_households*DR_penetration_perc\n",
    "    \n",
    "    # Calculate additional residential electicity usage by installing DR system\n",
    "    combined_table_2['N_households']=orkney_households\n",
    "    combined_table_2['household_with_DR']=DR_penetration_num\n",
    "    combined_table_2['addi_demand_by_DR_kwh']=0.5*combined_table_2['household_with_DR']*combined_table_2['Demand_mean_kw']*combined_table_2['res_heating_perc']\n",
    "    combined_table_2\n",
    "\n",
    "    # Replace negative/NaN saved curtailment energy by 0\n",
    "    combined_table_2['saved_curtailment_kwh']= combined_table_2[['addi_demand_by_DR_kwh','power_excess']].min(axis=1)\n",
    "    combined_table_2['saved_curtailment_kwh'] = combined_table_2['saved_curtailment_kwh'].fillna(0)    \n",
    "   \n",
    "\n",
    "    #Print yearly_saved_energy(mwh)\n",
    "    yearly_saved_energy_AF_hourly = pd.DataFrame(combined_table_2.groupby(['Hour'])['saved_curtailment_kwh'].sum())\n",
    "    x = yearly_saved_energy_AF_hourly.index.values\n",
    "    y1 = 100*yearly_saved_energy_AF_hourly['saved_curtailment_kwh']/yearly_saved_energy_AF_hourly['saved_curtailment_kwh'].sum()\n",
    "\n",
    "    plt.plot(x,y1,label='curtailment energy saving')\n",
    "    plt.title(\"Hourly distribution of energy saving/demand (penetration=1)\")\n",
    "    plt.ylabel(\"Hourly distribution of energy saving (%)\")\n",
    "    plt.xlabel(\"Hour\")\n",
    "    plt.legend()\n",
    "\n",
    "    \n",
    "    \n",
    "Hourly_waterfall_demand(1)\n",
    "Hourly_waterfall_graph_combined(1)\n"
   ]
  },
  {
   "cell_type": "markdown",
   "metadata": {},
   "source": [
    "# Q3: function for NPV analysis"
   ]
  },
  {
   "cell_type": "code",
   "execution_count": 37,
   "metadata": {},
   "outputs": [],
   "source": [
    "total_number_household = 10385\n",
    "discount_rate = 0.25\n",
    "P1 = 56/1000\n",
    "            # The unit is (GBP/KWh)\n",
    "            # the wholesale price is the generator sells the energy in the general market (based on online data)\n",
    "\n",
    "P2 = 0.05 # The unit is (GBP/KWh)\n",
    "            # There is the gas price which the local residents are used for heating\n",
    "            # https://www.thegreenage.co.uk/cheaper-heat-home-gas-electricity/\n",
    "P3 = 60/1000 # The unit is (GBP/KWh)\n",
    "            # This is the electricity price that the local residents will use for heating  \n",
    "            # https://www.thegreenage.co.uk/cheaper-heat-home-gas-electricity/\n",
    "\n",
    "FC = 100 # The unit is (GBP/Household)\n",
    "         # the installment cost of this DR program \n",
    "VC = 1 # The unit is (GBP/month * household） "
   ]
  },
  {
   "cell_type": "code",
   "execution_count": 38,
   "metadata": {},
   "outputs": [],
   "source": [
    "def return_wholesale_price():\n",
    "    col_list = ['YEAR','MONTH', 'WHOLESALE PRICE(￡/MWh）']\n",
    "    wholesale_price = pd.read_csv('wholesale_price.csv',usecols=col_list) # https://www.businesselectricityprices.org.uk/retail-versus-wholesale-prices/\n",
    "    wholesale_price['Cumulative_Month'] = wholesale_price.index.values + 1\n",
    "    return wholesale_price\n",
    "\n",
    "def return_Revenue_for_generator(n,p_energy,P1): \n",
    "    return p_energy*P1\n",
    "\n",
    "def return_Loss_for_all_household(p_energy,P3,P2):\n",
    "    return p_energy*(P2-P3)\n",
    "    \n",
    "def return_degree_of_penetration(year_index,total_number_household,ideal_penetration):\n",
    "    x_list = np.arange(0.1, 1.1, 0.1).tolist()\n",
    "    y_list = [x*total_number_household*ideal_penetration for x in x_list]\n",
    "    percentage_degree = x_list[year_index]\n",
    "    cumulative_number_of_household = y_list[year_index]\n",
    "    return percentage_degree,cumulative_number_of_household"
   ]
  },
  {
   "cell_type": "code",
   "execution_count": 39,
   "metadata": {},
   "outputs": [],
   "source": [
    "def return_Net_Cash_flow_Kaluza(year_index,ideal_penetration,total_number_household):\n",
    "        \n",
    "    percentage_degree,cumulative_number_of_household = return_degree_of_penetration(year_index,total_number_household,ideal_penetration)\n",
    "    \n",
    "    monthly_saved_energy = saved_curtailmend_power_AF_monthly_Qian(percentage_degree,total_number_household).reset_index()\n",
    "    p_energy = monthly_saved_energy.saved_curtailment_kwh * ideal_penetration\n",
    "    monthly_saved_energy['saved_curtailment_kwh'] = p_energy\n",
    "    month = monthly_saved_energy.Month.unique()\n",
    "    \n",
    "    table_Q2 = pd.DataFrame(data = month,columns=['Month']).set_index('Month')\n",
    "    table_Q2 = pd.merge(table_Q2,monthly_saved_energy,how='inner',on=['Month'])\n",
    "    table_Q2['year_index'] = year_index\n",
    "    table_Q2['n'] = total_number_household*ideal_penetration*0.1*(year_index+1)\n",
    "    table_Q2['New_Installment'] = 0\n",
    "    table_Q2['New_Installment'].iloc._setitem_with_indexer(0,total_number_household*ideal_penetration*0.1)\n",
    "    table_Q2['P1(￡/KWh)'] = P1\n",
    "    table_Q2['P3(￡/KWh)'] = P3\n",
    "    table_Q2['P2(￡/KWh)'] = P2\n",
    "    table_Q2['FC(￡)'] = FC\n",
    "    table_Q2['VC(￡)'] = VC\n",
    "    table_Q2['Revenue_Generator'] = table_Q2.apply(lambda row:return_Revenue_for_generator(row['n'],row['saved_curtailment_kwh'],row['P1(￡/KWh)']),axis=1)\n",
    "    table_Q2['Loss_All_Household'] = table_Q2.apply(lambda row:return_Loss_for_all_household(row['saved_curtailment_kwh'],row['P3(￡/KWh)'],row['P2(￡/KWh)']),axis=1)\n",
    "    table_Q2['Revenue_minus_Loss'] = table_Q2['Revenue_Generator'] + table_Q2['Loss_All_Household']\n",
    "    table_Q2['Net_Income_for_Generator'] = table_Q2['Revenue_minus_Loss']/10*1\n",
    "    table_Q2['Net_Income_for_Kaluza'] = table_Q2['Revenue_minus_Loss']/10*9\n",
    "    table_Q2['Fixed_Cost_Kaluza'] = table_Q2['New_Installment']*100*1.2\n",
    "    table_Q2['Variable_Cost_Kaluza'] = VC * table_Q2['n']\n",
    "    table_Q2['Total_cost_Kaluza'] = table_Q2['Fixed_Cost_Kaluza'] + table_Q2['Variable_Cost_Kaluza']\n",
    "    table_Q2['Net_Cash_flow_Kaluza'] = table_Q2['Net_Income_for_Kaluza'] - table_Q2['Total_cost_Kaluza']\n",
    "    return table_Q2"
   ]
  },
  {
   "cell_type": "code",
   "execution_count": 40,
   "metadata": {},
   "outputs": [],
   "source": [
    "def add_NPV(table):\n",
    "    def return_npv(month,value):\n",
    "        monthly_discount_rate = 0.07/12\n",
    "        return value/(1+monthly_discount_rate)**(month-1)\n",
    "    table['Discounted_cash_flow'] = table.apply(lambda row: return_npv(row.Month,row.Net_Cash_flow_Kaluza),axis=1)\n",
    "    table['NPV'] = table['Discounted_cash_flow'].cumsum()\n",
    "    return table"
   ]
  },
  {
   "cell_type": "code",
   "execution_count": 54,
   "metadata": {
    "scrolled": true
   },
   "outputs": [],
   "source": [
    "def return_yearly_revenue_based_on_ideal_pentration(ideal_penetration,total_number_household):\n",
    "    years_list = list(range(0,10))\n",
    "    total_cash_flow_list = [return_Net_Cash_flow_Kaluza(year_index,ideal_penetration,total_number_household) for year_index in years_list]\n",
    "    total_cash_flow_model = pd.concat(total_cash_flow_list).reset_index().drop(columns=['index','P1(￡/KWh)','P2(￡/KWh)','P3(￡/KWh)','FC(￡)','VC(￡)'])\n",
    "    NPV_model = add_NPV(total_cash_flow_model)\n",
    "    yearly_revenue = NPV_model.groupby(['year_index'])['Discounted_cash_flow'].sum()\n",
    "    cumulative_cash_flow = yearly_revenue.cumsum()/1000\n",
    "    return total_cash_flow_model,cumulative_cash_flow,years_list"
   ]
  },
  {
   "cell_type": "code",
   "execution_count": 55,
   "metadata": {},
   "outputs": [],
   "source": [
    "def plot_Discounted_Cash_Flow_in_5_number_of_households_Assumptions():\n",
    "    total_cash_flow_model_10000,cumulative_cash_flow_list_10000,years_list = return_yearly_revenue_based_on_ideal_pentration(0.75,10000)\n",
    "    total_cash_flow_model_20000,cumulative_cash_flow_list_20000,years_list = return_yearly_revenue_based_on_ideal_pentration(0.75,20000)\n",
    "    total_cash_flow_model_30000,cumulative_cash_flow_list_30000,years_list = return_yearly_revenue_based_on_ideal_pentration(0.75,30000)\n",
    "    total_cash_flow_model_40000,cumulative_cash_flow_list_40000,years_list = return_yearly_revenue_based_on_ideal_pentration(0.75,40000)\n",
    "    total_cash_flow_model_50000,cumulative_cash_flow_list_50000,years_list = return_yearly_revenue_based_on_ideal_pentration(0.75,50000)\n",
    "    years_list_updated = [years + 1 for years in years_list] \n",
    "    plt.plot(years_list_updated,cumulative_cash_flow_list_10000,'-.',label='Number of Households: 10000')\n",
    "    plt.plot(years_list_updated,cumulative_cash_flow_list_20000,'-.',label='Number of Households: 20000')\n",
    "    plt.plot(years_list_updated,cumulative_cash_flow_list_30000,'-.',label='Number of Households: 30000')\n",
    "    plt.plot(years_list_updated,cumulative_cash_flow_list_40000,'--',label='Number of Households: 40000')\n",
    "    plt.plot(years_list_updated,cumulative_cash_flow_list_50000,'-',label='Number of Households: 50000')\n",
    "    plt.legend()\n",
    "    plt.xlabel('Year')\n",
    "    plt.ylabel('Discount cash flow(K)')\n",
    "    plt.legend()\n",
    "    plt.title(\"Cumulative Discounted Cash Flow in Assumptions of Number Of Households\")"
   ]
  },
  {
   "cell_type": "code",
   "execution_count": 56,
   "metadata": {},
   "outputs": [],
   "source": [
    "def datetime_positive_NPV(total_cash_flow_model):\n",
    "    Month =  total_cash_flow_model[ total_cash_flow_model.NPV >= 0].iloc[0].Month\n",
    "    Year =  total_cash_flow_model[ total_cash_flow_model.NPV >= 0].iloc[0].year_index\n",
    "    return int(Month),int(Year)"
   ]
  },
  {
   "cell_type": "code",
   "execution_count": 57,
   "metadata": {
    "scrolled": true
   },
   "outputs": [],
   "source": [
    "def return_required_month_for_positive_NPV():\n",
    "    total_cash_flow_model_10000,cumulative_cash_flow_list_10000,years_list = return_yearly_revenue_based_on_ideal_pentration(0.75,10000)\n",
    "    Month_10000, Year_10000 = datetime_positive_NPV(total_cash_flow_model_10000)\n",
    "    Month_total_10000 = Year_10000 * 12 + Month_10000\n",
    "    total_cash_flow_model_50000,cumulative_cash_flow_list_50000,years_list = return_yearly_revenue_based_on_ideal_pentration(0.75,50000)\n",
    "    Month_50000, Year_50000 = datetime_positive_NPV(total_cash_flow_model_50000)\n",
    "    Month_total_50000 = Year_50000 * 12 + Month_50000\n",
    "    print('If there are 10000 numbers of households in the Orkney Islands, months required to make a positive NPV: {}.'.format(Month_total_10000))\n",
    "    print('If there are 50000 numbers of households in the Orkney Islands, months required to make a positive NPV: {}.'.format(Month_total_50000))"
   ]
  },
  {
   "cell_type": "code",
   "execution_count": 58,
   "metadata": {
    "scrolled": true
   },
   "outputs": [],
   "source": [
    "def plot_Discounted_Cash_Flow_in_3_degree_Assumptions():\n",
    "    total_cash_flow_model_90,cumulative_cash_flow_list_90,years_list = return_yearly_revenue_based_on_ideal_pentration(0.9,total_number_household)\n",
    "    total_cash_flow_model_75,cumulative_cash_flow_list_75,years_list = return_yearly_revenue_based_on_ideal_pentration(0.75,total_number_household)\n",
    "    total_cash_flow_model_50,cumulative_cash_flow_list_50,years_list = return_yearly_revenue_based_on_ideal_pentration(0.5,total_number_household)\n",
    "    years_list_updated = [years + 1 for years in years_list] \n",
    "    plt.plot(years_list_updated,cumulative_cash_flow_list_90,'-',label='Final degree of penetration: 90%')\n",
    "    plt.plot(years_list_updated,cumulative_cash_flow_list_75,'--',label='Final degree of penetration: 75%')\n",
    "    plt.plot(years_list_updated,cumulative_cash_flow_list_50,'-.',label='Final degree of penetration: 50%')\n",
    "    plt.xlabel('Year')\n",
    "    plt.ylabel('Discount cash flow(K)')\n",
    "    plt.legend()\n",
    "    plt.title(\"Cumulative Discounted Cash Flow in Assumptions of Degree of Penetration\")"
   ]
  },
  {
   "cell_type": "code",
   "execution_count": 59,
   "metadata": {},
   "outputs": [
    {
     "data": {
      "image/png": "[encoded data removed]",
      "text/plain": [
       "<Figure size 432x288 with 1 Axes>"
      ]
     },
     "metadata": {
      "needs_background": "light"
     },
     "output_type": "display_data"
    }
   ],
   "source": [
    "plot_Discounted_Cash_Flow_in_3_degree_Assumptions()"
   ]
  },
  {
   "cell_type": "code",
   "execution_count": 60,
   "metadata": {
    "scrolled": false
   },
   "outputs": [
    {
     "data": {
      "image/png": "[encoded data removed]",
      "text/plain": [
       "<Figure size 432x288 with 1 Axes>"
      ]
     },
     "metadata": {
      "needs_background": "light"
     },
     "output_type": "display_data"
    }
   ],
   "source": [
    "plot_Discounted_Cash_Flow_in_5_number_of_households_Assumptions()"
   ]
  },
  {
   "cell_type": "code",
   "execution_count": 61,
   "metadata": {},
   "outputs": [
    {
     "name": "stdout",
     "output_type": "stream",
     "text": [
      "If there are 10000 numbers of households in the Orkney Islands, months required to make a positive NPV: 90.\n",
      "If there are 50000 numbers of households in the Orkney Islands, months required to make a positive NPV: 95.\n"
     ]
    }
   ],
   "source": [
    "return_required_month_for_positive_NPV()"
   ]
  }
 ],
 "metadata": {
  "kernelspec": {
   "display_name": "Python 3",
   "language": "python",
   "name": "python3"
  },
  "language_info": {
   "codemirror_mode": {
    "name": "ipython",
    "version": 3
   },
   "file_extension": ".py",
   "mimetype": "text/x-python",
   "name": "python",
   "nbconvert_exporter": "python",
   "pygments_lexer": "ipython3",
   "version": "3.8.5"
  }
 },
 "nbformat": 4,
 "nbformat_minor": 4
}
