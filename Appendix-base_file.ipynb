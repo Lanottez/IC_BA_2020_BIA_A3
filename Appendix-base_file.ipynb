{
 "cells": [
  {
   "cell_type": "code",
   "execution_count": null,
   "metadata": {},
   "outputs": [],
   "source": [
    "# Try to build you code based on this one, so it will be easier for us to intergate all the codes into one file\n",
    "# Create a function for each plot that you want to call\n",
    "# Replace the screenshot in final report to the function you want to call "
   ]
  },
  {
   "cell_type": "code",
   "execution_count": null,
   "metadata": {},
   "outputs": [],
   "source": [
    "import pandas as pd\n",
    "import numpy as np\n",
    "import math\n",
    "\n",
    "from datetime import datetime\n",
    "import matplotlib.pyplot as plt\n",
    "import seaborn as sns"
   ]
  },
  {
   "cell_type": "code",
   "execution_count": null,
   "metadata": {},
   "outputs": [],
   "source": [
    "# Import data\n",
    "# This cell should applies to the code of all of us\n",
    "data_path = \"./data/\"\n",
    "subscriptions = pd.read_csv(data_path + 'subscriptionsdataFINAL.csv') \n",
    "visitation_part1 = pd.read_csv(data_path + 'visitationdataPART1.csv') \n",
    "visitation_part2 = pd.read_csv(data_path + 'visitationdataPART2.csv') #convert the join and end date to_date\n",
    "subscriptions['Join Date'] =  pd.to_datetime(subscriptions['Join Date'].str.upper(), format='%b-%y', yearfirst=False)\n",
    "subscriptions['Join_year'] = pd.DatetimeIndex(subscriptions['Join Date']).year\n",
    "subscriptions['End Date'] =  pd.to_datetime(subscriptions['End Date'].str.upper(), format='%b-%y', yearfirst=False)\n",
    "subscriptions.dropna()"
   ]
  },
  {
   "cell_type": "code",
   "execution_count": null,
   "metadata": {},
   "outputs": [],
   "source": [
    "# Create the seperate dataset to avoid any variable name conflict \n",
    "subscriptions_Qian =  subscriptions.copy()\n",
    "visitation_part1_Qian = visitation_part1.copy() \n",
    "visitation_part2_Qian = visitation_part2.copy()  "
   ]
  },
  {
   "cell_type": "code",
   "execution_count": null,
   "metadata": {},
   "outputs": [],
   "source": [
    "# Data Processing - Qian\n",
    "df = subscriptions_Qian.copy()\n",
    "numbers_club = pd.DataFrame(df.groupby('Join_year')['Club'].nunique())\n",
    "numbers_club['Growth']=numbers_club['Club'].pct_change()\n",
    "member_joined_data = subscriptions.groupby(['Join Date','Subscription Type']).size().reset_index(name='Number_of_member_joined')\n",
    "member_joined_data = member_joined_data.rename(columns={'Join Date': \"Date\"})\n",
    "member_left_data = subscriptions.groupby(['End Date','Subscription Type']).size().reset_index(name='Number_of_member_left')\n",
    "member_left_data=member_left_data.rename(columns={'End Date': \"Date\"})\n",
    "member_left_data['Date']=member_left_data['Date'] + pd.DateOffset(months=1)\n",
    "member_data = pd.merge(member_joined_data,member_left_data,on = ['Subscription Type','Date'],how='outer').sort_index().replace({np.nan:0})\n",
    "member_data['net_member'] = member_data['Number_of_member_joined'] - member_data['Number_of_member_left'] \n",
    "member_data = member_data.drop(columns = ['Number_of_member_joined', 'Number_of_member_left'])\n",
    "Cumulative_Members = pd.DataFrame(member_data.groupby(['Date']).sum('net_member').unstack(fill_value=0))\n",
    "Cumulative_Members = Cumulative_Members.rename(columns={0: \"Cumulative_members\"})\n",
    "Cumulative_Members = Cumulative_Members.cumsum().reset_index()\n",
    "Cumulative_Members_yearly = Cumulative_Members.copy()\n",
    "Cumulative_Members_yearly['year'] = pd.DatetimeIndex(Cumulative_Members_yearly['Date']).year\n",
    "Cumulative_Members_yearly=Cumulative_Members_yearly.groupby(['year']).sum()\n",
    "Cumulative_Members_yearly=Cumulative_Members_yearly.drop([2019])\n",
    "Cumulative_Members_yearly['Cumulative_members_Grwoth']=Cumulative_Members_yearly['Cumulative_members'].pct_change()\n",
    "Cumulative_Members_seperating = pd.DataFrame(member_data.groupby(['Date','Subscription Type']).sum('net_member').unstack(fill_value=0))\n",
    "Cumulative_Members_seperating = Cumulative_Members_seperating.rename(columns={0: \"Cumulative_members\"})\n",
    "Cumulative_Members_seperating = Cumulative_Members_seperating.cumsum().reset_index()\n",
    "x = Cumulative_Members_seperating['net_member']\n",
    "y = pd.DataFrame({'Date':Cumulative_Members_seperating['Date']})\n",
    "y['Flexible']=x['Flexible']\n",
    "y['Standard']=x['Standard']\n",
    "Cumulative_Members_seperating=y\n",
    "def calculate_revenue_flexible(Date,net_member):\n",
    "    date_while_price_changed = pd.Timestamp('2016-01-01') \n",
    "    if Date < date_while_price_changed:\n",
    "        return net_member * 25.99\n",
    "    elif Date >= date_while_price_changed:\n",
    "        return net_member * 30.99\n",
    "def calculate_revenue_standard(Date,net_member):\n",
    "    date_while_price_changed = pd.Timestamp('2016-01-01') \n",
    "    if Date < date_while_price_changed:\n",
    "        return net_member * 20.99\n",
    "    elif Date >= date_while_price_changed:\n",
    "        return net_member * 26.99 \n",
    "Cumulative_Members_seperating_revenue = Cumulative_Members_seperating.copy()\n",
    "Cumulative_Members_seperating_revenue['Flexible_revenue']=Cumulative_Members_seperating_revenue.apply(lambda row: calculate_revenue_flexible(row['Date'], row['Flexible']),axis=1)\n",
    "Cumulative_Members_seperating_revenue['Standard_revenue']=Cumulative_Members_seperating_revenue.apply(lambda row: calculate_revenue_standard(row['Date'], row['Standard']),axis=1)\n",
    "Cumulative_Members_seperating_revenue['Total_revenue']=Cumulative_Members_seperating_revenue['Flexible_revenue'] + Cumulative_Members_seperating_revenue['Standard_revenue']\n",
    "Cumulative_Members_seperating_revenue_yearly = Cumulative_Members_seperating_revenue.copy()\n",
    "Cumulative_Members_seperating_revenue_yearly['year'] = pd.DatetimeIndex(Cumulative_Members_seperating_revenue_yearly['Date']).year\n",
    "Cumulative_Members_seperating_revenue_yearly=Cumulative_Members_seperating_revenue_yearly.groupby(['year']).sum()\n",
    "Cumulative_Members_seperating_revenue_yearly=Cumulative_Members_seperating_revenue_yearly.drop([2019])\n",
    "Cumulative_Members_seperating_revenue_yearly['Revenue_grwoth']=Cumulative_Members_seperating_revenue_yearly['Total_revenue'].pct_change()"
   ]
  },
  {
   "cell_type": "code",
   "execution_count": null,
   "metadata": {},
   "outputs": [],
   "source": [
    "# Function to plot graph - Qian\n",
    "def plot_growth_of_new_members():\n",
    "    Year = Cumulative_Members_yearly.index.values\n",
    "    Cumulative_members_Grwoth = Cumulative_Members_yearly['Cumulative_members_Grwoth']\n",
    "    plt.plot(Year,Cumulative_members_Grwoth)\n",
    "    plt.ylabel('%')\n",
    "    plt.title('Growth of New Members')\n",
    "def plot_cumulative_active_members():\n",
    "    Date = Cumulative_Members.Date\n",
    "    Cumulative_members = Cumulative_Members.Cumulative_members\n",
    "    plt.plot(Date[:-1],Cumulative_members[:-1])\n",
    "    plt.title('Cumulative Active Members')\n",
    "    plt.axvline(x='2016-01-01')\n",
    "def plot_monthly_revenue():\n",
    "    Date = Cumulative_Members_seperating_revenue['Date']\n",
    "    Total = Cumulative_Members_seperating_revenue['Total_revenue']\n",
    "    plt.plot(Date[:-1],Total[:-1],label = 'Total')\n",
    "    plt.axvline(x='2016-01-01')\n",
    "    plt.ylabel('Pound')\n",
    "    plt.title('Monthly Revenue')\n",
    "def plot_growth_yearly_revenue():\n",
    "    Date = Cumulative_Members_seperating_revenue_yearly.index.values\n",
    "    Revenue_grwoth = Cumulative_Members_seperating_revenue_yearly['Revenue_grwoth']\n",
    "    plt.plot(Date,Revenue_grwoth)\n",
    "    plt.ylabel('%')\n",
    "    plt.title('Yearly Revenue Growth')\n",
    "def plot_bar_yearly_revenue():\n",
    "    r =  np.arange(2009,2019)\n",
    "    Total_revenue = Cumulative_Members_seperating_revenue_yearly['Total_revenue']\n",
    "    plt.ylabel('Pound')\n",
    "    plt.bar(r,Total_revenue)\n",
    "    plt.title('Yearly Revenue')"
   ]
  }
 ],
 "metadata": {
  "kernelspec": {
   "display_name": "Python 3",
   "language": "python",
   "name": "python3"
  },
  "language_info": {
   "codemirror_mode": {
    "name": "ipython",
    "version": 3
   },
   "file_extension": ".py",
   "mimetype": "text/x-python",
   "name": "python",
   "nbconvert_exporter": "python",
   "pygments_lexer": "ipython3",
   "version": "3.8.5"
  }
 },
 "nbformat": 4,
 "nbformat_minor": 4
}
