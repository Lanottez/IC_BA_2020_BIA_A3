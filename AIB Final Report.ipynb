{
 "cells": [
  {
   "cell_type": "markdown",
   "metadata": {},
   "source": [
    "# Client Case: OG&Gym\n",
    "## Analytics in Business\n",
    "25/1/2021\n",
    "By Group A3\n",
    "Qian Zhang\n",
    "Yuxi Fu\n",
    "Maria Tsotalou \n",
    "Chen Jiaqi \n",
    "Jiaxuan"
   ]
  },
  {
   "cell_type": "markdown",
   "metadata": {},
   "source": [
    "### Summary\n",
    "    The purpose of this report is to provide an overview of OG&Gym’s performance over the ten years with comparison to its competitors, to review the impact of the price increase in 2016, and to offer our suggestion about the pricing strategy to the operator of OG&Gym. The source of information includes the public information, including news, public research report, etc, and private dataset provided by our client, including user subscriptions data and visitation data from 2009 to 2019.  \n",
    "    \n",
    "    Based on the dataset, we conclude that (...)(Results)(Discussion)(Conclusion)\n"
   ]
  },
  {
   "cell_type": "markdown",
   "metadata": {},
   "source": [
    "### Introduction\n",
    "    In recent years, the fitness industry in the United Kingdom has been growing rapidly. In 2019, the fitness penetration rate has grown to 15.6%; in the other word, 1 in every 7 people is a member of a gym[ref]. Over the 12 month period to the end of March 2019, fitness facilities increased by 2.9%, from 7038 to 7239, the total number of members increased by 4.7% to 10.4 million, and the market value increased 4.2% to £5.1 billion. However, the growth of new fitness facilities has been slowing down, as 215 new fitness facilities opened in the last 12 months, down from 275 in 2018[ref]. While the overall fitness industry is growing, the competition has become more intense. Therefore, the operator of the fitness enterprise should pay close attention to customer churn rate, pricing strategy and marketing strategy to maintain the growth of its revenue, and use modern data science and technology to guide any business decision, otherwise the enterprise is in the risk of falling behind competitors. Our client is the operator of OG&Gym, a budget gym. The gym has been operating well over the past 10 years and expanded to every borough in London, but the expansion began to slow recently. While the operator decided to increase the price for both standard and flexible memberships to maintain the growth, the increase of revenue is not as much as they would have hoped.\n",
    "    \n",
    "    This report aims to help our client to make smarter business decisions by analyzing the subscription and visitation of members. There are a few key fields to which this report addresses. First, by analyzing the overall growth of revenue and churn rate, our client could compare the performance of OG&Gym to the average performance in the whole industry. Second, we aim to provide a better pricing strategy to our client, as we believe the current pricing strategy of our clients is flawed since charges the same fees for clubs in different regions of London and in different seasons. Therefore, we want to help our client to make a more flexible pricing strategy, including seasonal discount or off-peak discount, that could help them to attract more members and consequently increase its revenues. We are looking to analyze the factors that might influence whether a member is going to leave by analyzing the churn rate of different groups by identifying the customers profile. While given such limited data we are unable to provide a very detailed insight about the factors that are driving the members away, we are looking to spot any incidents that are worth further exploration. Third, we will analyze how the price increase in 2016 affected the different segments to help our client to understand why the increased revenue is lower than supposed.  Fourth, we will apply machine learning technology to predict the duration of membership of a new customer that could provide more insight to help our client to make business decisions for the future. "
   ]
  },
  {
   "cell_type": "markdown",
   "metadata": {},
   "source": [
    "### Technologies and techniques\n",
    "    An exact process description used in the analysis\n",
    "    \n",
    "    Sufficient detail of the data analysis for someone to replicate the results (this should be automatic in Jupyter Notebook).\n",
    "#### KNN model to predict the duration rate"
   ]
  },
  {
   "cell_type": "markdown",
   "metadata": {},
   "source": [
    "### Results\n",
    "\n",
    "#%run ....../Appendix.ipynb"
   ]
  },
  {
   "cell_type": "markdown",
   "metadata": {},
   "source": [
    "#### Overall Picture, comparing it with benchmark\n",
    "(The subtitles below is only to show the structure, we don't need to keep the subtitles)\n",
    "comparing it with benchmark – The overall trend of company’s revenue graph has trend. …. In general we see OG&Gym’s revenue gradually increased over past years, even in 2016 where the company has a membership price increase. In the past 10 years, the company’s number of club has increased from less than 5 to over 30. This is …compare with industry average. After price increase in 2016, OG&Gym’s revenue increased by 2015. This is contributed by two part, membership fee increases and new club increased. However this revenue increase is not as high as expected, which is due to churn rate increase caused most probably by the price increase. Below we will further analyse the customer’s reaction to the price increase. "
   ]
  },
  {
   "cell_type": "markdown",
   "metadata": {},
   "source": [
    "(The following plots answer question 2. what happened when the price was increased)"
   ]
  },
  {
   "cell_type": "markdown",
   "metadata": {},
   "source": [
    "\n",
    "\n",
    "## Plot Revenue total over the years \n",
    "\n"
   ]
  },
  {
   "cell_type": "markdown",
   "metadata": {},
   "source": [
    "## Plot Members total over the years \n"
   ]
  },
  {
   "cell_type": "markdown",
   "metadata": {},
   "source": [
    "## Plot Churn rate over the years (Mary)\n"
   ]
  },
  {
   "cell_type": "markdown",
   "metadata": {},
   "source": [
    "#[Appendix main notebook](./Appendix.ipynb).\n",
    "%run ./Appendix.ipynb\n",
    "from ipynb.fs.full.Appendix import plot_churn_total\n",
    "plot_churn_total()"
   ]
  },
  {
   "cell_type": "markdown",
   "metadata": {},
   "source": [
    "\n",
    "### Investigation on how the price increase affected different segments of the club members' population\n",
    "(this will answer partially the Q4 In addition to the price what other factors influence whether a member is going to leave)"
   ]
  },
  {
   "cell_type": "markdown",
   "metadata": {},
   "source": [
    "\n",
    "## Plot Churn for Affluece levels and comments\n",
    "\n"
   ]
  },
  {
   "cell_type": "markdown",
   "metadata": {},
   "source": [
    "Comments on affluence levels "
   ]
  },
  {
   "cell_type": "markdown",
   "metadata": {},
   "source": [
    "## Plot Churn for Age groups and comments\n"
   ]
  },
  {
   "cell_type": "markdown",
   "metadata": {},
   "source": [
    "## Plot Clubs Revenue with comments"
   ]
  },
  {
   "cell_type": "code",
   "execution_count": null,
   "metadata": {},
   "outputs": [],
   "source": []
  },
  {
   "cell_type": "code",
   "execution_count": null,
   "metadata": {},
   "outputs": [],
   "source": []
  },
  {
   "cell_type": "markdown",
   "metadata": {},
   "source": [
    "### Investigation of other kind of behaviour change over the years \n",
    "(this will answer the second part of the Q4 In addition to the price what other factors influence whether a member is going to leave)"
   ]
  },
  {
   "cell_type": "markdown",
   "metadata": {},
   "source": [
    "## Plot Duration Histogram over the years "
   ]
  },
  {
   "cell_type": "markdown",
   "metadata": {},
   "source": [
    "## Plot about the loyal customers etc and how much each category contributes to the revenue possible conclusion to try to increase the percentage of  loyal customers by ...%"
   ]
  },
  {
   "cell_type": "markdown",
   "metadata": {},
   "source": [
    "## Plot Clubs Churn and growth with comments - one club low two high"
   ]
  },
  {
   "cell_type": "code",
   "execution_count": null,
   "metadata": {},
   "outputs": [],
   "source": []
  },
  {
   "cell_type": "markdown",
   "metadata": {},
   "source": [
    "### Discussion"
   ]
  },
  {
   "cell_type": "markdown",
   "metadata": {},
   "source": [
    "#### Suggestions (Question 3)\n",
    "\n",
    "* Try to reduce churn rate, by giving better deal for people stay more than 12 months, by holding more group exercise, try to target better member to join -- based on the duration / loyalty\n",
    "\n",
    "* Except for adjustment in pricing maybe adapt a new business model , combining specialised services on a budget to reduce churn etc? combined with industry research\n",
    "\n",
    "\n",
    "What further data and analyses we will nees?"
   ]
  },
  {
   "cell_type": "markdown",
   "metadata": {},
   "source": [
    "#### Pricing Strategy ( Queastion 1)\n",
    "\n",
    "\n",
    "## ????????????"
   ]
  },
  {
   "cell_type": "code",
   "execution_count": null,
   "metadata": {},
   "outputs": [],
   "source": []
  },
  {
   "cell_type": "code",
   "execution_count": null,
   "metadata": {},
   "outputs": [],
   "source": []
  },
  {
   "cell_type": "markdown",
   "metadata": {},
   "source": [
    "## KNN model to predict the duration rate ( answers Question 5 up to a point)\n",
    "    While KNN model provides a technique to predict the duration of our customer and could help the client to make business decision in the future. For example, while a customer make inquary about the membership in the gym. The KNN model is also flawed. First, the accuracy rate is only 30% and it is far away from guarrenting a correct prediction. "
   ]
  },
  {
   "cell_type": "code",
   "execution_count": null,
   "metadata": {},
   "outputs": [],
   "source": []
  },
  {
   "cell_type": "markdown",
   "metadata": {},
   "source": [
    "### References"
   ]
  }
 ],
 "metadata": {
  "kernelspec": {
   "display_name": "Python 3",
   "language": "python",
   "name": "python3"
  },
  "language_info": {
   "codemirror_mode": {
    "name": "ipython",
    "version": 3
   },
   "file_extension": ".py",
   "mimetype": "text/x-python",
   "name": "python",
   "nbconvert_exporter": "python",
   "pygments_lexer": "ipython3",
   "version": "3.8.3"
  }
 },
 "nbformat": 4,
 "nbformat_minor": 4
}
