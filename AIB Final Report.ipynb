{
 "cells": [
  {
   "cell_type": "markdown",
   "metadata": {},
   "source": [
    "# Client Case: OG&Gym\n",
    "## Analytics in Business\n",
    "25/1/2021\n",
    "By Group A3\n",
    "Qian Zhang\n",
    "Yuxi Fu\n",
    "Maria Tsotalou \n",
    "Chen Jiaqi \n",
    "Jiaxuan"
   ]
  },
  {
   "cell_type": "markdown",
   "metadata": {},
   "source": [
    "### Summary\n",
    "    The purpose of this report is to provide an overview of OG&Gym’s performance over the ten years with comparison to its competitors, to review the impact of the price increase in 2016, and to offer our suggestion about the pricing strategy to the operator of OG&Gym. The source of information includes the public information, including news, public research report, etc, and private dataset provided by our client, including user subscriptions data and visitation data from 2009 to 2019.  \n",
    "    \n",
    "    Based on the dataset, we conclude that (...)(Results)(Discussion)(Conclusion)\n"
   ]
  },
  {
   "cell_type": "markdown",
   "metadata": {},
   "source": [
    "### Introduction\n",
    "    In recent years, the fitness industry in the United Kingdom has been growing rapidly. In 2019, the fitness penetration rate has grown to 15.6%; in the other word, 1 in every 7 people is a member of a gym[ref]. Over the 12 month period to the end of March 2019, fitness facilities increased by 2.9%, from 7038 to 7239, the total number of members increased by 4.7% to 10.4 million, and the market value increased 4.2% to £5.1 billion. However, the growth of new fitness facilities has been slowing down, as 215 new fitness facilities opened in the last 12 months, down from 275 in 2018[ref]. While the overall fitness industry is growing, the competition has become more intense. Therefore, the operator of the fitness enterprise should pay close attention to customer churn rate, pricing strategy and marketing strategy to maintain the growth of its revenue, and use modern data science and technology to guide any business decision, otherwise the enterprise is in the risk of falling behind competitors. Our client is the operator of OG&Gym, a budget gym. The gym has been operating well over the past 10 years and expanded to every borough in London, but the expansion began to slow recently. While the operator decided to increase the price for both standard and flexible memberships to maintain the growth, the increase of revenue is not as much as they would have hoped.\n",
    "    \n",
    "    This report aims to help our client to make smarter business decisions by analyzing the subscription and visitation of members. There are a few key fields to which this report addresses. First, by analyzing the overall growth of revenue and churn rate, our client could compare the performance of OG&Gym to the average performance in the whole industry. Second, we aim to provide a better pricing strategy to our client, as we believe the current pricing strategy of our clients is flawed since charges the same fees for clubs in different regions of London and in different seasons. Therefore, we want to help our client to make a more flexible pricing strategy, including seasonal discount or off-peak discount, that could help them to attract more members and consequently increase its revenues. We are looking to analyze the factors that might influence whether a member is going to leave by analyzing the churn rate of different groups by identifying the customers profile. While given such limited data we are unable to provide a very detailed insight about the factors that are driving the members away, we are looking to spot any incidents that are worth further exploration. Third, we will analyze how the price increase in 2016 affected the different segments to help our client to understand why the increased revenue is lower than supposed.  Fourth, we will apply machine learning technology to predict the duration of membership of a new customer that could provide more insight to help our client to make business decisions for the future. "
   ]
  },
  {
   "cell_type": "markdown",
   "metadata": {},
   "source": [
    "### Technologies and techniques\n",
    "    An exact process description used in the analysis\n",
    "    \n",
    "    Sufficient detail of the data analysis for someone to replicate the results (this should be automatic in Jupyter Notebook).\n",
    "#### KNN model to predict the duration rate"
   ]
  },
  {
   "cell_type": "markdown",
   "metadata": {},
   "source": [
    "### Results\n",
    "\n",
    "#%run ....../Appendix.ipynb"
   ]
  },
  {
   "cell_type": "markdown",
   "metadata": {},
   "source": [
    "####  Part I: Overall Picture, comparing it with benchmark (Qian)\n",
    "(The subtitles below is only to show the structure, we don't need to keep the subtitles)\n",
    "comparing it with benchmark – The overall trend of company’s revenue graph has trend. …. In general we see OG&Gym’s revenue gradually increased over past years, even in 2016 where the company has a membership price increase. In the past 10 years, the company’s number of club has increased from less than 5 to over 30. This is …compare with industry average. After price increase in 2016, OG&Gym’s revenue increased by 2015. This is contributed by two part, membership fee increases and new club increased. However this revenue increase is not as high as expected, which is due to churn rate increase caused most probably by the price increase. Below we will further analyse the customer’s reaction to the price increase. "
   ]
  },
  {
   "cell_type": "markdown",
   "metadata": {},
   "source": [
    "(The following plots answer question 2. what happened when the price was increased)"
   ]
  },
  {
   "cell_type": "markdown",
   "metadata": {},
   "source": [
    "\n",
    "\n",
    "## Plot Revenue total over the years \n",
    "\n"
   ]
  },
  {
   "cell_type": "markdown",
   "metadata": {},
   "source": [
    "## Plot Members total over the years \n"
   ]
  },
  {
   "cell_type": "markdown",
   "metadata": {},
   "source": []
  },
  {
   "cell_type": "markdown",
   "metadata": {},
   "source": [
    "Plot Churn rate over the years (Mary) (plot uploaded by Mary)\n",
    "\n",
    "<img src=\"./Screenshots/Mary/churn total.png\">"
   ]
  },
  {
   "cell_type": "markdown",
   "metadata": {},
   "source": [
    "#[Appendix main notebook](./Appendix.ipynb).\n",
    "%run ./Appendix.ipynb\n",
    "from ipynb.fs.full.Appendix import plot_churn_total\n",
    "plot_churn_total()"
   ]
  },
  {
   "cell_type": "markdown",
   "metadata": {},
   "source": [
    "\n",
    "#### Part II: Investigation on the price increase impact\n",
    "(this will answer partially the Q4 In addition to the price what other factors influence whether a member is going to leave)"
   ]
  },
  {
   "cell_type": "markdown",
   "metadata": {},
   "source": [
    "### 2.1 Investigation on how the price increase affected different segments  (Written by Mary and Jiaxuan)"
   ]
  },
  {
   "cell_type": "markdown",
   "metadata": {},
   "source": [
    "#### 2.1.a Price impact on different segmentation - Affluence\n",
    "\n",
    "Lower Class C2&DE is most sensitive to price increase, whereas Higher&middle class has least reaction to price increase. As Higher affluence class plays the biggest role in our customer pool, majority of our members in general are inelastic  to price increase. We further analysed whether it’s possible to do price judgement according to visiting hour by affluence, however this is not possible since all class visit around same time period"
   ]
  },
  {
   "cell_type": "markdown",
   "metadata": {},
   "source": [
    "Plot Churn for Affluece levels and comments\n",
    "\n",
    "<img src=\"./Screenshots/Mary/affluence_churn.png\">"
   ]
  },
  {
   "cell_type": "markdown",
   "metadata": {},
   "source": [
    "#### 2.1.b Price impact on different segmentation - Membership\n",
    "\n",
    "We then looked at whether different membership react differently to price increase. As we can see, around 85% of our customer are in standard membership, and this trend does not around membership price adjustment period. We further looked at other segmentation such as gender, different age group etc, but there is no interesting insights around that."
   ]
  },
  {
   "cell_type": "markdown",
   "metadata": {},
   "source": [
    "## Plot Churn for Membership levels and comments"
   ]
  },
  {
   "cell_type": "markdown",
   "metadata": {},
   "source": [
    "#### 2.1.c Price impact on different segmentation - Age group\n"
   ]
  },
  {
   "cell_type": "markdown",
   "metadata": {},
   "source": [
    "Plot Churn for Age groups and comments\n",
    "\n",
    "tier 1->4 younger ->older\n",
    "<img src=\"./Screenshots/Mary/age_churn_24-30-40.png\">"
   ]
  },
  {
   "cell_type": "markdown",
   "metadata": {},
   "source": [
    "### 2.2 Investigation on how the price increase affected different clubs\n"
   ]
  },
  {
   "cell_type": "markdown",
   "metadata": {},
   "source": [
    "## Plot Clubs Revenue with comments"
   ]
  },
  {
   "cell_type": "markdown",
   "metadata": {},
   "source": [
    "## Plot Clubs Churn and growth with comments - one club low two high"
   ]
  },
  {
   "cell_type": "markdown",
   "metadata": {},
   "source": [
    "### 2.3 Investigation of other kind of behaviour change due to price increase (Written by Jiaqi)\n",
    "(this will answer the second part of the Q4 In addition to the price what other factors influence whether a member is going to leave)"
   ]
  },
  {
   "cell_type": "markdown",
   "metadata": {},
   "source": [
    "#### 2.3.a Price impact on customer's general behaviour - Membership duration (or restructure the tile to something like \"reduction of membership duration in recent year conherent with price increase)\n",
    "\n",
    "In previous years in general member tend to stay longer in membership. this is because gym is attracting more customers that stay in short period of time in current years after price adjustment. Further strategy reaction to hold customer is required\n"
   ]
  },
  {
   "cell_type": "markdown",
   "metadata": {},
   "source": [
    "## Plot Duration Histogram over the years "
   ]
  },
  {
   "cell_type": "markdown",
   "metadata": {},
   "source": [
    "#### 2.3.b other thing to add?\n",
    "\n"
   ]
  },
  {
   "cell_type": "markdown",
   "metadata": {},
   "source": [
    "#### Part III: Investigation on customer behaviours\n"
   ]
  },
  {
   "cell_type": "markdown",
   "metadata": {},
   "source": [
    "##### 3.1.a loyal customer analysis - age group (or restructure the title to something like yonger people are more sensitive to price adjustment etc) (Written by Jiaxuan)\n",
    "People from 30 to 40 have the highest active members among all the age groups and people over 40 have the smallest number of active members. The trend for both active member and membership growth rate are similar for all the age groups. According to the price change in 2016, members below 24 and members from 24 to 30 are more sensitive to the price change. In this case, we may also generate specific price strategies for people from these two age group for better revenue"
   ]
  },
  {
   "cell_type": "markdown",
   "metadata": {},
   "source": [
    "## Plot about the loyal customers etc and how much each category contributes to the revenue possible conclusion to try to increase the percentage of  loyal customers by ...%\n",
    "\n",
    "Plot that we currently have: Total active members by different age group + Membership growth rate by different age group"
   ]
  },
  {
   "cell_type": "markdown",
   "metadata": {},
   "source": [
    "##### 3.1.b loyal customer analysis - seasonality (Written by Jiaqi) \n",
    "The most popular season for new members to join is during Autumn and winter, and lowest joiners in Spring. We can give some promotion/special offer during those season to further attract new joiner – as people are most likely to join gym during those seasons. Also, there are more members leaving during winter season. This is due to lack of interests coming to gym during those seasons, as we can see that winter is the seasons that has less number of visiting. To reduce churn rate, further strategy implementation is required in winter, such as group class."
   ]
  },
  {
   "cell_type": "markdown",
   "metadata": {},
   "source": [
    "## Plot to add: New membership by season, membership cancellation by season, Monthly visitation distribution by season"
   ]
  },
  {
   "cell_type": "markdown",
   "metadata": {},
   "source": [
    "##### 3.1.c loyal customer analysis -by Affluence (Written by Jiaqi)\n",
    "Duration of affluence: Class DE&C2 tend to stay shorter than other class-> Class DE is the unemployed class thus their income is not stable/have lower income than other affluence classes, thus ,their membership duration may be shorter than others. Possibility here for price discrimination: offer discounts for unemployed(those that show proof e.g claim unemployment benefits ) and those who are retired to retain these customers and reduce churn rates in this affluence class.\n"
   ]
  },
  {
   "cell_type": "markdown",
   "metadata": {},
   "source": [
    "## Plot to add: Density graph of different affluence's membership duration\n"
   ]
  },
  {
   "cell_type": "markdown",
   "metadata": {},
   "source": [
    "#### 3.2 Membership duration analysis (or something like sharp reduction in standard member's membership duration occurs two times, one around 8 months and the other around 23)\n",
    "Duration of Flexible & Standard is around 10 month, this is slightly lower than industry average. Standard tend to have another local peak at around 20 months. Suggestion: For people that leave around 20months, analysis their reasoning – we are loosing  valuable loyal customer.\n"
   ]
  },
  {
   "cell_type": "markdown",
   "metadata": {},
   "source": [
    "### 4 Result of KNN model(accuracy)(Written by Qian)"
   ]
  },
  {
   "cell_type": "markdown",
   "metadata": {},
   "source": [
    "## Plot to add: membership duration density graph by different subscription type"
   ]
  },
  {
   "cell_type": "markdown",
   "metadata": {},
   "source": [
    "### Discussion"
   ]
  },
  {
   "cell_type": "markdown",
   "metadata": {},
   "source": [
    "#### Suggestions (Question 3)\n",
    "\n",
    "* Try to reduce churn rate, by giving better deal for people stay more than 12 months, by holding more group exercise, try to target better member to join -- based on the duration / loyalty\n",
    "\n",
    "* Except for adjustment in pricing maybe adapt a new business model , combining specialised services on a budget to reduce churn etc? combined with industry research\n",
    "* 360 degree survey for customer leaving reasoning - especially for loyalty customer\n",
    "\n",
    "What further data and analyses we will nees?"
   ]
  },
  {
   "cell_type": "markdown",
   "metadata": {},
   "source": [
    "#### Pricing Strategy ( Queastion 1)\n",
    "\n",
    "\n",
    "## Different pricing/promotion according to different customer type/ seasons"
   ]
  },
  {
   "cell_type": "code",
   "execution_count": null,
   "metadata": {},
   "outputs": [],
   "source": []
  },
  {
   "cell_type": "code",
   "execution_count": null,
   "metadata": {},
   "outputs": [],
   "source": []
  },
  {
   "cell_type": "markdown",
   "metadata": {},
   "source": [
    "## KNN model to predict the duration rate ( answers Question 5 up to a point)\n",
    "    While KNN model provides a technique to predict the duration of our customer and could help the client to make business decision in the future. For example, while a customer make inquary about the membership in the gym. The KNN model is also flawed. First, the accuracy rate is only 30% and it is far away from guarrenting a correct prediction. "
   ]
  },
  {
   "cell_type": "code",
   "execution_count": null,
   "metadata": {},
   "outputs": [],
   "source": []
  },
  {
   "cell_type": "markdown",
   "metadata": {},
   "source": [
    "### References"
   ]
  }
 ],
 "metadata": {
  "kernelspec": {
   "display_name": "Python 3",
   "language": "python",
   "name": "python3"
  },
  "language_info": {
   "codemirror_mode": {
    "name": "ipython",
    "version": 3
   },
   "file_extension": ".py",
   "mimetype": "text/x-python",
   "name": "python",
   "nbconvert_exporter": "python",
   "pygments_lexer": "ipython3",
   "version": "3.8.3"
  }
 },
 "nbformat": 4,
 "nbformat_minor": 4
}
