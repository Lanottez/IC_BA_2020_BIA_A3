{
 "cells": [
  {
   "cell_type": "markdown",
   "metadata": {},
   "source": [
    "# Client Case: OG&Gym\n",
    "## Analytics in Business\n",
    "25/1/2021\n",
    "By Group A3\n",
    "Qian Zhang\n",
    "Yuxi Fu\n",
    "Maria Tsotalou \n",
    "Chen Jiaqi \n",
    "Jiaxuan"
   ]
  },
  {
   "cell_type": "markdown",
   "metadata": {},
   "source": [
    "### Summary\n",
    "    The purpose of this report is to provide an overview of OG&Gym’s performance over the ten years with comparison to its competitors, to review the impact of the price increase in 2016, and to offer our suggestion about the pricing strategy to the operator of OG&Gym. The source of information includes the public information, including news, public research report, etc, and private dataset provided by our client, including user subscriptions data and visitation data from 2009 to 2019.  \n",
    "    \n",
    "    Based on the dataset, we conclude that (...)(Results)(Discussion)(Conclusion)\n"
   ]
  },
  {
   "cell_type": "markdown",
   "metadata": {},
   "source": [
    "### Introduction\n",
    "    In recent years, the fitness industry in the United Kingdom has been growing rapidly. In 2019, the fitness penetration rate has grown to 15.6%; in the other word, 1 in every 7 people is a member of a gym[ref]. Over the 12 month period to the end of March 2019, fitness facilities increased by 2.9%, from 7038 to 7239, the total number of members increased by 4.7% to 10.4 million, and the market value increased 4.2% to £5.1 billion. However, the growth of new fitness facilities has been slowing down, as 215 new fitness facilities opened in the last 12 months, down from 275 in 2018[ref]. While the overall fitness industry is growing, the competition has become more intense. Therefore, the operator of the fitness enterprise should pay close attention to customer churn rate, pricing strategy and marketing strategy to maintain the growth of its revenue, and use modern data science and technology to guide any business decision, otherwise the enterprise is in the risk of falling behind competitors. Our client is the operator of OG&Gym, a budget gym. The gym has been operating well over the past 10 years and expanded to every borough in London, but the expansion began to slow recently. While the operator decided to increase the price for both standard and flexible memberships to maintain the growth, the increase of revenue is not as much as they would have hoped.\n",
    "    \n",
    "    This report aims to help our client to make smarter business decisions by analyzing the subscription and visitation of members. There are a few key fields to which this report addresses. First, by analyzing the overall growth of revenue and churn rate, our client could compare the performance of OG&Gym to the average performance in the whole industry. Second, we aim to provide a better pricing strategy to our client, as we believe the current pricing strategy of our clients is flawed since charges the same fees for clubs in different regions of London and in different seasons. Therefore, we want to help our client to make a more flexible pricing strategy, including seasonal discount or off-peak discount, that could help them to attract more members and consequently increase its revenues. We are looking to analyze the factors that might influence whether a member is going to leave by analyzing the churn rate of different groups by identifying the customers profile. While given such limited data we are unable to provide a very detailed insight about the factors that are driving the members away, we are looking to spot any incidents that are worth further exploration. Third, we will analyze how the price increase in 2016 affected the different segments to help our client to understand why the increased revenue is lower than supposed.  Fourth, we will apply machine learning technology to predict the duration of membership of a new customer that could provide more insight to help our client to make business decisions for the future. "
   ]
  },
  {
   "cell_type": "markdown",
   "metadata": {},
   "source": [
    "### Technologies and techniques\n",
    "    An exact process description used in the analysis\n",
    "    \n",
    "    Sufficient detail of the data analysis for someone to replicate the results (this should be automatic in Jupyter Notebook)."
   ]
  },
  {
   "cell_type": "markdown",
   "metadata": {},
   "source": [
    "### Results"
   ]
  },
  {
   "cell_type": "markdown",
   "metadata": {},
   "source": [
    "### Discussion"
   ]
  },
  {
   "cell_type": "markdown",
   "metadata": {},
   "source": [
    "### References"
   ]
  }
 ],
 "metadata": {
  "kernelspec": {
   "display_name": "Python 3",
   "language": "python",
   "name": "python3"
  },
  "language_info": {
   "codemirror_mode": {
    "name": "ipython",
    "version": 3
   },
   "file_extension": ".py",
   "mimetype": "text/x-python",
   "name": "python",
   "nbconvert_exporter": "python",
   "pygments_lexer": "ipython3",
   "version": "3.8.5"
  }
 },
 "nbformat": 4,
 "nbformat_minor": 4
}
