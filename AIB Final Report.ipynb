{
 "cells": [
  {
   "cell_type": "markdown",
   "metadata": {},
   "source": [
    "# <div align=\"center\"> Client Case:OC&Gym</div>\n",
    "## <div align=\"center\"> Analytics in Business</div>\n",
    "### <div align=\"center\"> Report</div>\n",
    "\n",
    "<div align=\"center\">25/1/2021</div>\n",
    "\n",
    "<br><div align=\"center\"> By Group A3: </div>\n",
    "<div align=\"center\"> Jiaqi Chen, Yuxi Fu, Jiaxuan Lyu, Maria Tsotalou, Qian Zhang </div>"
   ]
  },
  {
   "cell_type": "code",
   "execution_count": null,
   "metadata": {},
   "outputs": [],
   "source": [
    "%run ./Appendix.ipynb"
   ]
  },
  {
   "cell_type": "markdown",
   "metadata": {},
   "source": [
    "### Summary\n",
    "The purpose of this report is to provide an overview of OC&Gym's performance from 2009 to 2018, review the impact of the price increase in 2016, and offer our recommendations regarding the pricing strategy of OC&Gym and further suggestions that would improve the business' current performance. This report will pay particular attention to the impact of the price adjustment on the different customer segments. The key procedure used includes performing exploratory analysis of the subscriptions and visitations dataset provided by OC&Gym. Public information sources, including public research reports, are used as an additional source of information to evaluate the UK gym industry's current climate. The data analysis results showed that the customer churn rate increased after the price adjustment; however, it remains well below the industry average. In particular, members from lower affluence classes and those in their 20's has the higher churn rates thus is more sensitive to the membership price increase. In addition, there seems to be a seasonal trend in membership cancellations with more members leaving during the winter; however, this requires further investigation with more robust individual member data to identify the key reasons behind the trend. The reports find that although the revenue increased after the price adjustment, the corresponding increase in churn rates in price-sensitive member groups would ultimately cancel the revenue boost. Remedial action in OC&Gym's pricing strategy is required to ensure the business is hitting it's key KPI, including revenue per member and churn rates."
   ]
  },
  {
   "cell_type": "markdown",
   "metadata": {},
   "source": [
    "### Introduction\n",
    "\n",
    "In recent years, the fitness industry in the United Kingdom has been growing rapidly.In 2019, the fitness penetration rate has grown to 15.6%; in the other word, 1 in every 7 people is a member of a gym (Scheerder, J., Vehams H., Helsen K,,2020). Over the 12 month period to the end of March 2019, fitness facilities increased by 2.9%, from 7038 to 7239, the total number of members increased by 4.7% to 10.4 million, and the market value increased 4.2% to £5.1 billion. However, the growth of new fitness facilities has been slowing down, as 215 new fitness facilities opened in the last 12 months, down from 275 in 2018(Sports Thinktank,2019]. While the overall fitness industry is growing, the competition has become more intense. Therefore, the operator of the fitness enterprise should pay close attention to customer churn rate, pricing strategy and marketing strategy to maintain the growth of its revenue, and use modern data science and technology to guide any business decision, otherwise the enterprise is in the risk of falling behind competitors. Our client is the operator ofOC&Gym, a budget gym. The gym has been operating well over the past 10 years and expanded to every borough in London, but the expansion began to slow recently. While the operator decided to increase the price for both standard and flexible memberships to maintain the growth, the increase of revenue is not as much as they would have hoped.\n",
    "\n",
    "This report aims to help our client to make smarter business decisions by analyzing the subscription and visitation of members. There are a few key fields to which this report addresses. First, by analyzing the overall growth of revenue and churn rate, our client could compare the performance ofOC&Gym to the average performance in the whole industry. Second, we aim to provide a better pricing strategy to our client, as we believe the current pricing strategy of our clients is flawed since charges the same fees for clubs in different regions of London and in different seasons. Therefore, we want to help our client to make a more flexible pricing strategy, including seasonal discount or off-peak discount, that could help them to attract more members and consequently increase its revenues. We are looking to analyze the factors that might influence whether a member is going to leave by analyzing the churn rate of different groups by identifying the customers profile. While given such limited data we are unable to provide a very detailed insight about the factors that are driving the members away, we are looking to spot any incidents that are worth further exploration. Third, we will analyze how the price increase in 2016 affected the different segments to help our client to understand why the increased revenue is lower than supposed. Fourth, we will apply machine learning technology to predict the duration of membership of a new customer that could provide more insight to help our client to make business decisions for the future."
   ]
  },
  {
   "cell_type": "markdown",
   "metadata": {},
   "source": [
    "### 2.Technologies and techniques\n",
    "\n",
    "The data analysis section of this report is done by using pandas and numpy in python, and the representation of charts is done by using matplotlib. \n",
    "\n",
    "The first part of our analysis is to calculate and visualize the yearly and monthly data of active members and the corresponding growth rates. The purpose of this step is to provide a general picture of how OC&Gym has been growing in term of new members, and to visualize that how the price increasing in 2016 affected the growth of new members. For this part of code, please refer to the section 1: Membership and Revenue in the appendix.\n",
    "    \n",
    "The second part of is to visualize the yearly and monthly data of revenue, and the corresponding growth rates. Like the first step, this step is to provide a general picture of how OC&Gym has been growing in term of new revenues, and to visualize that how the price increasing in 2016 affect the growth of revenue. We are also comparing the result from this part and last part to the average performance of the fitness industry to evaluate the performance of OC& Gym in general. For this part of code, please refer to section 1: Membership and Revenue in the appendix.\n",
    "\n",
    "The third part is to evaluate the churn rate, since we believe that this unsatisfied revenue growth rate is due to high customer churn rate caused by membership fee increase, as there is no big change in fitness industry in recent years, therefore analysis on churn rate is critical, as we are looking to understand that why the revenue increase is not as high as supposed. For this part of code, please refer to section 2.3 Churn per population segments. \n",
    "\n",
    "The fourth part is to analyze the membership by segmentation. This part is the core of our analysis. Since this will not only help us to understand what happens to churn rate when price has increased, but also to find any possible strategy to smooth the churn rate side effect during price increasing period. By looking at churn rate in different affluence we can see that members in which class are most sensitive or robust to price increase. Moreover, if we look at churn rate of different age-groups we can see that people in which age are more sensitive to price. This gives us room for price discrimination by segmentation. We could provide special offers and promotion to those prices sensitive group to attract them to join membership. For this part of code, please refer to section 3. Membership by segmentation and section 4. Duration analysis Graph by year\n",
    "\n",
    "The fifth part is to analyze how seasonality affects the members. We use function to plot the visitation of all members in different seasons. The goal is to find that whether the cancelation rate is abnormally high in a particular season, during which we could offer discount or promotion to keep the customers. By doing this, we are trying to find regular market patterns and generate beneficial strategies from the opportunities inside to reduce our churn rate. For this part of code, please refer to section 5.\n",
    "\n",
    "The sixth part is to a general profile of our customer. This part provides a general description about the demographics of all customers. In this part, we measure the numbers of active members and separate them into different group by different segment such as age, gender, affluence etc. By doing this, we are aiming to find different patterns among people with different traits to determine our target groups that are suitable for further pricing strategies. For this part of code, please refer to section 6. Customer Profile\n",
    "\n",
    "The seventh part is to use Machine model to predict the duration of customers. We applied k-nearest neighbors model, a machine learning method used for classification and regression, to predict the exact duration of any new members. The inputs to KNN are all the characteristics of a customer that could be allocated from the dataset provided by our client, including club, join date, affluence, gender, type of membership, and the year of birth. While most factors of customer are categorical, all of them are normalized to digits so the KNN model could read them. The output from KNN model is the exact months of duration. For this part of code, please refer to the section 7. k-Nearest Neighbor Model.\n"
   ]
  },
  {
   "cell_type": "markdown",
   "metadata": {},
   "source": [
    "### 3. Results\n",
    "\n",
    "\n",
    "#### 3.1 Revenue and number of total members and overall monthly churn rates over time\n",
    "\n",
    "We plot the average growth of total revenue per year based on the data in order ot understand the busines proble we have to investigate. "
   ]
  },
  {
   "cell_type": "code",
   "execution_count": null,
   "metadata": {},
   "outputs": [],
   "source": [
    "plot_growth_yearly_revenue()"
   ]
  },
  {
   "cell_type": "markdown",
   "metadata": {},
   "source": [
    "As we mentioned the number of members is one of the two major factors, along with the prices, that affect the company's revenue. Therefore, it is priority to understand and depict the membership over time."
   ]
  },
  {
   "cell_type": "code",
   "execution_count": null,
   "metadata": {},
   "outputs": [],
   "source": [
    "plot_members_yearly_wrap()"
   ]
  },
  {
   "cell_type": "markdown",
   "metadata": {},
   "source": [
    "At this point we will introduce our main KPI for this analysis. The monthy customer churn rate. The values of this variable over time are depicted on the following graph."
   ]
  },
  {
   "cell_type": "code",
   "execution_count": null,
   "metadata": {},
   "outputs": [],
   "source": [
    "plot_churn_total()"
   ]
  },
  {
   "cell_type": "markdown",
   "metadata": {},
   "source": [
    "It becomes apparent from both graphs that the number of members were decreased and the churn rate increased at unpecendented levels eactly before the pric increase. While correlation does not mean causation, in this particular case and taking rowth, it is reasonable to consider the price increase as the main factor for the churn rate increase. In additiion to the churn rate we also too into account the membership growth rate. \n",
    "\n",
    "\n",
    "The question  that needs to be aswered however it is whether there are specific rends among different member segmenents and the company's next steps should be in order of furter analysis and possible strategies. "
   ]
  },
  {
   "cell_type": "markdown",
   "metadata": {},
   "source": [
    "#### 3.2 Churn and growth rate of the various member's segments "
   ]
  },
  {
   "cell_type": "markdown",
   "metadata": {},
   "source": [
    "(Question 4 \"In addition to the price what other factors influence whether a member is going to leave\" first part of the answer)"
   ]
  },
  {
   "cell_type": "markdown",
   "metadata": {},
   "source": [
    "We investigated the churn and growth rates of copmany's members based on their gender, affluence, age, and subscription type. We also explored the churn rates of the various clubs.  Almost 85% of our customer are in standard membership with no significant change over the years.\n",
    "\n",
    "The analysis of affluence and age provided us with interesing results and this is waht we present in details."
   ]
  },
  {
   "cell_type": "markdown",
   "metadata": {},
   "source": [
    "#### 3.2.1 Price increase impact on members of different Affluence levels\n",
    "\n",
    "People in lower class C2&DE is most sensitive to price increase, whereas higher-class and middle-class people have least reaction to price increase. As higher affluence class plays the biggest role in our customer pool, majority of our members in general are less elastic to the price increase. We further analyzed whether it’s possible to do price judgement according to visiting hour by affluence or not. However, this is not possible since all class visit around same time period. From this result we can see that customers from lower class C2&DE can be a potential target group so that we may use some pricing strategies to attract more people from these groups to increase the number of memberships in future development progress."
   ]
  },
  {
   "cell_type": "markdown",
   "metadata": {},
   "source": [
    "![](Affluence.png)"
   ]
  },
  {
   "cell_type": "code",
   "execution_count": null,
   "metadata": {},
   "outputs": [],
   "source": [
    "plot_churn_by_affluence()"
   ]
  },
  {
   "cell_type": "code",
   "execution_count": null,
   "metadata": {},
   "outputs": [],
   "source": [
    "plot_proportion_by_affluence()"
   ]
  },
  {
   "cell_type": "markdown",
   "metadata": {},
   "source": [
    "The data visualisation reveals that out main customer base is consisted of memebers who belong to the \"B\" or \"C1\" affluence group. Those two groups had the lower churn rates followed the price increase, nevertheless the churn rate reached an extremely high rate even for those two categories, especially the \"C1\". \n",
    "\n",
    "An unexpected event was the high churn rate of members who belond to the affluence group \"A\". Considering purely economical factors we would expect that those members be affected the least of the price increase. However, their churn rate was the 3rd highest. Although the data are limited and further investigation is needed, a plausible explanation would be that considering our main competitor, who has slightly higher prices and premium services, those members would be willing to pay the noe not so much higher price in the competitors gyms on order to receive additional services. "
   ]
  },
  {
   "cell_type": "markdown",
   "metadata": {},
   "source": [
    "#### 3.2.2 Price increase impact on members of different Age groups\n"
   ]
  },
  {
   "cell_type": "markdown",
   "metadata": {},
   "source": [
    "Another major difference is observed for different age groups. Here the phenomenon were according to our expectation that younger people would be more sensitive to the price increase compared to older members.\n",
    "\n",
    "People from age 30 to 40 are our main customer base while people over 40 have the smallest number of active members. The trend for both active member and membership growth rate are similar for all the age groups but we observe that people in younger age are relatively more sensitive to the price change. \n",
    "\n",
    "According to the price change in 2016, members who are under 24 and members from 24 to 30 are more reactive to the price increase. \n",
    "\n",
    "In this case, we may also generate specific price strategies like discount for people from these two age groups for better revenue or attract them using feasible market strategies. "
   ]
  },
  {
   "cell_type": "code",
   "execution_count": null,
   "metadata": {},
   "outputs": [],
   "source": [
    "plot_churn_by_age_wrap()"
   ]
  },
  {
   "cell_type": "code",
   "execution_count": null,
   "metadata": {},
   "outputs": [],
   "source": [
    "plot_proportion_by_age()"
   ]
  },
  {
   "cell_type": "markdown",
   "metadata": {},
   "source": [
    "### 3.3 Investigation of the average duration of membership"
   ]
  },
  {
   "cell_type": "code",
   "execution_count": null,
   "metadata": {},
   "outputs": [],
   "source": [
    "duration_dis_plot()"
   ]
  },
  {
   "cell_type": "markdown",
   "metadata": {},
   "source": [
    "The results from the histogram of membership duration in months reveals that there is a big part of our members that leave the company in less than 3 or 4 months after joining. That may indicate that we should also consider what kind of members we want to attract, since reducing the churn rates is not only a problem of keeping our customers satisfied but also acquiring customers who are a good fit in the first place. "
   ]
  },
  {
   "cell_type": "markdown",
   "metadata": {},
   "source": [
    "#### 3.3.1 Average duration membership of different affluence groups\n",
    "\n",
    "While investigating the average duration of different membership groups, again afflunce was a useful factor for describing members behavious.\n",
    "\n",
    "The figure below shows the distribution of the length of duration for members from different affluence classes. What stands out in the figure  is that members from the class DE and C2 tend to have a shorter membership duration on average in comparison to other affluence classes. \n",
    "\n",
    "In particular, members from class DE are unemployed or retired; thus, a possible explanation may be that their income, especially for those unemployed, is less stable and also lower than that of the other affluence leleves; members.\n"
   ]
  },
  {
   "cell_type": "code",
   "execution_count": null,
   "metadata": {},
   "outputs": [],
   "source": [
    "duration_affluence_plot()"
   ]
  },
  {
   "cell_type": "markdown",
   "metadata": {},
   "source": [
    "### 3.4 Investigation of seasonality\n",
    "\n",
    "\n",
    "\n"
   ]
  },
  {
   "cell_type": "markdown",
   "metadata": {},
   "source": [
    "As it became apparent right from the beginning a seasonality trent is present on the churn rates graph. Based on this observation we investigated whether or not a major difference is present in the mean churn rates of people who join the gym during the different quarters of the year. However, there was not a major difference present among the 4 quarters. "
   ]
  },
  {
   "cell_type": "markdown",
   "metadata": {},
   "source": [
    "The seasonality analysis shows seasonal trends in the number of new memberships, membership cancellations, and monthly visitation frequency. Figure 3a reveals that the most popular season for new members to join is autumn and winter whilst there are relatively fewer new joiners during spring and summer. From figure 3c, it is also seen that mean monthly gym visits are lower during summer in comparison to the other seasons. Thus, this presents a potential opportunity for boosting revenue by offering a seasonal promotion during the summer season to attract more new joiners.\n",
    "Moreover, from Figure 3b, there are more membership cancellations during the winter season relative to the other seasons; thus, further strategy implementation is required during winter to reduce member churn. \n"
   ]
  },
  {
   "cell_type": "markdown",
   "metadata": {},
   "source": [
    "### 3.5 Membership duration analysis\n",
    "\n",
    "Duration of Flexible & Standard is around 10 month, this is slightly lower than industry average. Standard tend to have another local peak at around 20 months. Suggestion: For people that leave around 20months, analysis their reasoning – we are loosing  valuable loyal customer.\n"
   ]
  },
  {
   "cell_type": "markdown",
   "metadata": {},
   "source": [
    "Lastly, by training the KNN model using 400 rows of dataset and verifying it using 200 rows of dataset, with the possible values of K being from 1 to 101, the lowest classification error rate of the KNN model is around 0.66.[plot_KNN_model_800()]. While a training data of 400 rows is not a dataset in large size, the KNN model is also trained using 2000 rows of dataset and verified using 1000 rows of dataset, with possible values of K being from 1 to 201, and the lowest classification error rate of the model is around 0.68. [plot_KNN_model_400()] Therefore, it is concluded that, given the dataset from our client and using the KNN model,we could predict the indiviudal member churn in a classification rate of roughly 70%."
   ]
  },
  {
   "cell_type": "markdown",
   "metadata": {},
   "source": [
    "### 3.6 Industry knowlege\n",
    "\n",
    "In the past 10 years, the number of clubs ofOC&Gym in London has increased from less than 5 to over 30.The average growth rate of new clubs is 117%.\n",
    "\n"
   ]
  },
  {
   "cell_type": "code",
   "execution_count": null,
   "metadata": {},
   "outputs": [],
   "source": [
    "club_plot()"
   ]
  },
  {
   "cell_type": "markdown",
   "metadata": {},
   "source": [
    "AsOC&Gym has an rapid speed of opening new clubs in London, both the revenue and number of active member ofOC&Gym have been also gradually increasing over past 10 years, except the number of members dropped in 2016 because of the price increasing.\n",
    "\n",
    "According to 2018 State of the UK Fitness Industry Report(Leisure DB, 2018),the fitness industry in United Kingdom saw an increase of 4.6% in the number of fitness facilities,an increase of 2% in the number of members and an increase of 2.9% in market value in 2018, comparing to the last year. For the same period,OC&Gym saw an increase of of 3% in the number of new gym, an increase of 5% in the number of members and an increase of 5% in the revenue. Therefore, we could conclude that,in 2018, while the expansion ofOC&Gym was slower than the market average, it outperformed the industry average in terms of growth of number of members and revenue. \n",
    "\n",
    "However, there is a clear trend that, the growth of both number of new members and revenue has been slowed over the ten years. \n",
    "\n",
    "In 2016,OC&Gym decided to increase the price of both standard and flexible membership. While the number of member dropped and the churn rate in 2016 reached a record high, the revenue maintained the growth. The increasing of revenue was contributed by two part: the increase of membership fee increases and the consistent open of new clubs.The increased price of membership have failed to maintained the growth of revenue, as the growth of revenue reached a new low in 2018. \n"
   ]
  },
  {
   "cell_type": "markdown",
   "metadata": {},
   "source": [
    "### Discussion"
   ]
  },
  {
   "cell_type": "markdown",
   "metadata": {},
   "source": [
    "#### Suggestions\n",
    "OC&Gym's fitness total revenue has grown in popularity since it's open, rapidly grown from 0.1 million in 2009 to 2.1million in 2018. Whereas from 2017 to 2017, the fitness and health club industry revenue in Europe has only increased by 0.4% (Scheerder J.2020). OC&Gym's rate of growth has been faster than UK fitness industry in general. However, according to ahead mentioned insights, the revenue increasing rate in recent years is less than expected. While the operator decided to increase the membership price and has a vast new club expansion to further increase revenue in 2016, the total revenue improvement is not as what's expected. As mentioned above, this is primarily due to an increase in the churn rate. Although the membership price has increased, it also leads to a corresponding group of people left membership, which can cancel out the increase in revenue caused by price adjustment. Hence we carefully analysed the membership fee increase influence in 2016, and further analysed customer behaviour to identify the potential strategy that can further improve revenue, and in below is what we suggested:\n",
    "\n",
    "Firstly, improve current pricing strategy according to different member's affluence type and age. According to our analysis of membership fee increase impact in 2016, we found that members from lower class (C2&DE) are susceptible to price judgement, whereas high&middle class members are relatively more robust to any price increase. Also, members from 24 to 30 are more susceptible to price change. Hence when doing an advertisement to attract new customers, we could give promotions, discounts, or special offers to low social class members—for instance, providing a one-month free membership to existing customers that come from lower affluence class, if they can successfully invite their friend to join membership freely for the first month. Moreover, according to our analysis on customer pool constitution ratio, our current members predominately come from high&middle social class or aging from 30 to 40. It means that majority of our customer are inelastic to price increase, which gives us room to increase membership fee without losing numerous existing members. This can be achieved according to a proper pricing strategy: combining price increases with relevant special offers. One applicable method is that during membership fee increase, hand special offers to price elastic existing customers group to reduce their incentive to leave membership.\n",
    "\n",
    "Secondly, increasing total revenue by reducing customer churn rate. The primary reason why membership price increase in 2016 doesn't lead to the expected increase in total revenue is that the churn rate increased corresponding. Hence understand influencer of churn rate and implement an appropriate strategy to reduce churn is critical. Depicts price increase, seasonality also plays a significant role in influencing churn rate. In the result session, we could see that winter is the period that has the highest membership cancellation, which is congruous with less number of visiting. This suggests that our customers lack interest in coming to the gym during winter and withdraw from the membership. Hence further strategy implementation is required to boosts up incentive to exercise during the winter period. One suggestion is to conduct group exercise. A recent study from Penn State University states that group exercise leads to higher customer retention rate in the gym. It examined a group of 25 adults with mixed-gender who did not exercise regularly and traced them to complete a 30-week group exercise program. At the end of the program, all subjects completed most of the class they signed up for with a completion rate of 98.8% (Les M.,2016)\n",
    "\n",
    "However, this study also suggests that intensity and regularity of workout should gradually increase in order to achieve the best retention rate. As a result, ensuring group fitness class is offered in the club with regularly updating content is an excellent way to maintain a high retention rate. Suggested group fitness class includes cardiovascular, strength and flexibility training and other specialised studio exercise such as boxing and yoga. This is because according to the study (Spiers A. 2016), specialty studio has a high growth rate (around 74%), compared with traditional fitness clubs during the same period (only at 5%). This paper also states that people are more willing to pay a higher price for the specialised training session, which gives more reasons and tolerance for OC&Gym's further price increase.\n",
    "\n",
    "Furthermore, OC&Gym should adjust its marketing strategy to attract more loyal customers and identify and retain unstable customers before they leave. In result session, we could see that female, flexible subscriber and people from lower affluence types tend to have a lower membership duration and higher churn rate than other groups. Further analysis is recommended to understand the fundamental reasoning of those groups' higher churn rate; relative data such as customer satisfaction survey and membership withdraw reasoning is required to conduct further analysis. At the current stage, the marketing group should put less focus on the non-loyal customer groups. OC&Gym should modify their customer-acquisition incentives of the sale team - reward sale teams and marketing channels to acquire loyal customer groups that stay longer. Besides, except average duration difference between different segmentation, there is also evidence that loyal members tend to leave membership at a certain period, once around eight months after they join the membership and the other is around 23 months. Further analysis is required to understand the reasoning behind. At present, considering giving special reward to customers that stay above nine months and 24 months to help customer stick. Lastly, we could also use generated KNN model to identify an unstable customer. The KNN model provides a technique to predict the potential membership duration of the customer, which could in use to retain customers before they leave. For example, give them a special offer to join group exercise around their predicted membership period. The KNN model can also predict potential membership duration even before the customer join according to their segmentation (gender, class, age, etc.). This increases the OC&Gym's ability to implement flexible price strategy and enhance price discrimination ability.\n",
    "To summarise, OC&Gym should focus on the following points to improve their revenue in the future.\n",
    "1.\tImprove pricing strategy according to members type.\n",
    "2.\tReduce churn rate by organising more group exercise in the club.\n",
    "3.\tAdjust its marketing strategy to attract groups of potentially loyal customers.\n",
    "4.\tIdentify and predict leaving customer and use an appropriate approach to retain them\n",
    "\n"
   ]
  },
  {
   "cell_type": "markdown",
   "metadata": {},
   "source": [
    "### References"
   ]
  },
  {
   "cell_type": "markdown",
   "metadata": {},
   "source": [
    "Les Mills,2016: Research Shows Group Exercise Is The Key To Member Retention"
   ]
  },
  {
   "cell_type": "markdown",
   "metadata": {},
   "source": [
    "Scheerder J., Vehmas H., Helsen K. (2020) The Global Health and Fitness Industry at a Glance: Fast, Fit, Flexible, Functional, Funny, Fashionable and Fanatic. In: Scheerder J., Vehmas H., Helsen K. (eds) The Rise and Size of the Fitness Industry in Europe. Palgrave Macmillan, Cham. https://doi.org/10.1007/978-3-030-53348-9_1\n",
    "Sports ThinkTank (2019), The 2019 State of the UK Fitness Industry Report"
   ]
  },
  {
   "cell_type": "markdown",
   "metadata": {},
   "source": [
    "Spiers A., Osborne S., Li M. (2020) Engagement in Fitness Activities in England. In: Scheerder J., Vehmas H., Helsen K. (eds) The Rise and Size of the Fitness Industry in Europe. Palgrave Macmillan, Cham. https://doi.org/10.1007/978-3-030-53348-9_7"
   ]
  },
  {
   "cell_type": "markdown",
   "metadata": {},
   "source": [
    "2018 State of The UK Fitness Industry Report - Out Now.(2018, May 16).Retrieved January 27,2021.from leisuredb: https://www.leisuredb.com/blogs/2018/5/16/2018-state-of-the-uk-fitness-industry-report-out-now"
   ]
  }
 ],
 "metadata": {
  "kernelspec": {
   "display_name": "Python 3",
   "language": "python",
   "name": "python3"
  },
  "language_info": {
   "codemirror_mode": {
    "name": "ipython",
    "version": 3
   },
   "file_extension": ".py",
   "mimetype": "text/x-python",
   "name": "python",
   "nbconvert_exporter": "python",
   "pygments_lexer": "ipython3",
   "version": "3.8.5"
  }
 },
 "nbformat": 4,
 "nbformat_minor": 4
}
