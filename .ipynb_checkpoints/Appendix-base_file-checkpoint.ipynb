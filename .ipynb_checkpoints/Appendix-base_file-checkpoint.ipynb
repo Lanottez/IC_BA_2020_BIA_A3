{
 "cells": [
  {
   "cell_type": "code",
   "execution_count": null,
   "metadata": {},
   "outputs": [],
   "source": [
    "# Try to build you code based on this one, so it will be easier for us to intergate all the codes into one file\n",
    "# Create a function for each plot that you want to call\n",
    "# Replace the screenshot in final report to the function you want to call "
   ]
  },
  {
   "cell_type": "code",
   "execution_count": 10,
   "metadata": {},
   "outputs": [],
   "source": [
    "import pandas as pd\n",
    "import numpy as np\n",
    "import math\n",
    "\n",
    "from datetime import datetime\n",
    "import matplotlib.pyplot as plt\n",
    "import seaborn as sns"
   ]
  },
  {
   "cell_type": "code",
   "execution_count": 11,
   "metadata": {},
   "outputs": [],
   "source": [
    "# Import data\n",
    "# This cell should applies to the code of all of us\n",
    "data_path = \"./data/\"\n",
    "subscriptions = pd.read_csv(data_path + 'subscriptionsdataFINAL.csv') \n",
    "visitation_part1 = pd.read_csv(data_path + 'visitationdataPART1.csv') \n",
    "visitation_part2 = pd.read_csv(data_path + 'visitationdataPART2.csv') #convert the join and end date to_date\n",
    "subscriptions['Join Date'] =  pd.to_datetime(subscriptions['Join Date'].str.upper(), format='%b-%y', yearfirst=False)\n",
    "subscriptions['Join_year'] = pd.DatetimeIndex(subscriptions['Join Date']).year\n",
    "subscriptions['End Date'] =  pd.to_datetime(subscriptions['End Date'].str.upper(), format='%b-%y', yearfirst=False)\n",
    "subscriptions.dropna()\n",
    "subscriptions.head() \n"
   ]
  },
  {
   "cell_type": "code",
   "execution_count": 13,
   "metadata": {},
   "outputs": [],
   "source": [
    "# Create the seperate dataset to avoid any variable name conflict \n",
    "subscriptions_Qian =  subscriptions.copy()\n",
    "visitation_part1_Qian = visitation_part1.copy() \n",
    "visitation_part2_Qian = visitation_part2.copy()  "
   ]
  },
  {
   "cell_type": "code",
   "execution_count": null,
   "metadata": {},
   "outputs": [],
   "source": [
    "# Data Processing - Qian\n",
    "df = subscriptions_Qian.copy()\n",
    "numbers_club = pd.DataFrame(df.groupby('Join_year')['Club'].nunique())\n",
    "numbers_club['Growth']=numbers_club['Club'].pct_change()\n"
   ]
  }
 ],
 "metadata": {
  "kernelspec": {
   "display_name": "Python 3",
   "language": "python",
   "name": "python3"
  },
  "language_info": {
   "codemirror_mode": {
    "name": "ipython",
    "version": 3
   },
   "file_extension": ".py",
   "mimetype": "text/x-python",
   "name": "python",
   "nbconvert_exporter": "python",
   "pygments_lexer": "ipython3",
   "version": "3.8.5"
  }
 },
 "nbformat": 4,
 "nbformat_minor": 4
}
