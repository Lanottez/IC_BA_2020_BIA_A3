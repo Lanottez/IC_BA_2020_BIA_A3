{
 "cells": [
  {
   "cell_type": "markdown",
   "metadata": {},
   "source": [
    "# <div align=\"center\"> Client Case: OG&Gym</div>\n",
    "## <div align=\"center\"> Analytics in Business</div>\n",
    "### <div align=\"center\"> Appendix</div>\n",
    "\n",
    "<div align=\"center\">25/1/2021</div>\n",
    "\n",
    "<br><div align=\"center\"> By Group A3: </div>\n",
    "<div align=\"center\"> Jiaqi Chen, Yuxi Fu, Jiaxuan Lyu, Maria Tsotalou, Qian Zhang </div>"
   ]
  },
  {
   "cell_type": "markdown",
   "metadata": {},
   "source": [
    "### Initialisation"
   ]
  },
  {
   "cell_type": "code",
   "execution_count": 61,
   "metadata": {},
   "outputs": [],
   "source": [
    "import pandas as pd\n",
    "import numpy as np\n",
    "import math\n",
    "from datetime import datetime\n",
    "import matplotlib.pyplot as plt\n",
    "import seaborn as sns"
   ]
  },
  {
   "cell_type": "code",
   "execution_count": 62,
   "metadata": {},
   "outputs": [],
   "source": [
    "data_path = \"./data/\""
   ]
  },
  {
   "cell_type": "code",
   "execution_count": 63,
   "metadata": {},
   "outputs": [],
   "source": [
    "### Initial data loading \n",
    "subscriptions = pd.read_csv(data_path + 'subscriptionsdataFINAL.csv') "
   ]
  },
  {
   "cell_type": "code",
   "execution_count": 64,
   "metadata": {},
   "outputs": [],
   "source": [
    "visitation_part1 = pd.read_csv(data_path +'visitationdataPART1.csv') \n",
    "visitation_part2 = pd.read_csv(data_path +'visitationdataPART2.csv') "
   ]
  },
  {
   "cell_type": "markdown",
   "metadata": {},
   "source": [
    "### 1. Revenue "
   ]
  },
  {
   "cell_type": "code",
   "execution_count": 65,
   "metadata": {},
   "outputs": [],
   "source": [
    "#Membership net flow\n",
    "def calculate_revenue_flexible(Date,net_member):\n",
    "    date_while_price_changed = pd.Timestamp('2016-01-01') \n",
    "    if Date < date_while_price_changed:\n",
    "        return net_member * 25.99\n",
    "    elif Date >= date_while_price_changed:\n",
    "        return net_member * 30.99\n",
    "    \n",
    "def calculate_revenue_standard(Date,net_member):\n",
    "    date_while_price_changed = pd.Timestamp('2016-01-01') \n",
    "    if Date < date_while_price_changed:\n",
    "        return net_member * 20.99\n",
    "    elif Date >= date_while_price_changed:\n",
    "        return net_member * 26.99 \n",
    "\n",
    "def data_manipulation_for_revenue(subscriptions):\n",
    "    df = subscriptions.copy()\n",
    "    \n",
    "    df['Join Date'] =  pd.to_datetime(df['Join Date'].str.upper(), format='%b-%y', yearfirst=False)\n",
    "    df['Join_year'] = pd.DatetimeIndex(df['Join Date']).year\n",
    "    df['End Date'] =  pd.to_datetime(df['End Date'].str.upper(), format='%b-%y', yearfirst=False)\n",
    "    \n",
    "    date_min = min (df['Join Date'].min(),df['End Date'].min() )\n",
    "    date_max = max (df['Join Date'].max(),df['End Date'].max() )\n",
    "    df['Duration'] = np.where(df['End Date'].isna(), \n",
    "                                         (date_max - df['Join Date']), \n",
    "                                         (df['End Date'] - df['Join Date']) )\n",
    "    df['Duration'] = (df['Duration'] /  np.timedelta64(1, 'M') ).apply(math.floor)\n",
    "    df.loc[(df.Duration <= 2),'Duration']=2\n",
    "    def extend_early_standard_to_three_months(join_date,duration):\n",
    "        return join_date + pd.DateOffset(months=duration)\n",
    "    df['End Date']=df.apply(lambda row: extend_early_standard_to_three_months(row['Join Date'], row['Duration']),axis=1)\n",
    "    df=df.drop(columns=['Duration'])\n",
    "    \n",
    "    \n",
    "    member_joined_data = df.groupby(['Join Date','Subscription Type']).size().reset_index(name='Number_of_member_joined')\n",
    "    member_joined_data = member_joined_data.rename(columns={'Join Date': \"Date\"})\n",
    "\n",
    "    member_left_data = df.groupby(['End Date','Subscription Type']).size().reset_index(name='Number_of_member_left')\n",
    "    member_left_data=member_left_data.rename(columns={'End Date': \"Date\"})\n",
    "    member_left_data['Date']=member_left_data['Date'] + pd.DateOffset(months=1)\n",
    "\n",
    "    member_data = pd.merge(member_joined_data,member_left_data,on = ['Subscription Type','Date'],how='outer').sort_index().replace({np.nan:0})\n",
    "    member_data['net_member'] = member_data['Number_of_member_joined'] - member_data['Number_of_member_left'] \n",
    "    member_data = member_data.drop(columns = ['Number_of_member_joined', 'Number_of_member_left'])\n",
    "\n",
    "    Members_per_subscription = pd.DataFrame(member_data.groupby(['Date', 'Subscription Type']).sum())\n",
    "    Cumulative_Members = Members_per_subscription.cumsum().reset_index()\n",
    "    Cumulative_Members = Cumulative_Members.rename(columns={\"net_member\": \"Cumulative members\"}) \n",
    "    \n",
    "    Cumulative_Members_revenue = Cumulative_Members.copy()\n",
    "    Cumulative_Members_revenue['Flexible_revenue'] = Cumulative_Members[Cumulative_Members[\"Subscription Type\"]==\"Flexible\"].apply(lambda row: calculate_revenue_flexible(row['Date'], row['Cumulative members']),axis=1)\n",
    "    Cumulative_Members_revenue['Standard_revenue'] = Cumulative_Members[Cumulative_Members[\"Subscription Type\"]==\"Standard\"].apply(lambda row: calculate_revenue_standard(row['Date'], row['Cumulative members']),axis=1)\n",
    "    \n",
    "    Cumulative_Members_revenue_total = Cumulative_Members_revenue.copy()\n",
    "    Cumulative_Members_revenue_total = Cumulative_Members_revenue_total.groupby('Date').sum()\n",
    "    Cumulative_Members_revenue_total['Total revenue'] = Cumulative_Members_revenue_total['Flexible_revenue'] \n",
    "    + Cumulative_Members_revenue_total['Standard_revenue']\n",
    "\n",
    "    Cumulative_Members_revenue_total['Revenue_growth'] = Cumulative_Members_revenue_total['Total revenue'].pct_change()\n",
    "\n",
    "    Cumulative_Members_revenue_total.reset_index(inplace=True)\n",
    "    #Cumulative_revenue_growth.reset_index(inplace=True)\n",
    "\n",
    "    Cumulative_revenue_yearly = Cumulative_Members_revenue_total.copy()\n",
    "    Cumulative_revenue_yearly = Cumulative_revenue_yearly.drop(columns=['Cumulative members']) \n",
    "\n",
    "    Cumulative_revenue_yearly['year'] = pd.DatetimeIndex(Cumulative_revenue_yearly['Date']).year\n",
    "    Cumulative_revenue_yearly = pd.DataFrame(Cumulative_revenue_yearly.groupby('year').sum() )\n",
    "    Cumulative_revenue_yearly = Cumulative_revenue_yearly.drop([2019])\n",
    "    Cumulative_revenue_yearly['Revenue_growth'] = Cumulative_revenue_yearly['Total revenue'].pct_change()\n",
    "    Cumulative_revenue_yearly.reset_index(inplace=True)\n",
    "\n",
    "    return Cumulative_Members_revenue_total, Cumulative_revenue_yearly"
   ]
  },
  {
   "cell_type": "code",
   "execution_count": null,
   "metadata": {},
   "outputs": [],
   "source": []
  },
  {
   "cell_type": "code",
   "execution_count": 66,
   "metadata": {},
   "outputs": [],
   "source": [
    "def plot_monthly_revenue():\n",
    "    plt.figure(figsize=(6,6))\n",
    "    plt.plot(Cumulative_Members_revenue_total['Date'], Cumulative_Members_revenue_total['Total revenue'])\n",
    "    plt.title('Revenue Over Time')\n",
    "    plt.ylabel('Revenue')\n",
    "    plt.xlabel('Date')\n",
    "    plt.axvline(x=datetime.strptime('2016-01-01', '%Y-%m-%d'), linestyle='--', color = 'r')\n",
    "    plt.show()\n",
    "                                                                                        \n",
    "#plot_monthly_revenue()"
   ]
  },
  {
   "cell_type": "code",
   "execution_count": 67,
   "metadata": {},
   "outputs": [],
   "source": [
    "def plot_growth_yearly_mothly():\n",
    "    plt.figure(figsize=(6,6))\n",
    "    plt.plot(Cumulative_Members_revenue_total['Date'], Cumulative_Members_revenue_total['Revenue_growth'])\n",
    "    plt.title('Revenue Growth over Time')\n",
    "    plt.ylabel('Revenue')\n",
    "    plt.xlabel('Date')\n",
    "    plt.axvline(x=datetime.strptime('2016-01-01', '%Y-%m-%d'), linestyle='--', color = 'r')\n",
    "    plt.show()\n",
    "                                                                         \n",
    "#plot_growth_yearly_mothly()"
   ]
  },
  {
   "cell_type": "code",
   "execution_count": 68,
   "metadata": {},
   "outputs": [],
   "source": [
    "def plot_growth_yearly_revenue():\n",
    "    plt.figure(figsize=(6,6))\n",
    "    plt.plot(Cumulative_revenue_yearly['year'], Cumulative_revenue_yearly['Revenue_growth'])\n",
    "    plt.title('Total Revenue Growth Over years')\n",
    "    plt.ylabel('Revenue')\n",
    "    plt.xlabel('Year')\n",
    "  #  plt.axvline(x=2016, linestyle='--', color = 'r')\n",
    "    plt.show()\n",
    "\n",
    "#plot_growth_yearly_revenue()    "
   ]
  },
  {
   "cell_type": "code",
   "execution_count": 69,
   "metadata": {},
   "outputs": [],
   "source": [
    "def plot_bar_yearly_revenue():\n",
    "    r =  np.arange(2009,2019)\n",
    "    Total_revenue = Cumulative_revenue_yearly['Total revenue']\n",
    "    plt.ylabel('Pound')\n",
    "    plt.bar(r, Total_revenue)\n",
    "    plt.title('Yearly Revenue')\n",
    "#plot_bar_yearly_revenue()"
   ]
  },
  {
   "cell_type": "markdown",
   "metadata": {},
   "source": [
    "### 2. Churn"
   ]
  },
  {
   "cell_type": "markdown",
   "metadata": {},
   "source": [
    "### 2.1 Churn related basic functions"
   ]
  },
  {
   "cell_type": "code",
   "execution_count": 70,
   "metadata": {},
   "outputs": [],
   "source": [
    "def add_count(join_date, duration, dates, members_count):\n",
    "    index = (dates == join_date).argmax()\n",
    "    \n",
    "    for i in range(index,index + duration+1):\n",
    "        members_count[i] = members_count[i] +1 \n",
    "    \n",
    "    return members_count"
   ]
  },
  {
   "cell_type": "code",
   "execution_count": 71,
   "metadata": {},
   "outputs": [],
   "source": [
    "##create list with count of members in each month\n",
    "def basic_data_manipulation_for_churn(subscriptions):\n",
    "\n",
    "    #convert the join and end date to_date\n",
    "    subscriptions['Join Date'] =  pd.to_datetime(subscriptions['Join Date'].str.upper(), format='%b-%y', yearfirst=False)\n",
    "    subscriptions['End Date'] =  pd.to_datetime(subscriptions['End Date'].str.upper(), format='%b-%y', yearfirst=False)\n",
    "    \n",
    "    date_min = min (subscriptions['Join Date'].min(),subscriptions['End Date'].min() )\n",
    "    date_max = max (subscriptions['Join Date'].max(),subscriptions['End Date'].max() )\n",
    "    dates = pd.date_range(date_min, date_max, freq = 'MS')\n",
    "\n",
    "    ##we need to know each month kow many activemembers we have to calculate the churn \n",
    "    ##create the dataframe to help us calculate it\n",
    "    customers_total = pd.DataFrame({'Date':dates})\n",
    "\n",
    "    ##add total month membership in dataframe subscriptions\n",
    "    subscriptions['Duration'] = np.where(subscriptions['End Date'].isna(), \n",
    "                                         (date_max - subscriptions['Join Date']), \n",
    "                                         (subscriptions['End Date'] - subscriptions['Join Date']) )\n",
    "    ##convert the difference in months\n",
    "    subscriptions['Duration'] = (subscriptions['Duration'] /  np.timedelta64(1, 'M') ).apply(math.floor)\n",
    "    \n",
    "    return(subscriptions, dates)\n",
    "    \n",
    "    \n",
    "def create_list_count_members_each_month(subsc_data):\n",
    "  \n",
    "    subscriptions  = subsc_data.copy()\n",
    "    subscriptions, dates = basic_data_manipulation_for_churn(subscriptions)\n",
    "    \n",
    "    members_count =  [0] * len(dates)\n",
    "    subscriptions.apply(lambda row: add_count(row['Join Date'], row['Duration'],\n",
    "                                              dates, members_count), axis=1)\n",
    "    customers_total = pd.DataFrame()\n",
    "    customers_total['Date'] = dates\n",
    "    customers_total['Members'] = members_count\n",
    "\n",
    "\n",
    "    ## members join \n",
    "    join_frame = subscriptions.groupby(['Join Date']).count()['CustomerID'].reset_index()\n",
    "    join_frame = join_frame.rename(columns={'Join Date':'Date','CustomerID':'New Members' })\n",
    "    customers_total = pd.merge(customers_total, join_frame, on = 'Date', how='outer')\n",
    "    customers_total\n",
    "\n",
    "    ##calulate membership growth =  number of new members subscription / total members\n",
    "    customers_total['Membership Growth']= customers_total['New Members'] / (customers_total['Members'] - customers_total['New Members'])\n",
    "    customers_total['Membership Growth'] =  customers_total['Membership Growth'].replace([np.inf, -np.inf], np.nan) \n",
    "    #customers_total\n",
    "\n",
    "\n",
    "    ## members leave \n",
    "    end_frame = subscriptions.groupby(['End Date']).count()['CustomerID'].reset_index()\n",
    "    end_frame = end_frame.rename(columns={'End Date':'Date','CustomerID':'Cancellations' })\n",
    "    customers_total = pd.merge(customers_total, end_frame, on = 'Date', how='outer')\n",
    "    #customers_total\n",
    "\n",
    "    ##calulate churn =  number of ending subscription / total members\n",
    "    customers_total['Churn']= customers_total['Cancellations'] / customers_total['Members']\n",
    "\n",
    "    return customers_total\n",
    "\n",
    "#customers_total = create_list_count_members_each_month(subscriptions)\n",
    "\n",
    "\n",
    "\n",
    "def create_list_count_members_yearly(subsc_data):\n",
    "   \n",
    "    customers_total = create_list_count_members_each_month(subsc_data)\n",
    "    customers_total['year'] =  pd.DatetimeIndex(customers_total['Date']).year\n",
    "    customers_total_yearly = pd.DataFrame(customers_total.groupby('year').sum() )\n",
    "    customers_total_yearly['Members growth'] = customers_total_yearly['Members'].pct_change()\n",
    "    customers_total_yearly.reset_index(inplace=True)\n",
    "    return customers_total_yearly\n",
    "\n",
    "\n",
    "def plot_members_yearly(subsc_data):\n",
    "\n",
    "    plt.figure(figsize=(6,10))\n",
    "    customers_total_yearly = create_list_count_members_yearly(subsc_data)\n",
    "    plt.plot(customers_total_yearly['year'], customers_total_yearly['Members growth'])\n",
    "    plt.title('Total Memebrs Growth Over years')\n",
    "    plt.ylabel('Memebers growth')\n",
    "    plt.xlabel('Year')\n",
    "    plt.axvline(x=2016, linestyle='--', color = 'r')\n",
    "    plt.show()\n",
    "    return"
   ]
  },
  {
   "cell_type": "code",
   "execution_count": 72,
   "metadata": {},
   "outputs": [],
   "source": [
    "def plot_members_yearly_wrap():\n",
    "    plot_members_yearly(subscriptions)"
   ]
  },
  {
   "cell_type": "markdown",
   "metadata": {},
   "source": [
    "### 2.2 Churn total  functions"
   ]
  },
  {
   "cell_type": "code",
   "execution_count": 73,
   "metadata": {},
   "outputs": [],
   "source": [
    "#Churn rate vs Time Graph\n",
    "def plot_churn_total():\n",
    "    plt.figure(figsize=(6,6))\n",
    "    customers_total = create_list_count_members_each_month(subscriptions)\n",
    "    plt.plot(customers_total['Date'], customers_total['Churn'])\n",
    "    plt.title('Churn rate Over Time')\n",
    "    plt.ylabel('Churn rate')\n",
    "    plt.xlabel('Date')\n",
    "    plt.axvline(x=datetime.strptime('2016-01-01', '%Y-%m-%d'), linestyle='--', color = 'r')\n",
    "    plt.show()\n",
    "#plot_churn_total()"
   ]
  },
  {
   "cell_type": "code",
   "execution_count": 74,
   "metadata": {},
   "outputs": [],
   "source": [
    "#Members number vs Time Graph\n",
    "def plot_members_total():\n",
    "    plt.figure(figsize=(6,6))\n",
    "    customers_total = create_list_count_members_each_month(subscriptions)\n",
    "    plt.plot(customers_total['Date'], customers_total['Members'])\n",
    "    plt.title('Members\\' number Over Time')\n",
    "    plt.ylabel('Members')\n",
    "    plt.xlabel('Date')\n",
    "    plt.axvline(x=datetime.strptime('2016-01-01', '%Y-%m-%d'), linestyle='--', color = 'r')\n",
    "    plt.show()\n",
    "#plot_members_total()"
   ]
  },
  {
   "cell_type": "code",
   "execution_count": 75,
   "metadata": {},
   "outputs": [],
   "source": [
    "#Members number vs Time Graph\n",
    "def plot_members_growth_total():\n",
    "    plt.figure(figsize=(6,6))\n",
    "    customers_total = create_list_count_members_each_month(subscriptions)\n",
    "    plt.plot(customers_total['Date'], customers_total['Membership Growth'])\n",
    "    plt.title('Membership Growth Over Time')\n",
    "    plt.ylabel('Membership Growth')\n",
    "    plt.xlabel('Date')\n",
    "    plt.axvline(x=datetime.strptime('2016-01-01', '%Y-%m-%d'), linestyle='--', color = 'r')\n",
    "    plt.show()\n",
    "#plot_members_growth_total()"
   ]
  },
  {
   "cell_type": "markdown",
   "metadata": {},
   "source": [
    "### 2.3 Churn per population segments"
   ]
  },
  {
   "cell_type": "code",
   "execution_count": 76,
   "metadata": {},
   "outputs": [],
   "source": [
    "#Churn population breakdown\n",
    "def get_members_churn_growth(column_name, traits, subsc_data ):\n",
    "   \n",
    "    subscriptions  = subsc_data.copy()\n",
    "    subscriptions, dates = basic_data_manipulation_for_churn(subscriptions)\n",
    "\n",
    "    members_count_trait = {trait:([0]*len(dates))  for trait in traits}\n",
    "    subscriptions_pertrait = subscriptions.groupby(subscriptions[column_name])\n",
    "    for trait in traits:\n",
    "        subscriptions_pertrait.get_group(trait).apply(lambda row : add_count(row['Join Date'], row['Duration'],\n",
    "                                                       dates, members_count_trait[trait]), axis=1 )\n",
    "\n",
    "    \n",
    "\n",
    "    members_per_trait = pd.DataFrame({'Date':dates,column_name:traits[0], 'Members':members_count_trait[traits[0]]})\n",
    "\n",
    "    for trait in traits[1:]:\n",
    "        trait_list = [trait]*len(dates);\n",
    "        trait_df = pd.DataFrame({'Date':dates, column_name:trait_list, 'Members':members_count_trait[trait]})\n",
    "        members_per_trait = pd.merge(members_per_trait, trait_df, on = ['Date',column_name,'Members'], how='outer')\n",
    "\n",
    "    members_per_trait['Members'] = members_per_trait['Members'].replace(0,np.nan)\n",
    "    #members_per_trait.to_csv(r'members_per_trait.csv')\n",
    "\n",
    "    ## members join per trait\n",
    "    join_frame_trait = subscriptions.groupby(['Join Date', column_name]).count()['CustomerID'].reset_index()\n",
    "    join_frame_trait = join_frame_trait.rename(columns={'Join Date':'Date','CustomerID':'New Members' })\n",
    "    members_per_trait = pd.merge(members_per_trait, join_frame_trait, on = ['Date', column_name], how='outer')\n",
    "\n",
    "    ##calulate membership growth =  number of new members subscription / total members\n",
    "    members_per_trait['Membership Growth']= members_per_trait['New Members'] / (members_per_trait['Members'] - members_per_trait['New Members'])\n",
    "    members_per_trait['Membership Growth'] = members_per_trait['Membership Growth'].replace([np.inf, -np.inf], np.nan) \n",
    "\n",
    "    ## members leave per trait\n",
    "    cancel_frame_trait = subscriptions.groupby(['End Date', column_name]).count()['CustomerID'].reset_index()\n",
    "    cancel_frame_trait = cancel_frame_trait.rename(columns={'End Date':'Date','CustomerID':'Cancellations' })\n",
    "    members_per_trait = pd.merge(members_per_trait, cancel_frame_trait, on = ['Date',column_name], how='outer')\n",
    "\n",
    "    ##calulate churn =  number of ending subscription / total members\n",
    "    members_per_trait['Churn']= members_per_trait['Cancellations'] / members_per_trait['Members']\n",
    "\n",
    "    return members_per_trait"
   ]
  },
  {
   "cell_type": "code",
   "execution_count": 77,
   "metadata": {},
   "outputs": [],
   "source": [
    "def plot_all_levels_(traits, members_per_trait, column_name, behaviour):\n",
    "    plt.figure(figsize=(8,8))  \n",
    "    for trait in traits:\n",
    "        df_trait = members_per_trait[members_per_trait[column_name] == trait]\n",
    "        plt.plot(df_trait[\"Date\"], df_trait[behaviour], label = trait, alpha=0.7)\n",
    "    plt.legend()"
   ]
  },
  {
   "cell_type": "code",
   "execution_count": 78,
   "metadata": {},
   "outputs": [],
   "source": [
    "def plot_all_levels_churn(traits, members_per_trait, column_name):\n",
    "    plot_all_levels_(traits, members_per_trait, column_name, \"Churn\")"
   ]
  },
  {
   "cell_type": "code",
   "execution_count": 79,
   "metadata": {},
   "outputs": [],
   "source": [
    "def plot_all_levels_growth(traits, members_per_trait, column_name):\n",
    "    plot_all_levels_(traits, members_per_trait, column_name, \"Membership Growth\")"
   ]
  },
  {
   "cell_type": "code",
   "execution_count": 80,
   "metadata": {},
   "outputs": [],
   "source": [
    "def plot_all_levels_members_proportion(traits, members_per_trait, column_name):\n",
    "    members_total = members_per_trait.groupby('Date')[\"Members\"].sum().rename(\"Members_Total\").reset_index()\n",
    "    df = members_per_trait\n",
    "    df = df.merge(members_total)\n",
    "    df[\"Member proportion\"] = df[\"Members\"] / df[\"Members_Total\"]\n",
    "\n",
    "    plt.figure(figsize=(8,8))  \n",
    "    for trait in traits:\n",
    "        df_trait = df[df[column_name] == trait]\n",
    "        plt.plot(df_trait[\"Date\"], df_trait[\"Member proportion\"], label = trait, alpha=0.7)\n",
    "    plt.legend()"
   ]
  },
  {
   "cell_type": "code",
   "execution_count": 81,
   "metadata": {},
   "outputs": [],
   "source": [
    "#gender trait\n",
    "def get_gender_levels(subscriptions):\n",
    "    genders = subscriptions.Gender.unique()\n",
    "    members_per_gender = get_members_churn_growth('Gender', genders, subscriptions)\n",
    "    return (genders, members_per_gender)\n",
    "\n",
    "def plot_churn_by_gender():\n",
    "    genders, members_per_gender = get_gender_levels(subscriptions)\n",
    "    plot_all_levels_churn(genders, members_per_gender, 'Gender')\n",
    "\n",
    "def plot_proportion_by_gender():\n",
    "    genders, members_per_gender = get_gender_levels(subscriptions)\n",
    "    plot_all_levels_members_proportion(genders, members_per_gender, 'Gender')"
   ]
  },
  {
   "cell_type": "code",
   "execution_count": 82,
   "metadata": {},
   "outputs": [],
   "source": [
    "#plot_churn_by_gender()"
   ]
  },
  {
   "cell_type": "code",
   "execution_count": 83,
   "metadata": {},
   "outputs": [],
   "source": [
    "#plot_proportion_by_gender()"
   ]
  },
  {
   "cell_type": "code",
   "execution_count": 84,
   "metadata": {},
   "outputs": [],
   "source": [
    "#affluence trait\n",
    "def get_affluence_levels(subscriptions):\n",
    "    affluence_levels = subscriptions.Affluence.unique()\n",
    "    members_per_affluence = get_members_churn_growth('Affluence', affluence_levels, subscriptions)\n",
    "    return (affluence_levels, members_per_affluence)\n",
    "\n",
    "def plot_churn_by_affluence():\n",
    "    affluence_levels, members_per_affluence = get_affluence_levels(subscriptions)\n",
    "    plot_all_levels_churn(affluence_levels, members_per_affluence, 'Affluence')\n",
    "\n",
    "def plot_proportion_by_affluence():\n",
    "    affluence_levels, members_per_affluence = get_affluence_levels(subscriptions)\n",
    "    plot_all_levels_members_proportion(affluence_levels, members_per_affluence, 'Affluence')\n"
   ]
  },
  {
   "cell_type": "code",
   "execution_count": 85,
   "metadata": {},
   "outputs": [],
   "source": [
    "#plot_churn_by_affluence()"
   ]
  },
  {
   "cell_type": "code",
   "execution_count": 86,
   "metadata": {},
   "outputs": [],
   "source": [
    "#plot_proportion_by_affluence()"
   ]
  },
  {
   "cell_type": "code",
   "execution_count": 87,
   "metadata": {},
   "outputs": [],
   "source": [
    "#Churn population breakdown\n",
    "def get_members_churn_growth_age(column_name, traits, subsc_data ):\n",
    " \n",
    "    subscriptions = subsc_data.copy()\n",
    "\n",
    "    date_min = min (subscriptions['Join Date'].min(),subscriptions['End Date'].min() )\n",
    "    date_max = max (subscriptions['Join Date'].max(),subscriptions['End Date'].max() )\n",
    "    dates = pd.date_range(date_min, date_max, freq = 'MS')\n",
    "    \n",
    "    members_count_trait = {trait:([0]*len(dates))  for trait in traits}\n",
    "    subscriptions_pertrait = subscriptions.groupby(subscriptions[column_name])\n",
    "    for trait in traits:\n",
    "        subscriptions_pertrait.get_group(trait).apply(lambda row : add_count(row['Join Date'], row['Duration'],\n",
    "                                                       dates, members_count_trait[trait]), axis=1 )\n",
    "\n",
    "    \n",
    "\n",
    "    members_per_trait = pd.DataFrame({'Date':dates,column_name:traits[0], 'Members':members_count_trait[traits[0]]})\n",
    "\n",
    "    for trait in traits[1:]:\n",
    "        trait_list = [trait]*len(dates);\n",
    "        trait_df = pd.DataFrame({'Date':dates, column_name:trait_list, 'Members':members_count_trait[trait]})\n",
    "        members_per_trait = pd.merge(members_per_trait, trait_df, on = ['Date',column_name,'Members'], how='outer')\n",
    "\n",
    "    members_per_trait['Members'] = members_per_trait['Members'].replace(0,np.nan)\n",
    "    #members_per_trait.to_csv(r'members_per_trait.csv')\n",
    "\n",
    "    ## members join per trait\n",
    "    join_frame_trait = subscriptions.groupby(['Join Date', column_name]).count()['CustomerID'].reset_index()\n",
    "    join_frame_trait = join_frame_trait.rename(columns={'Join Date':'Date','CustomerID':'New Members' })\n",
    "    members_per_trait = pd.merge(members_per_trait, join_frame_trait, on = ['Date', column_name], how='outer')\n",
    "\n",
    "    ##calulate membership growth =  number of new members subscription / total members\n",
    "    members_per_trait['Membership Growth']= members_per_trait['New Members'] / (members_per_trait['Members'] - members_per_trait['New Members'])\n",
    "    members_per_trait['Membership Growth'] = members_per_trait['Membership Growth'].replace([np.inf, -np.inf], np.nan) \n",
    "\n",
    "    ## members leave per trait\n",
    "    cancel_frame_trait = subscriptions.groupby(['End Date', column_name]).count()['CustomerID'].reset_index()\n",
    "    cancel_frame_trait = cancel_frame_trait.rename(columns={'End Date':'Date','CustomerID':'Cancellations' })\n",
    "    members_per_trait = pd.merge(members_per_trait, cancel_frame_trait, on = ['Date',column_name], how='outer')\n",
    "\n",
    "    ##calulate churn =  number of ending subscription / total members\n",
    "    members_per_trait['Churn']= members_per_trait['Cancellations'] / members_per_trait['Members']\n",
    "\n",
    "    return members_per_trait"
   ]
  },
  {
   "cell_type": "code",
   "execution_count": 88,
   "metadata": {},
   "outputs": [],
   "source": [
    "#Age buckets\n",
    "def define_age_buckets_and_tier_col():\n",
    "\n",
    "    \n",
    "    subscriptions = pd.read_csv(data_path + 'subscriptionsdataFINAL.csv') \n",
    "\n",
    "    #convert the join and end date to_date\n",
    "    subscriptions['Join Date'] =  pd.to_datetime(subscriptions['Join Date'].str.upper(), format='%b-%y', yearfirst=False)\n",
    "    subscriptions['End Date'] =  pd.to_datetime(subscriptions['End Date'].str.upper(), format='%b-%y', yearfirst=False)\n",
    "    \n",
    "    date_min = min (subscriptions['Join Date'].min(),subscriptions['End Date'].min() )\n",
    "    date_max = max (subscriptions['Join Date'].max(),subscriptions['End Date'].max() )\n",
    "    dates = pd.date_range(date_min, date_max, freq = 'MS')\n",
    "\n",
    "    ##we need to know each month kow many activemembers we have to calculate the churn \n",
    "    ##create the dataframe to help us calculate it\n",
    "    customers_total = pd.DataFrame({'Date':dates})\n",
    "\n",
    "    ##add total month membership in dataframe subscriptions\n",
    "    subscriptions['Duration'] = np.where(subscriptions['End Date'].isna(), \n",
    "                                         (date_max - subscriptions['Join Date']), \n",
    "                                         (subscriptions['End Date'] - subscriptions['Join Date']) )\n",
    "    ##convert the difference in months\n",
    "    subscriptions['Duration'] = (subscriptions['Duration'] /  np.timedelta64(1, 'M') ).apply(math.floor)\n",
    "    \n",
    "\n",
    "    subscriptions['Join Age'] = pd.DatetimeIndex(subscriptions[\"Join Date\"]).year - subscriptions[\"BirthYear\"]\n",
    "    subscriptions['End Age'] = np.where(subscriptions['End Date'].isna(),\n",
    "                                ((date_max.year - subscriptions['BirthYear']) ), \n",
    "                               (pd.DatetimeIndex(subscriptions['End Date']).year - subscriptions['BirthYear']) ).astype(int)\n",
    "  \n",
    "        \n",
    "    age_limits = [24, 30, 40]\n",
    "    conditions = [\n",
    "        (subscriptions['Join Age'] <= age_limits[0]),\n",
    "        (subscriptions['Join Age'] > age_limits[0]) & (subscriptions['Join Age'] <= age_limits[1]),\n",
    "        (subscriptions['Join Age'] > age_limits[1]) & (subscriptions['Join Age'] <= age_limits[2]),\n",
    "        (subscriptions['Join Age'] > age_limits[2])     ]\n",
    "\n",
    "    # create a list of the values we want to assign for each condition\n",
    "    values = ['18-24', '25-30', '31-40', '40+']\n",
    "\n",
    "    \n",
    "    subscriptions['Join Age Tier'] = np.select(conditions, values)\n",
    "    subscriptions.groupby('Join Age Tier').count()\n",
    "    \n",
    "    return subscriptions    "
   ]
  },
  {
   "cell_type": "code",
   "execution_count": 89,
   "metadata": {},
   "outputs": [],
   "source": [
    "def plot_churn_by_age():  \n",
    "    subscriptions = define_age_buckets_and_tier_col()\n",
    "    age = subscriptions['Join Age Tier'].unique()\n",
    "    members_per_age = get_members_churn_growth_age('Join Age Tier', age,subscriptions )\n",
    "    plot_all_levels_churn(age, members_per_age, 'Join Age Tier')\n",
    "\n",
    "def plot_proportion_by_age():\n",
    "    subscriptions = define_age_buckets_and_tier_col()\n",
    "    age = subscriptions['Join Age Tier'].unique()\n",
    "    members_per_age = get_members_churn_growth_age('Join Age Tier', age, subscriptions)\n",
    "    plot_all_levels_members_proportion(age, members_per_age, 'Join Age Tier')\n",
    "    \n",
    "#def plot_growth_by_age():\n",
    "#    subscriptions = define_age_buckets_and_tier_col()\n",
    "    age = subscriptions['Join Age Tier'].unique()\n",
    "    members_per_age = get_members_churn_growth_age('Join Age Tier', age, subscriptions)\n",
    "    plot_all_levels_growth(age, members_per_age, 'Join Age Tier')"
   ]
  },
  {
   "cell_type": "code",
   "execution_count": 90,
   "metadata": {},
   "outputs": [],
   "source": [
    "def plot_churn_by_age_wrap():\n",
    "     plot_churn_by_age()"
   ]
  },
  {
   "cell_type": "code",
   "execution_count": 91,
   "metadata": {},
   "outputs": [
    {
     "data": {
      "image/png": "[encoded data removed]",
      "text/plain": [
       "<Figure size 576x576 with 1 Axes>"
      ]
     },
     "metadata": {
      "needs_background": "light"
     },
     "output_type": "display_data"
    }
   ],
   "source": [
    "#plot_churn_by_age()"
   ]
  },
  {
   "cell_type": "code",
   "execution_count": 56,
   "metadata": {},
   "outputs": [],
   "source": [
    "def plot_proportion_by_age_wrap():\n",
    "    plot_proportion_by_age()"
   ]
  },
  {
   "cell_type": "code",
   "execution_count": null,
   "metadata": {},
   "outputs": [],
   "source": [
    "def plot_growth_by_age_wrap():\n",
    "    plot_growth_by_age()"
   ]
  },
  {
   "cell_type": "code",
   "execution_count": null,
   "metadata": {},
   "outputs": [],
   "source": [
    "#Subscrition trait\n",
    "def get_subscription_type_levels(subscriptions):\n",
    "    subc_types = subscriptions['Subscription Type'].unique()\n",
    "    members_per_subc_types = get_members_churn_growth('Subscription Type', subc_types, subscriptions)\n",
    "    return (subc_types, members_per_subc_types)\n",
    "\n",
    "def plot_churn_by_subscription_type():\n",
    "    subc_types, members_per_subc_types = get_subscription_type_levels(subscriptions)\n",
    "    plot_all_levels_churn(subc_types, members_per_subc_types, 'Subscription Type')\n",
    "    \n",
    "def plot_proportion_by_subscription_type():\n",
    "    subc_types, members_per_subc_types = get_subscription_type_levels(subscriptions)\n",
    "    plot_all_levels_members_proportion(subc_types, members_per_subc_types, 'Subscription Type')"
   ]
  },
  {
   "cell_type": "code",
   "execution_count": null,
   "metadata": {},
   "outputs": [],
   "source": [
    "#plot_churn_by_subscription_type()"
   ]
  },
  {
   "cell_type": "code",
   "execution_count": null,
   "metadata": {},
   "outputs": [],
   "source": [
    "#plot_proportion_by_subscription_type()"
   ]
  },
  {
   "cell_type": "markdown",
   "metadata": {},
   "source": [
    "## 3. Memebership by segmentation"
   ]
  },
  {
   "cell_type": "code",
   "execution_count": null,
   "metadata": {},
   "outputs": [],
   "source": [
    "def data_manipulation_membership(subscr_data,col_name = ' '):\n",
    "    \n",
    "    subscriptions = subscr_data.copy()\n",
    "   \n",
    "    subscriptions['Join Date'] =  pd.to_datetime(subscriptions['Join Date'].str.upper(), format='%b-%y', yearfirst=False)\n",
    "    subscriptions['End Date'] =  pd.to_datetime(subscriptions['End Date'].str.upper(), format='%b-%y', yearfirst=False)\n",
    "\n",
    "    date_min = min (subscriptions['Join Date'].min(),subscriptions['End Date'].min() )\n",
    "    date_max = max (subscriptions['Join Date'].max(),subscriptions['End Date'].max() )\n",
    "    \n",
    "    all_dates = pd.date_range(date_min, date_max, freq = 'Y')\n",
    "    \n",
    "    subscriptions['End Date'] = subscriptions['End Date'].fillna(date_max)\n",
    "    subscriptions[all_dates] = pd.concat([((subscriptions['Join Date'] <= i) & (i <= subscriptions['End Date'])).astype(int) for i in all_dates], axis=1)\n",
    "    \n",
    "    if col_name!='':\n",
    "        ds = subscriptions.groupby(col_name)[all_dates].sum().T \n",
    "    else:\n",
    "        ds = subscriptions[all_dates].sum().T \n",
    "        \n",
    "    return ds\n",
    "        \n",
    "def plot_affluence(col_name = ' '):\n",
    "    ds = data_manipulation_membership(subscriptions,col_name)\n",
    "    ds.plot()\n",
    "    plt.title('Total Active Member')\n",
    "    plt.xlabel('Year')\n",
    "    plt.ylabel('Number of Active Members')\n",
    "    plt.show()\n",
    "    \n",
    "    ds = (ds-ds.shift(1))/ds.shift(1)\n",
    "    ds.plot()\n",
    "    plt.title('Membership Growth Rate')\n",
    "    plt.xlabel('Year')\n",
    "    plt.ylabel('Membership Growth Rate')\n",
    "    plt.show()"
   ]
  },
  {
   "cell_type": "code",
   "execution_count": 117,
   "metadata": {},
   "outputs": [],
   "source": [
    "def plot_affluence_wrap():\n",
    "    plot_affluence('Affluence')"
   ]
  },
  {
   "cell_type": "code",
   "execution_count": null,
   "metadata": {},
   "outputs": [],
   "source": [
    "def data_manipulation_age(subscr_data, col_name = ''):\n",
    "    # join and end age\n",
    "    subscriptions = subscr_data.copy()\n",
    "\n",
    "    subscriptions['Join Date'] =  pd.to_datetime(subscriptions['Join Date'].str.upper(), format='%b-%y', yearfirst=False)\n",
    "    subscriptions['End Date'] =  pd.to_datetime(subscriptions['End Date'].str.upper(), format='%b-%y', yearfirst=False)\n",
    "\n",
    "    \n",
    "    date_min = min (subscriptions['Join Date'].min(),subscriptions['End Date'].min() )\n",
    "    date_max = max (subscriptions['Join Date'].max(),subscriptions['End Date'].max() )\n",
    "    \n",
    "    subscriptions[\"Join Age\"] = pd.DatetimeIndex(subscriptions[\"Join Date\"]).year - subscriptions[\"BirthYear\"]\n",
    "    subscriptions['End Age'] = np.where(subscriptions['End Date'].isna(),\n",
    "                                ((date_max.year - subscriptions['BirthYear']) ), \n",
    "                                (pd.DatetimeIndex(subscriptions['End Date']).year - subscriptions['BirthYear']) ).astype(int)\n",
    "    #define age buckets\n",
    "    age_limits = [24, 30, 40]\n",
    "\n",
    "    conditions = [\n",
    "    (subscriptions['Join Age'] <= age_limits[0]),\n",
    "    (subscriptions['Join Age'] > age_limits[0]) & (subscriptions['Join Age'] <= age_limits[1]),\n",
    "    (subscriptions['Join Age'] > age_limits[1]) & (subscriptions['Join Age'] <= age_limits[2]),\n",
    "    (subscriptions['Join Age'] > age_limits[2])     ]\n",
    "\n",
    "    # create a list of the values we want to assign for each condition\n",
    "    values = ['24', '24-30', '30-40', '40']\n",
    "\n",
    "    subscriptions['Join Age Tier'] = np.select(conditions, values)\n",
    "    \n",
    "    all_dates = pd.date_range(date_min, date_max, freq = 'Y')\n",
    "    subscriptions['End Date'] = subscriptions['End Date'].fillna(date_max)\n",
    "    subscriptions[all_dates] = pd.concat([((subscriptions['Join Date'] <= i) & (i <= subscriptions['End Date'])).astype(int) for i in all_dates], axis=1)\n",
    "\n",
    "    \n",
    "    ds = pd.DataFrame()\n",
    "    if col_name!='':\n",
    "        ds = subscriptions.groupby(col_name)[all_dates].sum().T \n",
    "    else:\n",
    "        ds = subscriptions[all_dates].sum().T \n",
    "    return ds\n",
    "    \n",
    "def plot_age(subscriptions, col_name = ''):\n",
    "    ds = data_manipulation_age(subscriptions, col_name)\n",
    "    \n",
    "    ds.plot()\n",
    "    plt.title('Total Active Member')\n",
    "    plt.xlabel('Year')\n",
    "    plt.ylabel('Number of Active Members')\n",
    "    plt.show()\n",
    "    \n",
    "    ds = (ds-ds.shift(1))/ds.shift(1)\n",
    "    ds.plot()\n",
    "    plt.title('Membership Growth Rate')\n",
    "    plt.xlabel('Year')\n",
    "    plt.ylabel('Membership Growth Rate')\n",
    "    plt.show()"
   ]
  },
  {
   "cell_type": "code",
   "execution_count": null,
   "metadata": {},
   "outputs": [],
   "source": [
    "#plot_age(subscriptions,'Join Age Tier')"
   ]
  },
  {
   "cell_type": "markdown",
   "metadata": {},
   "source": [
    "## 4. Duration analysis Graph  by year"
   ]
  },
  {
   "cell_type": "code",
   "execution_count": 93,
   "metadata": {},
   "outputs": [],
   "source": [
    "subscriptions_duration= subscriptions.copy()\n",
    "subscriptions_duration['Join Date'] =  pd.to_datetime(subscriptions_duration['Join Date'].str.upper(), format='%b-%y', yearfirst=False)\n",
    "subscriptions_duration['End Date'] =  pd.to_datetime(subscriptions_duration['End Date'].str.upper(), format='%b-%y', yearfirst=False)\n",
    "\n",
    "#Calculation of Duration\n",
    "def duration_calc(subscriptions_duration):\n",
    "    \n",
    "    date_min = min (subscriptions_duration['Join Date'].min(),subscriptions_duration['End Date'].min() )\n",
    "    date_max = max (subscriptions_duration['Join Date'].max(),subscriptions_duration['End Date'].max() )\n",
    "    dates = pd.date_range(date_min, date_max, freq = 'MS')\n",
    "    print(date_min)\n",
    "    \n",
    "    subscriptions_duration['Duration'] = np.where(subscriptions_duration['End Date'].isna(), \n",
    "                                           (date_max - subscriptions_duration['Join Date']), \n",
    "                                           (subscriptions_duration['End Date'] - subscriptions_duration['Join Date']) )\n",
    "    subscriptions_duration['Duration'] = (subscriptions_duration['Duration'] /  np.timedelta64(1, 'M') ).apply(math.floor)\n",
    "    duration= subscriptions_duration.groupby(['Join Date', 'Duration']).size().to_frame('Count').reset_index()\n",
    "\n",
    "\n",
    "    #import pandas as pd_frame('Count').reset_index()\n",
    "    return duration"
   ]
  },
  {
   "cell_type": "code",
   "execution_count": 95,
   "metadata": {},
   "outputs": [
    {
     "name": "stdout",
     "output_type": "stream",
     "text": [
      "2009-05-01 00:00:00\n"
     ]
    },
    {
     "data": {
      "image/png": "[encoded data removed]",
      "text/plain": [
       "<Figure size 1800x720 with 10 Axes>"
      ]
     },
     "metadata": {
      "needs_background": "light"
     },
     "output_type": "display_data"
    }
   ],
   "source": [
    "#Duration distribution by year graph\n",
    "def duration_dis_plot():\n",
    "    duration= duration_calc(subscriptions_duration)\n",
    "    duration['year']=duration['Join Date'].dt.year\n",
    "    sns.displot(duration, x=\"Duration\",kde=True, col='year',col_wrap=5)\n",
    "    plt.title('Duration Distribution by year')\n",
    "    plt.show()\n",
    "\n"
   ]
  },
  {
   "cell_type": "code",
   "execution_count": null,
   "metadata": {},
   "outputs": [],
   "source": [
    "def duration_affluence_plot():\n",
    "    duration= duration_calc(subscriptions_duration)\n",
    "    duration= subscriptions_duration.groupby(['Join Date', 'Duration','Affluence']).size().to_frame('Count').reset_index()\n",
    "    sns.displot(duration, x=\"Duration\",col= \"Affluence\",hue='Affluence',col_wrap=3,kind=\"kde\", fill=True)\n",
    "    \n",
    "#duration_affluence_plot()"
   ]
  },
  {
   "cell_type": "code",
   "execution_count": null,
   "metadata": {},
   "outputs": [],
   "source": [
    "def duration_gender_plot():\n",
    "    duration= duration_calc(subscriptions_duration)\n",
    "    duration= subscriptions_duration.groupby(['Join Date', 'Duration','Gender']).size().to_frame('Count').reset_index()\n",
    "    sns.displot(duration, x=\"Duration\",hue='Gender',kind=\"kde\", fill=True)\n",
    "    plt.title('Duration Distribution by Gender')\n",
    "\n",
    "#duration_gender_plot()"
   ]
  },
  {
   "cell_type": "code",
   "execution_count": null,
   "metadata": {},
   "outputs": [],
   "source": [
    "def duration_subscription_type_plot():\n",
    "    duration= duration_calc(subscriptions_duration)\n",
    "    duration= subscriptions_duration.groupby(['Join Date', 'Duration','Subscription Type']).size().to_frame('Count').reset_index()\n",
    "    sns.displot(duration, x=\"Duration\",hue='Subscription Type',kind=\"kde\", fill=True)\n",
    "    plt.title('Duration Distribution by Subscription Type')\n",
    "\n",
    "#duration_subscription_type_plot()"
   ]
  },
  {
   "cell_type": "markdown",
   "metadata": {},
   "source": [
    "## 5. Monthly visitations by season"
   ]
  },
  {
   "cell_type": "code",
   "execution_count": null,
   "metadata": {},
   "outputs": [],
   "source": [
    "#Merging the visitation and subscriptions data together\n",
    "def merging_data():\n",
    "    visit1=visitation_part1#.copy()\n",
    "    visit2=visitation_part2#.copy()\n",
    "    visitdf = pd.concat([visit1, visit2], axis=0, join='inner')\n",
    "    all_data= pd.merge( left= subscriptions, right= visitdf, left_on='CustomerID', right_on='CustomerID')\n",
    "    all_data['visitdate'] =  pd.to_datetime(all_data['visitdate'].str.upper(), format='%Y/%m/%d', yearfirst=False)\n",
    "    all_data['month'] = all_data['visitdate'].dt.month\n",
    "    return all_data"
   ]
  },
  {
   "cell_type": "code",
   "execution_count": null,
   "metadata": {},
   "outputs": [],
   "source": [
    "#Classifying season\n",
    "def classify_season(month):\n",
    "    if  month==6 or month==7 or month==8:\n",
    "        return 'Summer'\n",
    "    elif month==9 or month==10 or month==11:\n",
    "        return 'Autumn'\n",
    "    elif month==12 or month==1 or month==2:\n",
    "        return 'Winter'\n",
    "    else:\n",
    "        return 'Spring'"
   ]
  },
  {
   "cell_type": "code",
   "execution_count": null,
   "metadata": {},
   "outputs": [],
   "source": [
    "# Plot for monthly visitations by season:\n",
    "def plot_season():\n",
    "    all_data = merging_data()\n",
    "    all_data['Season'] = all_data['month'].apply(lambda x : classify_season(x))\n",
    "    freq=all_data.groupby(['CustomerID','month','Season']).size().to_frame('Monthly Visits').reset_index()\n",
    "    sns.displot(freq, x=\"Monthly Visits\",hue='Season',kind=\"kde\", bw_adjust=1.5, fill=True)\n",
    "    plt.title('Monthly Visitation Distribution by Season')\n",
    "    \n",
    "#plot_season()"
   ]
  },
  {
   "cell_type": "markdown",
   "metadata": {},
   "source": [
    "## 6. Customer Profile"
   ]
  },
  {
   "cell_type": "code",
   "execution_count": null,
   "metadata": {},
   "outputs": [],
   "source": [
    "#Calculating active members\n",
    "def active_members(subscr_data):\n",
    "    subscriptions = subscr_data\n",
    "\n",
    "    subscriptions['Join Date'] =  pd.to_datetime(subscriptions['Join Date'].str.upper(), format='%b-%y', yearfirst=False)\n",
    "    subscriptions['End Date'] =  pd.to_datetime(subscriptions['End Date'].str.upper(), format='%b-%y', yearfirst=False)\n",
    "\n",
    "    date_min = min (subscriptions['Join Date'].min(),subscriptions['End Date'].min() )\n",
    "    date_max = max (subscriptions['Join Date'].max(),subscriptions['End Date'].max() )\n",
    "\n",
    "    all_dates = pd.date_range(date_min, date_max, freq = 'Y')\n",
    "    subscriptions['End Date'] = subscriptions['End Date'].fillna(date_max)\n",
    "    subscriptions[all_dates] = pd.concat([((subscriptions['Join Date'] <= i) &\n",
    "                                           (i <= subscriptions['End Date'])).astype(int) for i in all_dates], axis=1)\n",
    "    return subscriptions    "
   ]
  },
  {
   "cell_type": "code",
   "execution_count": null,
   "metadata": {},
   "outputs": [],
   "source": [
    "#Classigying age\n",
    "def classify_age(age):\n",
    "    if   18 <=age<=24:\n",
    "        return '18-24'\n",
    "    elif 25<= age <=30:\n",
    "        return '25-30'\n",
    "    elif 31 <= age <= 40:\n",
    "        return '31-40'\n",
    "    else:\n",
    "        return '41-60'\n",
    "\n",
    "#Data for plotting active members by age \n",
    "def customer_age_data():\n",
    "    df = active_members(subscriptions)\n",
    "    df['age'] = df['Join Date'] - df['BirthYear']   \n",
    "    df['agerange'] = df['age'].apply(lambda x : classify_age(x))\n",
    "    date_min = min (subscriptions['Join Date'].min(),subscriptions['End Date'].min() )\n",
    "    date_max = max (subscriptions['Join Date'].max(),subscriptions['End Date'].max() )\n",
    "    all_dates = pd.date_range(date_min, date_max, freq = 'Y')\n",
    "    df_age=df.groupby('agerange')[all_dates].sum().T\n",
    "    df_age1=df_age.reset_index()\n",
    "    df_age1['year'] = df_age1['index'].dt.year\n",
    "    df_age2=df_age1.drop(columns=('index'), axis=1)\n",
    "    plot_age=df_age2.set_index('year')\n",
    "    plot_age['age:18-24']=plot_age['18-24'] / plot_age.sum(axis=1)\n",
    "    plot_age['age:25-30']=plot_age['25-30'] / plot_age.sum(axis=1)\n",
    "    plot_age['age:31-40']=plot_age['31-40'] / plot_age.sum(axis=1)\n",
    "    plot_age['age:41-60']=plot_age['41-60'] / plot_age.sum(axis=1)\n",
    "    return plot_age\n",
    "\n",
    "# active members by age plot\n",
    "def customer_age_plot():\n",
    "    plot_age= customer_age_data()\n",
    "    plot_age.loc[:,['age:18-24','age:25-30','age:31-40', 'age:41-60']].plot.bar(stacked=True, figsize=(10,7))\n",
    "    leg = plt.legend( loc = 'upper right')\n",
    "    plt.title('Active Members by age')\n",
    "    \n",
    "#customer_age_plot()"
   ]
  },
  {
   "cell_type": "code",
   "execution_count": null,
   "metadata": {},
   "outputs": [],
   "source": [
    "#Data for plotting active members by Gender:\n",
    "def customer_gender_data():\n",
    "    subs_data = subscriptions.copy()\n",
    "    df = active_members(subs_data)\n",
    "        \n",
    "    date_min = min (subs_data['Join Date'].min(),subs_data['End Date'].min() )\n",
    "    date_max = max (subs_data['Join Date'].max(),subs_data['End Date'].max() )\n",
    "    all_dates = pd.date_range(date_min, date_max, freq = 'Y')\n",
    "    df_g=df.groupby('Gender')[all_dates].sum().T\n",
    "    df_g1=df_g.reset_index()\n",
    "    df_g1['year'] = df_g1['index'].dt.year\n",
    "    df_g2=df_g1.drop(columns=('index'), axis=1)\n",
    "    plot_g=df_g2.set_index('year')\n",
    "    plot_g['female']=plot_g['Female'] / plot_g.sum(axis=1)\n",
    "    plot_g['male']=plot_g['Male'] / plot_g.sum(axis=1)\n",
    "    return plot_g\n",
    "\n",
    "\n",
    "# active members by gender plot\n",
    "def customer_gender_graph():\n",
    "    plot_g= customer_gender_data()\n",
    "    plot_g.loc[:,['female','male']].plot.bar(stacked=True, figsize=(10,7))\n",
    "    leg = plt.legend( loc = 'upper right')\n",
    "    plt.title('Active Members by Gender')\n",
    "    \n",
    "#customer_gender_graph()"
   ]
  },
  {
   "cell_type": "code",
   "execution_count": null,
   "metadata": {},
   "outputs": [],
   "source": [
    "# active members by afflunce plot:\n",
    "def customer_affluence_data():\n",
    "    subs_data = subscriptions.copy()\n",
    "    df=active_members(subs_data)\n",
    "    date_min = min (subs_data['Join Date'].min(),subs_data['End Date'].min() )\n",
    "    date_max = max (subs_data['Join Date'].max(),subs_data['End Date'].max() )\n",
    "    all_dates = pd.date_range(date_min, date_max, freq = 'Y')\n",
    "    df_a=df.groupby('Affluence')[all_dates].sum().T\n",
    "    df_a1=df_a.reset_index()\n",
    "    df_a1['year'] = df_a1['index'].dt.year\n",
    "    df_a2=df_a1.drop(columns=('index'), axis=1)\n",
    "    plot_a=df_a2.set_index('year')\n",
    "    plot_a['a']=plot_a['A'] / plot_a.sum(axis=1)\n",
    "    plot_a['b']=plot_a['B'] / plot_a.sum(axis=1)\n",
    "    plot_a['c1']=plot_a['C1'] / plot_a.sum(axis=1)\n",
    "    plot_a['c2']=plot_a['C2'] / plot_a.sum(axis=1)\n",
    "    plot_a['de']=plot_a['DE'] / plot_a.sum(axis=1)\n",
    "    return plot_a\n",
    "\n",
    "def customer_affluence_graph():\n",
    "    plot_a= customer_affluence_data()\n",
    "    plot_a.loc[:,['a','b','c1','c2','de']].plot.bar(stacked=True, figsize=(10,7))\n",
    "    leg = plt.legend( loc = 'upper right')\n",
    "    plt.title('Active Members by Affluence')\n",
    "\n",
    "#customer_affluence_graph()"
   ]
  },
  {
   "cell_type": "code",
   "execution_count": null,
   "metadata": {},
   "outputs": [],
   "source": [
    "# active members by subscription type plot:\n",
    "def customer_sub_type_data():\n",
    "    subs_data = subscriptions.copy()\n",
    "\n",
    "    df=active_members(subs_data)\n",
    "    date_min = min (subs_data['Join Date'].min(),subs_data['End Date'].min() )\n",
    "    date_max = max (subs_data['Join Date'].max(),subs_data['End Date'].max() )\n",
    "    all_dates = pd.date_range(date_min, date_max, freq = 'Y')\n",
    "    df_c=df.groupby('Subscription Type')[all_dates].sum().T\n",
    "    df_c1=df_c.reset_index()\n",
    "    df_c1['year'] = df_c1['index'].dt.year\n",
    "    df_c2=df_c1.drop(columns=('index'), axis=1)\n",
    "    plot_c=df_c2.set_index('year')\n",
    "    plot_c['standard']=plot_c['Standard'] / plot_c.sum(axis=1)\n",
    "    plot_c['flexible']=plot_c['Flexible'] / plot_c.sum(axis=1)\n",
    "    return plot_c\n",
    "\n",
    "\n",
    "# active members by subscriptiontype plot\n",
    "def customer_sub_type_graph():\n",
    "    plot_c= customer_sub_type_data()\n",
    "    plot_c.loc[:,['standard','flexible']].plot.bar(stacked=True, figsize=(10,7))\n",
    "    leg = plt.legend( loc = 'upper right')\n",
    "    plt.title('Active Members by Subscription Type')\n",
    "    \n",
    "#customer_sub_type_graph()"
   ]
  },
  {
   "cell_type": "markdown",
   "metadata": {},
   "source": [
    "## 7. k-Nearest Neighbour Model"
   ]
  },
  {
   "cell_type": "code",
   "execution_count": 115,
   "metadata": {},
   "outputs": [],
   "source": [
    "def normalises_string(data,data_list):\n",
    "    index = data_list.index(data)\n",
    "    return index\n",
    "\n",
    "def normalises_the_data_z_score(input_data):\n",
    "    data_normalised = preprocessing.scale(input_data)\n",
    "    data_normalised = pd.DataFrame(data=data_normalised,columns = list(input_data.columns))\n",
    "    data_normalised['Duration'] = input_data['Duration']\n",
    "    return data_normalised\n",
    "\n",
    "def plot_KNN_model(size_dataset,k_value):\n",
    "    subscriptions_3= subscriptions_2.copy()\n",
    "    subscriptions_3 = pd.merge(subscriptions_3,visitation_peakvisit['Peak_categogy'],on='CustomerID',how='outer')\n",
    "    subscriptions_3 = subscriptions_3[:size_dataset]\n",
    "    subscriptions_4=subscriptions_3.copy().drop(columns=['End Date','CustomerID'])\n",
    "    \n",
    "    for column in subscriptions_4.columns:\n",
    "        if column != 'Duration':\n",
    "            subscriptions_4[column] = subscriptions_4.apply(lambda row: normalises_string(row[column], list(subscriptions_4[column].unique())),axis=1)\n",
    "    if size_dataset == 800:\n",
    "        training_data, validation_data, test_data = subscriptions_4[:400], subscriptions_4[400:600], subscriptions_4[600:] \n",
    "    else: #data_set = 4000\n",
    "        training_data, validation_data, test_data = subscriptions_4[:2000], subscriptions_4[2000:3000], subscriptions_4[3000:] \n",
    " \n",
    "    training_data_normalised = normalises_the_data_z_score(training_data)\n",
    "    validation_data_normalised = normalises_the_data_z_score(validation_data)\n",
    "    test_data_normalised = normalises_the_data_z_score(test_data)\n",
    "    training_data_normalised_x = training_data_normalised.copy().drop(columns=['Duration']).values\n",
    "    training_data_normalised_y = training_data['Duration']\n",
    "\n",
    "    validation_data_normalised_x = validation_data_normalised.copy().drop(columns=['Duration']).values\n",
    "    validation_data_normalised_y = validation_data['Duration']\n",
    "    \n",
    "    scores_list = []\n",
    "    for k in range(1,k_value):\n",
    "        classifier = KNeighborsClassifier(n_neighbors=k)\n",
    "        classifier.fit(training_data_normalised_x, training_data_normalised_y)\n",
    "        validation_data_normalised_y_predicted = classifier.predict(validation_data_normalised_x)\n",
    "        scores_list.append(1-metrics.accuracy_score(validation_data_normalised_y,validation_data_normalised_y_predicted,normalize=True))\n",
    "    scores_list_df = pd.DataFrame(data=scores_list).rename(columns={0: \"Classificaion error(validation data)\"})\n",
    "    scores_list_df['k-value'] = list(range(1,k_value))\n",
    "    scores_list = []\n",
    "    \n",
    "    # The part below is to use the trainning data to predict the training data.\n",
    "    for k in range(1,k_value):\n",
    "        classifier = KNeighborsClassifier(n_neighbors=k)\n",
    "        classifier.fit(training_data_normalised_x, training_data_normalised_y)\n",
    "        training_data_normalised_y_predicted = classifier.predict(training_data_normalised_x)\n",
    "        scores_list.append(1-metrics.accuracy_score(training_data_normalised_y,training_data_normalised_y_predicted,normalize=True))\n",
    "    scores_list_df['Classificaion error(training data)'] = scores_list\n",
    "    plt.plot(scores_list_df['k-value'], scores_list_df['Classificaion error(validation data)'], label = \"Validation data\")\n",
    "    plt.gca().invert_xaxis()\n",
    "    \n",
    "    if size_dataset==800:\n",
    "        plt.title('Classification error, 800 rows, k=1-100')\n",
    "    else:\n",
    "        plt.title('Classification error, 4000 rows, k=1-200')\n",
    "    plt.ylabel('%')\n",
    "    plt.legend()"
   ]
  },
  {
   "cell_type": "code",
   "execution_count": 116,
   "metadata": {},
   "outputs": [],
   "source": [
    "def plot_KNN_model_800():\n",
    "    plot_KNN_model(800,101)\n",
    "    \n",
    "def plot_KNN_model_4000():\n",
    "    plot_KNN_model(4000,201)\n",
    "    \n",
    "def plot_active_member_bar_line():\n",
    "    Cumulative_Members_noseperating_revenue_yearly = Cumulative_Members_seperating_revenue_yearly.copy()\n",
    "    Cumulative_Members_noseperating_revenue_yearly['TotalMember'] = Cumulative_Members_seperating_revenue_yearly['Flexible'] + Cumulative_Members_seperating_revenue_yearly['Standard']\n",
    "    Cumulative_Members_noseperating_revenue_yearly['MemberGrowth'] = Cumulative_Members_noseperating_revenue_yearly['TotalMember'].pct_change()\n",
    "    r =  np.arange(2009,2019)\n",
    "    TotalMember = Cumulative_Members_noseperating_revenue_yearly['TotalMember']\n",
    "    MemberGrowth = Cumulative_Members_noseperating_revenue_yearly['MemberGrowth']\n",
    "    ax=Cumulative_Members_noseperating_revenue_yearly['TotalMember'].plot(kind='bar',label='Cumulative Active Member')\n",
    "    plt.legend(bbox_to_anchor=(0.2, 0.75, 1, 0.75), loc='lower left')\n",
    "    ax2 = ax.twinx()\n",
    "#     Cumulative_Members_noseperating_revenue_yearly['MemberGrowth'].plot(kind='line')\n",
    "    ax2.plot(Cumulative_Members_noseperating_revenue_yearly[['MemberGrowth']].values,label='Growth Rate of Member')\n",
    "    plt.legend(bbox_to_anchor=(0.2, 0.85, 1, 0.85), loc='lower left')\n",
    "    plt.title('Cumulative Active Member and Growth')"
   ]
  },
  {
   "cell_type": "markdown",
   "metadata": {},
   "source": [
    "### Number of clubs overitme"
   ]
  },
  {
   "cell_type": "code",
   "execution_count": null,
   "metadata": {},
   "outputs": [],
   "source": [
    "def number_of_clubs():\n",
    "    subs_data = subscriptions.copy()\n",
    "\n",
    "    df=active_members(subs_data)\n",
    "    df['year'] = df['Join Date'].dt.year\n",
    "    df11=df.groupby(['Club','year']).size().to_frame('Count').reset_index()\n",
    "    df_club=df11.groupby(['Club','year']).size().to_frame('Count').reset_index()\n",
    "    pivotdata = df_club.pivot(index= 'year', columns='Club', values='Count')\n",
    "    pivotdata[\"sum\"] = pivotdata.sum(axis=1)\n",
    "    plotdata=pivotdata.reset_index()\n",
    "    return plotdata\n",
    "\n",
    "def club_plot():\n",
    "    plotdata= number_of_clubs()\n",
    "    plotdata.plot.bar(x='year', y='sum', figsize=(10,7))\n",
    "    plt.title('Number of Clubs Over Time')\n",
    "    \n",
    "#club_plot()"
   ]
  }
 ],
 "metadata": {
  "kernelspec": {
   "display_name": "Python 3",
   "language": "python",
   "name": "python3"
  },
  "language_info": {
   "codemirror_mode": {
    "name": "ipython",
    "version": 3
   },
   "file_extension": ".py",
   "mimetype": "text/x-python",
   "name": "python",
   "nbconvert_exporter": "python",
   "pygments_lexer": "ipython3",
   "version": "3.8.5"
  }
 },
 "nbformat": 4,
 "nbformat_minor": 4
}
