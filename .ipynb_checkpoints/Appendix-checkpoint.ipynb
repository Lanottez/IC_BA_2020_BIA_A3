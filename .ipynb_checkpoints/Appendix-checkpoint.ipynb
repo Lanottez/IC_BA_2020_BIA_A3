{
 "cells": [
  {
   "cell_type": "code",
   "execution_count": 77,
   "metadata": {},
   "outputs": [],
   "source": [
    "import pandas as pd\n",
    "import numpy as np\n",
    "import math\n",
    "\n",
    "\n",
    "from datetime import datetime\n",
    "import matplotlib.pyplot as plt\n",
    "import seaborn as sns"
   ]
  },
  {
   "cell_type": "code",
   "execution_count": 78,
   "metadata": {},
   "outputs": [],
   "source": [
    "## Initial subscription data loading and date handling"
   ]
  },
  {
   "cell_type": "code",
   "execution_count": 79,
   "metadata": {},
   "outputs": [],
   "source": [
    "data_path = \"./data/\""
   ]
  },
  {
   "cell_type": "code",
   "execution_count": 80,
   "metadata": {},
   "outputs": [],
   "source": [
    "#load data\n",
    "subscriptions = pd.read_csv(data_path + 'subscriptionsdataFINAL.csv') "
   ]
  },
  {
   "cell_type": "code",
   "execution_count": 81,
   "metadata": {},
   "outputs": [],
   "source": [
    "#convert the join and end date to_date\n",
    "subscriptions['Join Date'] =  pd.to_datetime(subscriptions['Join Date'].str.upper(), format='%b-%y', yearfirst=False)\n",
    "subscriptions['Join_year'] = pd.DatetimeIndex(subscriptions['Join Date']).year\n",
    "subscriptions['End Date'] =  pd.to_datetime(subscriptions['End Date'].str.upper(), format='%b-%y', yearfirst=False)\n",
    "subscriptions.dropna()\n",
    "\n",
    "\n",
    "date_min = min (subscriptions['Join Date'].min(),subscriptions['End Date'].min() )\n",
    "date_max = max (subscriptions['Join Date'].max(),subscriptions['End Date'].max() )\n",
    "dates = pd.date_range(date_min, date_max, freq = 'MS')\n",
    "\n",
    "##we need to know each month kow many activemembers we have to calculate the churn \n",
    "##create the dataframe to help us calculate it\n",
    "customers_total = pd.DataFrame({'Date':dates})\n",
    "\n",
    "##add total month membership in dataframe subscriptions\n",
    "subscriptions['Duration'] = np.where(subscriptions['End Date'].isna(), \n",
    "                                     (date_max - subscriptions['Join Date']), \n",
    "                                     (subscriptions['End Date'] - subscriptions['Join Date']) )\n",
    "##convert the difference in months\n",
    "subscriptions['Duration'] = (subscriptions['Duration'] /  np.timedelta64(1, 'M') ).apply(math.floor)"
   ]
  },
  {
   "cell_type": "markdown",
   "metadata": {},
   "source": [
    "### Revenue "
   ]
  },
  {
   "cell_type": "markdown",
   "metadata": {},
   "source": [
    " Code for total revenues plot"
   ]
  },
  {
   "cell_type": "code",
   "execution_count": null,
   "metadata": {},
   "outputs": [],
   "source": []
  }
 ],
 "metadata": {
  "kernelspec": {
   "display_name": "Python 3",
   "language": "python",
   "name": "python3"
  },
  "language_info": {
   "codemirror_mode": {
    "name": "ipython",
    "version": 3
   },
   "file_extension": ".py",
   "mimetype": "text/x-python",
   "name": "python",
   "nbconvert_exporter": "python",
   "pygments_lexer": "ipython3",
   "version": "3.8.3"
  }
 },
 "nbformat": 4,
 "nbformat_minor": 4
}
